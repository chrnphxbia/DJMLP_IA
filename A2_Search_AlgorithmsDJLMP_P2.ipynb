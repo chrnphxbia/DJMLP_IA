{
  "nbformat": 4,
  "nbformat_minor": 0,
  "metadata": {
    "kernelspec": {
      "display_name": "Python 3",
      "language": "python",
      "name": "python3"
    },
    "language_info": {
      "codemirror_mode": {
        "name": "ipython",
        "version": 3
      },
      "file_extension": ".py",
      "mimetype": "text/x-python",
      "name": "python",
      "nbconvert_exporter": "python",
      "pygments_lexer": "ipython3",
      "version": "3.7.4"
    },
    "colab": {
      "provenance": []
    }
  },
  "cells": [
    {
      "cell_type": "markdown",
      "metadata": {
        "id": "40b90843"
      },
      "source": [
        "<img src=\"http://meusite.mackenzie.br/rogerio/mackenzie_logo/UPM.2_horizontal_vermelho.jpg\"  width=300, align=\"right\">\n",
        "<br>\n",
        "<br>\n",
        "<br>\n",
        "<br>\n",
        "<br>\n",
        "\n",
        "# **Search Algorithms**\n",
        "---\n"
      ]
    },
    {
      "cell_type": "code",
      "metadata": {
        "id": "rYx9D4GZA5o9",
        "cellView": "form"
      },
      "source": [
        "#@title **Identificação do Grupo**\n",
        "\n",
        "#@markdown Integrantes do Grupo, nome completo em ordem alfabética (*informe \\<RA\\>,\\<nome\\>*)\n",
        "Aluno1 = '10402412, Diego Oliveira Aluizio' #@param {type:\"string\"}\n",
        "Aluno2 = '10396490, Jônatas Garcia de Oliveira' #@param {type:\"string\"}\n",
        "Aluno3 = '10403046, Livia Alabarse' #@param {type:\"string\"}\n",
        "Aluno4 = '10403028, Marina Scabello Martin' #@param {type:\"string\"}\n",
        "Aluno5 = '10265432, Pedro Henrique Araujo Farias' #@param {type:\"string\"}"
      ],
      "execution_count": null,
      "outputs": []
    },
    {
      "cell_type": "markdown",
      "source": [
        "# **Resumo**\n",
        "\n",
        "A tarefa inicial do projeto foi a modelagem do grafo e sua visualização.\n",
        "Para a modelagem, consideramos **12 das cidades mais populosas do estado de São Paulo**. Por fim, foi definido o algoritmo de busca informada que será estudado e implementado."
      ],
      "metadata": {
        "id": "JlCIc2YooBW7"
      }
    },
    {
      "cell_type": "markdown",
      "source": [
        "# **Implementação**\n",
        "\n",
        "\n"
      ],
      "metadata": {
        "id": "FyFHbT8vygVp"
      }
    },
    {
      "cell_type": "markdown",
      "source": [
        "## **1. Grafo das cidades (2,0)**"
      ],
      "metadata": {
        "id": "FfqBeY18MU2l"
      }
    },
    {
      "cell_type": "markdown",
      "source": [
        "###**Definição do grafo e levantamento de dados**\n",
        "\n",
        "Selecionamos **12 das cidades mais populosas do estado de São Paulo** como vértices do grafo. Para determinar as arestas que conectam os vértices, selecionamos as **três cidades mais próximas de cada cidade**. O custo das arestas é a **distância (em inteiros) entre as cidades, em km, considerando um trajeto de carro, segundo o Google Maps**.\n",
        "\n",
        "Para representar o grafo, utilizamos a variável `tree` para armazenar os vértices das cidades, bem como uma lista com suas cidades vizinhas mais próximas, indicando as arestas a serem estabelecidas entre os vértices: `cidade: [vizinha01, vizinha02, vizinha03]`.\n",
        "\n",
        "Vale notar que, como se trata de um grafo não direcionado, caso exista a aresta `(cidade01, cidade02)`, a aresta `(cidade02, cidade01)` será **omitida**.\n",
        "\n",
        "Para atribuir as distâncias correspondentes a cada rota, ou seja, o custo das arestas, foi criado um dicionário `distance` com tuplas da seguinte forma: `(cidade_origem, cidade_destino): distância_em_km`."
      ],
      "metadata": {
        "id": "SoLSeEX-c-eH"
      }
    },
    {
      "cell_type": "code",
      "source": [
        "tree = {\n",
        "    'São Paulo': ['Guarulhos', 'Osasco', 'São Bernardo do Campo'],\n",
        "    'Guarulhos': ['Osasco', 'São Bernardo do Campo'],\n",
        "    'Campinas': ['Jundiaí', 'Sorocaba', 'Barueri'],\n",
        "    'São Bernardo do Campo': ['Santo André'],\n",
        "    'Santo André': ['São Paulo', 'Guarulhos'],\n",
        "    'Osasco': ['Barueri'],\n",
        "    'Sorocaba': ['Barueri', 'Osasco'],\n",
        "    'Ribeirão Preto': ['Campinas', 'Jundiaí'],\n",
        "    'São José dos Campos': ['Guarulhos', 'São Paulo'],\n",
        "    'Santos': ['São Bernardo do Campo', 'Santo André', 'São Paulo'],\n",
        "    'Barueri': ['São Paulo', 'Guarulhos'],\n",
        "    'Jundiaí': ['Osasco', 'Barueri']\n",
        "}\n",
        "\n",
        "distances = {\n",
        "    ('São Paulo', 'Guarulhos'): 21,\n",
        "    ('São Paulo', 'Osasco'): 21,\n",
        "    ('São Paulo', 'São Bernardo do Campo'): 22,\n",
        "    ('Guarulhos', 'Osasco'): 35,\n",
        "    ('Guarulhos', 'São Bernardo do Campo'): 36,\n",
        "    ('Campinas', 'Jundiaí'): 40,\n",
        "    ('Campinas', 'Sorocaba'): 88,\n",
        "    ('Campinas', 'Barueri'): 92,\n",
        "    ('São Bernardo do Campo', 'Santo André'): 9,\n",
        "    ('Santo André', 'São Paulo'): 26,\n",
        "    ('Santo André', 'Guarulhos'): 42,\n",
        "    ('Osasco', 'Barueri'): 12,\n",
        "    ('Sorocaba', 'Barueri'): 74,\n",
        "    ('Sorocaba', 'Osasco'): 84,\n",
        "    ('Ribeirão Preto', 'Campinas'): 224,\n",
        "    ('Ribeirão Preto', 'Jundiaí'): 260,\n",
        "    ('São José dos Campos', 'Guarulhos'): 76,\n",
        "    ('São José dos Campos', 'São Paulo'): 91,\n",
        "    ('Santos', 'São Bernardo do Campo'): 66,\n",
        "    ('Santos', 'Santo André'): 74,\n",
        "    ('Santos', 'São Paulo'): 81,\n",
        "    ('Barueri', 'São Paulo'): 38,\n",
        "    ('Barueri', 'Guarulhos'): 45,\n",
        "    ('Jundiaí', 'Barueri'): 53,\n",
        "    ('Jundiaí', 'Osasco'): 55\n",
        "}"
      ],
      "metadata": {
        "id": "wKqTG2a2qbsl"
      },
      "execution_count": null,
      "outputs": []
    },
    {
      "cell_type": "markdown",
      "source": [
        "###**Criação do Grafo**\n",
        "\n",
        "Para criação do Grafo utilizamos as estruturas definidas anteriormente.\n",
        "\n",
        "Cada \"chave\" do dicionário possui uma sequência de itens \"filhos\", simbolizando as arestas do grafo, e as distâncias são adicionadas acessando a posição correspondente da aresta na estrutura de distância.\n",
        "\n",
        "Um novo grafo `G` é gerado utilizando a chamada `nx.Graph()`. Iterando pelas estruturas `tree` e `distances`, adicionamos os vértices e arestas ao grafo `G`.\n",
        "\n",
        "Em seguida, o grafo é desenhado utilizando as funções da biblioteca `networkx`."
      ],
      "metadata": {
        "id": "8etQ5L_ZfsN_"
      }
    },
    {
      "cell_type": "code",
      "source": [
        "import networkx as nx\n",
        "import matplotlib.pyplot as plt\n",
        "\n",
        "def plottree(tree, distances):\n",
        "  G = nx.Graph()\n",
        "\n",
        "  for parent, children in tree.items():\n",
        "      for child in children:\n",
        "          G.add_edge(parent, child, weight=distances[(parent, child)])\n",
        "\n",
        "  pos = nx.spring_layout(G)\n",
        "  plt.figure(figsize=(10, 8))\n",
        "  nx.draw(G, pos, with_labels=True, arrows=True, node_size=2000,\n",
        "          node_color='lightblue', font_size=10, font_weight='bold')\n",
        "\n",
        "  edge_labels = nx.get_edge_attributes(G, 'weight')\n",
        "  nx.draw_networkx_edge_labels(G, pos, edge_labels=edge_labels, font_color='red')\n",
        "\n",
        "  plt.show()"
      ],
      "metadata": {
        "id": "47WSkdIDxpjM"
      },
      "execution_count": null,
      "outputs": []
    },
    {
      "cell_type": "markdown",
      "source": [
        "## **1.1. Resultados (Testes)**\n",
        "\n",
        "Após alguns testes para o grafo em questão, a visualização mais clara dos dados foi dada pelo layout **spring** (`nx.spring_layout`).\n",
        "\n",
        "Note que o tamanho das arestas na visualização não é proporcional ao custo (distância) associado."
      ],
      "metadata": {
        "id": "vO9xbwBTJDQ7"
      }
    },
    {
      "cell_type": "code",
      "source": [
        "plottree(tree, distances)"
      ],
      "metadata": {
        "id": "mVf_l2YTJPXY",
        "colab": {
          "base_uri": "https://localhost:8080/",
          "height": 836
        },
        "outputId": "932e1626-4b3b-4276-996d-7feeff88f7b9"
      },
      "execution_count": null,
      "outputs": [
        {
          "output_type": "display_data",
          "data": {
            "text/plain": [
              "<Figure size 1000x800 with 1 Axes>"
            ],
            "image/png": "[encoded data removed]"
          },
          "metadata": {}
        }
      ]
    },
    {
      "cell_type": "markdown",
      "source": [
        "## **2. BFS, Breadth-First Search (3,0)**"
      ],
      "metadata": {
        "id": "6yaBdE9xMvUG"
      }
    },
    {
      "cell_type": "code",
      "source": [
        "def make_undirected(tree):\n",
        "    undirected_tree = {}\n",
        "\n",
        "    for node, neighbors in tree.items():\n",
        "        if node not in undirected_tree:\n",
        "            undirected_tree[node] = set()\n",
        "        for neighbor in neighbors:\n",
        "            undirected_tree[node].add(neighbor)\n",
        "            if neighbor not in undirected_tree:\n",
        "                undirected_tree[neighbor] = set()\n",
        "            undirected_tree[neighbor].add(node)\n",
        "\n",
        "    return {node: list(neighbors) for node, neighbors in undirected_tree.items()}"
      ],
      "metadata": {
        "id": "22taPxOahD-D"
      },
      "execution_count": null,
      "outputs": []
    },
    {
      "cell_type": "markdown",
      "source": [
        "\n",
        "\n",
        "O algoritmo de BFS foi construido usando como base o algortitmo de DSF providenciado no Colab de aula com algumas alterações chave. Inicialmente temos a função \"make_undirected\" que serve para transformar a representação do nosso grafo em uma mais legível pelo algoritmo do BFS\n",
        "\n"
      ],
      "metadata": {
        "id": "fLPTJ7uTZ_vC"
      }
    },
    {
      "cell_type": "code",
      "source": [
        "from collections import deque\n",
        "\n",
        "def bfs(tree, start):\n",
        "    tree = make_undirected(tree)\n",
        "    visited = set()  # Conjunto para armazenar nós já visitados\n",
        "    queue = deque([start])\n",
        "    path = []  # Lista para armazenar o caminho percorrido\n",
        "\n",
        "    while queue:\n",
        "        node = queue.popleft()  # Remove da frente da fila\n",
        "        if node not in visited:\n",
        "            visited.add(node)  # Marca o nó como visitado\n",
        "            path.append(node)  # Adiciona o nó ao caminho\n",
        "            print(f\"\\nExplorando vizinhos de: {node}\")  # Mostra de qual nó estamos buscando vizinhos\n",
        "\n",
        "            for neighbor in tree[node]:  # Para cada vizinho do nó atual\n",
        "                if neighbor not in visited and neighbor not in queue:  # Evita repetição\n",
        "                    print(f\"  Adicionando {neighbor} à fila\")\n",
        "                    queue.append(neighbor)\n",
        "\n",
        "    print(\"\\nCaminho percorrido pelo BFS:\", path)"
      ],
      "metadata": {
        "id": "V16vzWA_MvUH"
      },
      "execution_count": null,
      "outputs": []
    },
    {
      "cell_type": "markdown",
      "source": [
        "O BFS (Busca em Largura) percorre um grafo camada por camada visitando todos os vizinhos de um nó antes de avançar.\n",
        "\n",
        "- O algoritmo inicia com um vértice, usa uma fila para armazenar os nós a serem explorados e um conjunto para marcar os visitados.\n",
        "- Retira o primeiro nó da fila, marca como visitado e adiciona seus vizinhos ainda não explorados.\n",
        "- Repete o processo até a fila esvaziar, garantindo que percorre todos os nós possíveis. Durante a execução, exibe qual nó está sendo processado e quais vizinhos foram adicionados."
      ],
      "metadata": {
        "id": "eBsFuLetjkAH"
      }
    },
    {
      "cell_type": "markdown",
      "source": [
        "> ## **2.1. Resultados (Testes)**"
      ],
      "metadata": {
        "id": "G2_xtN1jMvUI"
      }
    },
    {
      "cell_type": "markdown",
      "source": [
        "Primeiro teste com o vértice de início em São Paulo"
      ],
      "metadata": {
        "id": "fSNMnv8jgN9z"
      }
    },
    {
      "cell_type": "code",
      "source": [
        "bfs(tree, \"São Paulo\")"
      ],
      "metadata": {
        "colab": {
          "base_uri": "https://localhost:8080/"
        },
        "id": "ao0qWZKIaTUc",
        "outputId": "281d3003-66c9-4910-81ff-c4c67bb31cad"
      },
      "execution_count": null,
      "outputs": [
        {
          "output_type": "stream",
          "name": "stdout",
          "text": [
            "\n",
            "Explorando vizinhos de: São Paulo\n",
            "  Adicionando Guarulhos à fila\n",
            "  Adicionando Santos à fila\n",
            "  Adicionando Barueri à fila\n",
            "  Adicionando São Bernardo do Campo à fila\n",
            "  Adicionando São José dos Campos à fila\n",
            "  Adicionando Osasco à fila\n",
            "  Adicionando Santo André à fila\n",
            "\n",
            "Explorando vizinhos de: Guarulhos\n",
            "\n",
            "Explorando vizinhos de: Santos\n",
            "\n",
            "Explorando vizinhos de: Barueri\n",
            "  Adicionando Sorocaba à fila\n",
            "  Adicionando Campinas à fila\n",
            "  Adicionando Jundiaí à fila\n",
            "\n",
            "Explorando vizinhos de: São Bernardo do Campo\n",
            "\n",
            "Explorando vizinhos de: São José dos Campos\n",
            "\n",
            "Explorando vizinhos de: Osasco\n",
            "\n",
            "Explorando vizinhos de: Santo André\n",
            "\n",
            "Explorando vizinhos de: Sorocaba\n",
            "\n",
            "Explorando vizinhos de: Campinas\n",
            "  Adicionando Ribeirão Preto à fila\n",
            "\n",
            "Explorando vizinhos de: Jundiaí\n",
            "\n",
            "Explorando vizinhos de: Ribeirão Preto\n",
            "\n",
            "Caminho percorrido pelo BFS: ['São Paulo', 'Guarulhos', 'Santos', 'Barueri', 'São Bernardo do Campo', 'São José dos Campos', 'Osasco', 'Santo André', 'Sorocaba', 'Campinas', 'Jundiaí', 'Ribeirão Preto']\n"
          ]
        }
      ]
    },
    {
      "cell_type": "markdown",
      "source": [
        "Segundo teste com o vértice de início em Campinas\n",
        "\n"
      ],
      "metadata": {
        "id": "9ygAflMIkc_f"
      }
    },
    {
      "cell_type": "code",
      "source": [
        "bfs(tree, \"Campinas\")"
      ],
      "metadata": {
        "id": "S9w7b7VYMvUI",
        "colab": {
          "base_uri": "https://localhost:8080/"
        },
        "outputId": "36bf96e3-abaa-4156-8940-59a4b07f4fac"
      },
      "execution_count": null,
      "outputs": [
        {
          "output_type": "stream",
          "name": "stdout",
          "text": [
            "\n",
            "Explorando vizinhos de: Campinas\n",
            "  Adicionando Barueri à fila\n",
            "  Adicionando Ribeirão Preto à fila\n",
            "  Adicionando Sorocaba à fila\n",
            "  Adicionando Jundiaí à fila\n",
            "\n",
            "Explorando vizinhos de: Barueri\n",
            "  Adicionando Guarulhos à fila\n",
            "  Adicionando Osasco à fila\n",
            "  Adicionando São Paulo à fila\n",
            "\n",
            "Explorando vizinhos de: Ribeirão Preto\n",
            "\n",
            "Explorando vizinhos de: Sorocaba\n",
            "\n",
            "Explorando vizinhos de: Jundiaí\n",
            "\n",
            "Explorando vizinhos de: Guarulhos\n",
            "  Adicionando São Bernardo do Campo à fila\n",
            "  Adicionando São José dos Campos à fila\n",
            "  Adicionando Santo André à fila\n",
            "\n",
            "Explorando vizinhos de: Osasco\n",
            "\n",
            "Explorando vizinhos de: São Paulo\n",
            "  Adicionando Santos à fila\n",
            "\n",
            "Explorando vizinhos de: São Bernardo do Campo\n",
            "\n",
            "Explorando vizinhos de: São José dos Campos\n",
            "\n",
            "Explorando vizinhos de: Santo André\n",
            "\n",
            "Explorando vizinhos de: Santos\n",
            "\n",
            "Caminho percorrido pelo BFS: ['Campinas', 'Barueri', 'Ribeirão Preto', 'Sorocaba', 'Jundiaí', 'Guarulhos', 'Osasco', 'São Paulo', 'São Bernardo do Campo', 'São José dos Campos', 'Santo André', 'Santos']\n"
          ]
        }
      ]
    },
    {
      "cell_type": "markdown",
      "source": [
        "Terceiro teste com o vértice de início em Riberão Preto"
      ],
      "metadata": {
        "id": "A3ykMWxyW6q5"
      }
    },
    {
      "cell_type": "code",
      "source": [
        "bfs(tree, \"Ribeirão Preto\")"
      ],
      "metadata": {
        "colab": {
          "base_uri": "https://localhost:8080/"
        },
        "id": "VgIkC_SCXBQ9",
        "outputId": "8f7fff74-0bd3-487d-ff2e-8ead1a52d1f5"
      },
      "execution_count": null,
      "outputs": [
        {
          "output_type": "stream",
          "name": "stdout",
          "text": [
            "\n",
            "Explorando vizinhos de: Ribeirão Preto\n",
            "  Adicionando Campinas à fila\n",
            "  Adicionando Jundiaí à fila\n",
            "\n",
            "Explorando vizinhos de: Campinas\n",
            "  Adicionando Barueri à fila\n",
            "  Adicionando Sorocaba à fila\n",
            "\n",
            "Explorando vizinhos de: Jundiaí\n",
            "  Adicionando Osasco à fila\n",
            "\n",
            "Explorando vizinhos de: Barueri\n",
            "  Adicionando Guarulhos à fila\n",
            "  Adicionando São Paulo à fila\n",
            "\n",
            "Explorando vizinhos de: Sorocaba\n",
            "\n",
            "Explorando vizinhos de: Osasco\n",
            "\n",
            "Explorando vizinhos de: Guarulhos\n",
            "  Adicionando São Bernardo do Campo à fila\n",
            "  Adicionando São José dos Campos à fila\n",
            "  Adicionando Santo André à fila\n",
            "\n",
            "Explorando vizinhos de: São Paulo\n",
            "  Adicionando Santos à fila\n",
            "\n",
            "Explorando vizinhos de: São Bernardo do Campo\n",
            "\n",
            "Explorando vizinhos de: São José dos Campos\n",
            "\n",
            "Explorando vizinhos de: Santo André\n",
            "\n",
            "Explorando vizinhos de: Santos\n",
            "\n",
            "Caminho percorrido pelo BFS: ['Ribeirão Preto', 'Campinas', 'Jundiaí', 'Barueri', 'Sorocaba', 'Osasco', 'Guarulhos', 'São Paulo', 'São Bernardo do Campo', 'São José dos Campos', 'Santo André', 'Santos']\n"
          ]
        }
      ]
    },
    {
      "cell_type": "markdown",
      "source": [
        "## **3. Busca Informada (5,0)**"
      ],
      "metadata": {
        "id": "Ryo3PeXoMwFc"
      }
    },
    {
      "cell_type": "markdown",
      "source": [
        "O algoritmo de busca informada estudado e implementado nesta atividade será o **algoritmo A***.\n",
        "\n",
        "Bem como outros algoritmos de busca informada, o A* tenta calcular o valor mínimo entre um ponto A e B. Para isso, faz uso de heurísticas.\n",
        "\n",
        "**Algoritmo A***\n",
        "- A princípio, todos os nós recebem valor infinito.\n",
        "- O **cálculo de custo de um nó** é dado por `f_score = g_score + h_score`\n",
        "  - **g_score** é a quantidade de posições que o algoritmo já percorreu;\n",
        "  - **h_score** é uma estimativa de quantos passos são necessários para chegar ao destino final.\n",
        "- A cada novo nó, o f_score dos nós adjacentes é calculado. Se o valor calculado for **menor** que o f_score atual do nó, esse valor será substituido.\n",
        "- O algoritmo irá escolher o nó adjacente de **menor custo**.\n",
        "- Quando o algoritmo está percorrendo um caminho cujo valor do nó seja **igual** ao de um nó de um outro caminho, o algoritmo irá **escolher o nó com o menor h_score**.\n",
        "- O processo é repetido até alcançar o destino final."
      ],
      "metadata": {
        "id": "De9VgoNINL4c"
      }
    },
    {
      "cell_type": "code",
      "source": [
        "# Seus Códigos aqui intercalados de células de texto com comentários"
      ],
      "metadata": {
        "id": "39FwjR_uMwFd"
      },
      "execution_count": null,
      "outputs": []
    },
    {
      "cell_type": "markdown",
      "source": [
        "> ## **3.1. Resultados (Testes)**\n",
        "\n",
        "*Um ou mais testes da solução devem ser apresentados ao final. Comente em células de texto explicativas os testes e os seus resultados.*"
      ],
      "metadata": {
        "id": "WxOx8CikMwFe"
      }
    },
    {
      "cell_type": "code",
      "source": [
        "# Seus Códigos aqui intercalados de células de texto com comentários"
      ],
      "metadata": {
        "id": "kZgIdUM0MwFf"
      },
      "execution_count": null,
      "outputs": []
    },
    {
      "cell_type": "markdown",
      "source": [
        "# **Referências**\n",
        "\n",
        "MANIPULAÇÃO DE GRAFOS EM PYTHON COM NETWORKX. Prof. Alexandre Levada, 2021. Disponível em: https://www.youtube.com/watch?v=PfT8_2sKReo&t=1s&ab_channel=Prof.AlexandreLevada. Acesso em: 17 mar. 2025.\n",
        "\n",
        "ALGORITMO A* NO PYTHON - MELHOR CAMINHO - A ESTRELA. Hashtag Programação, 2021. Disponível em: https://www.youtube.com/watch?v=fTtYzHfGlyk&ab_channel=HashtagPrograma%C3%A7%C3%A3o. Acesso em: 17 mar. 2025.\n",
        "\n",
        "HAGBERG, A.; SCHULT, D.; SWART, P. *NetworkX: Network Analysis in Python Reference*, 2004. Disponível em https://networkx.org/documentation/stable/reference/index.html. Acesso em: 19 mar. 2025."
      ],
      "metadata": {
        "id": "7LtXrRFr4hg3"
      }
    },
    {
      "cell_type": "markdown",
      "metadata": {
        "id": "8crUBC3IQ3U_"
      },
      "source": [
        "---"
      ]
    },
    {
      "cell_type": "code",
      "metadata": {
        "id": "BluFtfHuCGzm",
        "cellView": "form"
      },
      "source": [
        "#@title **Avaliação**\n",
        "Resumo = 10 #@param {type:\"slider\", min:0, max:10, step:1}\n",
        "\n",
        "Grafo = 10 #@param {type:\"slider\", min:0, max:10, step:1}\n",
        "\n",
        "BFS = 10 #@param {type:\"slider\", min:0, max:10, step:1}\n",
        "\n",
        "Busca_Informada = 10 #@param {type:\"slider\", min:0, max:10, step:1}\n",
        "\n",
        "Referencias = 10 #@param {type:\"slider\", min:0, max:10, step:1}\n",
        "\n",
        "Geral = 10 #@param {type:\"slider\", min:0, max:10, step:1}"
      ],
      "execution_count": null,
      "outputs": []
    },
    {
      "cell_type": "code",
      "metadata": {
        "colab": {
          "base_uri": "https://localhost:8080/",
          "height": 160
        },
        "id": "2Gqw7hUZHyle",
        "cellView": "form",
        "outputId": "ec8f2df6-a121-4a2c-9972-e6a8f38b9bf7"
      },
      "source": [
        "#@title **Nota Final**\n",
        "\n",
        "nota = Resumo + 2*Grafo + 3*BFS + 5*Busca_Informada + Referencias + Geral\n",
        "\n",
        "nota = nota / 13\n",
        "\n",
        "print(f'Nota final do trabalho {nota :.1f}')\n",
        "\n",
        "import numpy as np\n",
        "import pandas as pd\n",
        "\n",
        "alunos = pd.DataFrame()\n",
        "\n",
        "lista_tia = []\n",
        "lista_nome = []\n",
        "\n",
        "for i in range(1,6):\n",
        "  exec(\"if Aluno\" + str(i) + \" !='None':  lista = Aluno\" + str(i) + \".split(','); lista_tia.append(lista[0]); lista_nome.append(lista[1].upper())\")\n",
        "\n",
        "alunos['tia'] = lista_tia\n",
        "alunos['nome'] = lista_nome\n",
        "alunos['nota'] = np.round(nota,1)\n",
        "print()\n",
        "display(alunos)"
      ],
      "execution_count": null,
      "outputs": [
        {
          "output_type": "stream",
          "name": "stdout",
          "text": [
            "Nota final do trabalho 7.7\n",
            "\n"
          ]
        },
        {
          "output_type": "display_data",
          "data": {
            "text/plain": [
              "       tia              nome  nota\n",
              "0  1115665    ADRIANA FUJITA   7.7\n",
              "1  1115677   DANIEL HENRIQUE   7.7"
            ],
            "text/html": [
              "\n",
              "  <div id=\"df-c02535b9-79d8-490e-a9b1-f1d7f4a1be14\" class=\"colab-df-container\">\n",
              "    <div>\n",
              "<style scoped>\n",
              "    .dataframe tbody tr th:only-of-type {\n",
              "        vertical-align: middle;\n",
              "    }\n",
              "\n",
              "    .dataframe tbody tr th {\n",
              "        vertical-align: top;\n",
              "    }\n",
              "\n",
              "    .dataframe thead th {\n",
              "        text-align: right;\n",
              "    }\n",
              "</style>\n",
              "<table border=\"1\" class=\"dataframe\">\n",
              "  <thead>\n",
              "    <tr style=\"text-align: right;\">\n",
              "      <th></th>\n",
              "      <th>tia</th>\n",
              "      <th>nome</th>\n",
              "      <th>nota</th>\n",
              "    </tr>\n",
              "  </thead>\n",
              "  <tbody>\n",
              "    <tr>\n",
              "      <th>0</th>\n",
              "      <td>1115665</td>\n",
              "      <td>ADRIANA FUJITA</td>\n",
              "      <td>7.7</td>\n",
              "    </tr>\n",
              "    <tr>\n",
              "      <th>1</th>\n",
              "      <td>1115677</td>\n",
              "      <td>DANIEL HENRIQUE</td>\n",
              "      <td>7.7</td>\n",
              "    </tr>\n",
              "  </tbody>\n",
              "</table>\n",
              "</div>\n",
              "    <div class=\"colab-df-buttons\">\n",
              "\n",
              "  <div class=\"colab-df-container\">\n",
              "    <button class=\"colab-df-convert\" onclick=\"convertToInteractive('df-c02535b9-79d8-490e-a9b1-f1d7f4a1be14')\"\n",
              "            title=\"Convert this dataframe to an interactive table.\"\n",
              "            style=\"display:none;\">\n",
              "\n",
              "  <svg xmlns=\"http://www.w3.org/2000/svg\" height=\"24px\" viewBox=\"0 -960 960 960\">\n",
              "    <path d=\"M120-120v-720h720v720H120Zm60-500h600v-160H180v160Zm220 220h160v-160H400v160Zm0 220h160v-160H400v160ZM180-400h160v-160H180v160Zm440 0h160v-160H620v160ZM180-180h160v-160H180v160Zm440 0h160v-160H620v160Z\"/>\n",
              "  </svg>\n",
              "    </button>\n",
              "\n",
              "  <style>\n",
              "    .colab-df-container {\n",
              "      display:flex;\n",
              "      gap: 12px;\n",
              "    }\n",
              "\n",
              "    .colab-df-convert {\n",
              "      background-color: #E8F0FE;\n",
              "      border: none;\n",
              "      border-radius: 50%;\n",
              "      cursor: pointer;\n",
              "      display: none;\n",
              "      fill: #1967D2;\n",
              "      height: 32px;\n",
              "      padding: 0 0 0 0;\n",
              "      width: 32px;\n",
              "    }\n",
              "\n",
              "    .colab-df-convert:hover {\n",
              "      background-color: #E2EBFA;\n",
              "      box-shadow: 0px 1px 2px rgba(60, 64, 67, 0.3), 0px 1px 3px 1px rgba(60, 64, 67, 0.15);\n",
              "      fill: #174EA6;\n",
              "    }\n",
              "\n",
              "    .colab-df-buttons div {\n",
              "      margin-bottom: 4px;\n",
              "    }\n",
              "\n",
              "    [theme=dark] .colab-df-convert {\n",
              "      background-color: #3B4455;\n",
              "      fill: #D2E3FC;\n",
              "    }\n",
              "\n",
              "    [theme=dark] .colab-df-convert:hover {\n",
              "      background-color: #434B5C;\n",
              "      box-shadow: 0px 1px 3px 1px rgba(0, 0, 0, 0.15);\n",
              "      filter: drop-shadow(0px 1px 2px rgba(0, 0, 0, 0.3));\n",
              "      fill: #FFFFFF;\n",
              "    }\n",
              "  </style>\n",
              "\n",
              "    <script>\n",
              "      const buttonEl =\n",
              "        document.querySelector('#df-c02535b9-79d8-490e-a9b1-f1d7f4a1be14 button.colab-df-convert');\n",
              "      buttonEl.style.display =\n",
              "        google.colab.kernel.accessAllowed ? 'block' : 'none';\n",
              "\n",
              "      async function convertToInteractive(key) {\n",
              "        const element = document.querySelector('#df-c02535b9-79d8-490e-a9b1-f1d7f4a1be14');\n",
              "        const dataTable =\n",
              "          await google.colab.kernel.invokeFunction('convertToInteractive',\n",
              "                                                    [key], {});\n",
              "        if (!dataTable) return;\n",
              "\n",
              "        const docLinkHtml = 'Like what you see? Visit the ' +\n",
              "          '<a target=\"_blank\" href=https://colab.research.google.com/notebooks/data_table.ipynb>data table notebook</a>'\n",
              "          + ' to learn more about interactive tables.';\n",
              "        element.innerHTML = '';\n",
              "        dataTable['output_type'] = 'display_data';\n",
              "        await google.colab.output.renderOutput(dataTable, element);\n",
              "        const docLink = document.createElement('div');\n",
              "        docLink.innerHTML = docLinkHtml;\n",
              "        element.appendChild(docLink);\n",
              "      }\n",
              "    </script>\n",
              "  </div>\n",
              "\n",
              "\n",
              "<div id=\"df-d549a65d-dcca-4332-a206-81d4cc5dfa4f\">\n",
              "  <button class=\"colab-df-quickchart\" onclick=\"quickchart('df-d549a65d-dcca-4332-a206-81d4cc5dfa4f')\"\n",
              "            title=\"Suggest charts\"\n",
              "            style=\"display:none;\">\n",
              "\n",
              "<svg xmlns=\"http://www.w3.org/2000/svg\" height=\"24px\"viewBox=\"0 0 24 24\"\n",
              "     width=\"24px\">\n",
              "    <g>\n",
              "        <path d=\"M19 3H5c-1.1 0-2 .9-2 2v14c0 1.1.9 2 2 2h14c1.1 0 2-.9 2-2V5c0-1.1-.9-2-2-2zM9 17H7v-7h2v7zm4 0h-2V7h2v10zm4 0h-2v-4h2v4z\"/>\n",
              "    </g>\n",
              "</svg>\n",
              "  </button>\n",
              "\n",
              "<style>\n",
              "  .colab-df-quickchart {\n",
              "      --bg-color: #E8F0FE;\n",
              "      --fill-color: #1967D2;\n",
              "      --hover-bg-color: #E2EBFA;\n",
              "      --hover-fill-color: #174EA6;\n",
              "      --disabled-fill-color: #AAA;\n",
              "      --disabled-bg-color: #DDD;\n",
              "  }\n",
              "\n",
              "  [theme=dark] .colab-df-quickchart {\n",
              "      --bg-color: #3B4455;\n",
              "      --fill-color: #D2E3FC;\n",
              "      --hover-bg-color: #434B5C;\n",
              "      --hover-fill-color: #FFFFFF;\n",
              "      --disabled-bg-color: #3B4455;\n",
              "      --disabled-fill-color: #666;\n",
              "  }\n",
              "\n",
              "  .colab-df-quickchart {\n",
              "    background-color: var(--bg-color);\n",
              "    border: none;\n",
              "    border-radius: 50%;\n",
              "    cursor: pointer;\n",
              "    display: none;\n",
              "    fill: var(--fill-color);\n",
              "    height: 32px;\n",
              "    padding: 0;\n",
              "    width: 32px;\n",
              "  }\n",
              "\n",
              "  .colab-df-quickchart:hover {\n",
              "    background-color: var(--hover-bg-color);\n",
              "    box-shadow: 0 1px 2px rgba(60, 64, 67, 0.3), 0 1px 3px 1px rgba(60, 64, 67, 0.15);\n",
              "    fill: var(--button-hover-fill-color);\n",
              "  }\n",
              "\n",
              "  .colab-df-quickchart-complete:disabled,\n",
              "  .colab-df-quickchart-complete:disabled:hover {\n",
              "    background-color: var(--disabled-bg-color);\n",
              "    fill: var(--disabled-fill-color);\n",
              "    box-shadow: none;\n",
              "  }\n",
              "\n",
              "  .colab-df-spinner {\n",
              "    border: 2px solid var(--fill-color);\n",
              "    border-color: transparent;\n",
              "    border-bottom-color: var(--fill-color);\n",
              "    animation:\n",
              "      spin 1s steps(1) infinite;\n",
              "  }\n",
              "\n",
              "  @keyframes spin {\n",
              "    0% {\n",
              "      border-color: transparent;\n",
              "      border-bottom-color: var(--fill-color);\n",
              "      border-left-color: var(--fill-color);\n",
              "    }\n",
              "    20% {\n",
              "      border-color: transparent;\n",
              "      border-left-color: var(--fill-color);\n",
              "      border-top-color: var(--fill-color);\n",
              "    }\n",
              "    30% {\n",
              "      border-color: transparent;\n",
              "      border-left-color: var(--fill-color);\n",
              "      border-top-color: var(--fill-color);\n",
              "      border-right-color: var(--fill-color);\n",
              "    }\n",
              "    40% {\n",
              "      border-color: transparent;\n",
              "      border-right-color: var(--fill-color);\n",
              "      border-top-color: var(--fill-color);\n",
              "    }\n",
              "    60% {\n",
              "      border-color: transparent;\n",
              "      border-right-color: var(--fill-color);\n",
              "    }\n",
              "    80% {\n",
              "      border-color: transparent;\n",
              "      border-right-color: var(--fill-color);\n",
              "      border-bottom-color: var(--fill-color);\n",
              "    }\n",
              "    90% {\n",
              "      border-color: transparent;\n",
              "      border-bottom-color: var(--fill-color);\n",
              "    }\n",
              "  }\n",
              "</style>\n",
              "\n",
              "  <script>\n",
              "    async function quickchart(key) {\n",
              "      const quickchartButtonEl =\n",
              "        document.querySelector('#' + key + ' button');\n",
              "      quickchartButtonEl.disabled = true;  // To prevent multiple clicks.\n",
              "      quickchartButtonEl.classList.add('colab-df-spinner');\n",
              "      try {\n",
              "        const charts = await google.colab.kernel.invokeFunction(\n",
              "            'suggestCharts', [key], {});\n",
              "      } catch (error) {\n",
              "        console.error('Error during call to suggestCharts:', error);\n",
              "      }\n",
              "      quickchartButtonEl.classList.remove('colab-df-spinner');\n",
              "      quickchartButtonEl.classList.add('colab-df-quickchart-complete');\n",
              "    }\n",
              "    (() => {\n",
              "      let quickchartButtonEl =\n",
              "        document.querySelector('#df-d549a65d-dcca-4332-a206-81d4cc5dfa4f button');\n",
              "      quickchartButtonEl.style.display =\n",
              "        google.colab.kernel.accessAllowed ? 'block' : 'none';\n",
              "    })();\n",
              "  </script>\n",
              "</div>\n",
              "\n",
              "  <div id=\"id_767f25c7-3015-4af7-9d5b-1f12893fb16b\">\n",
              "    <style>\n",
              "      .colab-df-generate {\n",
              "        background-color: #E8F0FE;\n",
              "        border: none;\n",
              "        border-radius: 50%;\n",
              "        cursor: pointer;\n",
              "        display: none;\n",
              "        fill: #1967D2;\n",
              "        height: 32px;\n",
              "        padding: 0 0 0 0;\n",
              "        width: 32px;\n",
              "      }\n",
              "\n",
              "      .colab-df-generate:hover {\n",
              "        background-color: #E2EBFA;\n",
              "        box-shadow: 0px 1px 2px rgba(60, 64, 67, 0.3), 0px 1px 3px 1px rgba(60, 64, 67, 0.15);\n",
              "        fill: #174EA6;\n",
              "      }\n",
              "\n",
              "      [theme=dark] .colab-df-generate {\n",
              "        background-color: #3B4455;\n",
              "        fill: #D2E3FC;\n",
              "      }\n",
              "\n",
              "      [theme=dark] .colab-df-generate:hover {\n",
              "        background-color: #434B5C;\n",
              "        box-shadow: 0px 1px 3px 1px rgba(0, 0, 0, 0.15);\n",
              "        filter: drop-shadow(0px 1px 2px rgba(0, 0, 0, 0.3));\n",
              "        fill: #FFFFFF;\n",
              "      }\n",
              "    </style>\n",
              "    <button class=\"colab-df-generate\" onclick=\"generateWithVariable('alunos')\"\n",
              "            title=\"Generate code using this dataframe.\"\n",
              "            style=\"display:none;\">\n",
              "\n",
              "  <svg xmlns=\"http://www.w3.org/2000/svg\" height=\"24px\"viewBox=\"0 0 24 24\"\n",
              "       width=\"24px\">\n",
              "    <path d=\"M7,19H8.4L18.45,9,17,7.55,7,17.6ZM5,21V16.75L18.45,3.32a2,2,0,0,1,2.83,0l1.4,1.43a1.91,1.91,0,0,1,.58,1.4,1.91,1.91,0,0,1-.58,1.4L9.25,21ZM18.45,9,17,7.55Zm-12,3A5.31,5.31,0,0,0,4.9,8.1,5.31,5.31,0,0,0,1,6.5,5.31,5.31,0,0,0,4.9,4.9,5.31,5.31,0,0,0,6.5,1,5.31,5.31,0,0,0,8.1,4.9,5.31,5.31,0,0,0,12,6.5,5.46,5.46,0,0,0,6.5,12Z\"/>\n",
              "  </svg>\n",
              "    </button>\n",
              "    <script>\n",
              "      (() => {\n",
              "      const buttonEl =\n",
              "        document.querySelector('#id_767f25c7-3015-4af7-9d5b-1f12893fb16b button.colab-df-generate');\n",
              "      buttonEl.style.display =\n",
              "        google.colab.kernel.accessAllowed ? 'block' : 'none';\n",
              "\n",
              "      buttonEl.onclick = () => {\n",
              "        google.colab.notebook.generateWithVariable('alunos');\n",
              "      }\n",
              "      })();\n",
              "    </script>\n",
              "  </div>\n",
              "\n",
              "    </div>\n",
              "  </div>\n"
            ],
            "application/vnd.google.colaboratory.intrinsic+json": {
              "type": "dataframe",
              "variable_name": "alunos",
              "summary": "{\n  \"name\": \"alunos\",\n  \"rows\": 2,\n  \"fields\": [\n    {\n      \"column\": \"tia\",\n      \"properties\": {\n        \"dtype\": \"string\",\n        \"num_unique_values\": 2,\n        \"samples\": [\n          \"1115677\",\n          \"1115665\"\n        ],\n        \"semantic_type\": \"\",\n        \"description\": \"\"\n      }\n    },\n    {\n      \"column\": \"nome\",\n      \"properties\": {\n        \"dtype\": \"string\",\n        \"num_unique_values\": 2,\n        \"samples\": [\n          \" DANIEL HENRIQUE\",\n          \" ADRIANA FUJITA\"\n        ],\n        \"semantic_type\": \"\",\n        \"description\": \"\"\n      }\n    },\n    {\n      \"column\": \"nota\",\n      \"properties\": {\n        \"dtype\": \"number\",\n        \"std\": 0.0,\n        \"min\": 7.7,\n        \"max\": 7.7,\n        \"num_unique_values\": 1,\n        \"samples\": [\n          7.7\n        ],\n        \"semantic_type\": \"\",\n        \"description\": \"\"\n      }\n    }\n  ]\n}"
            }
          },
          "metadata": {}
        }
      ]
    }
  ]
}