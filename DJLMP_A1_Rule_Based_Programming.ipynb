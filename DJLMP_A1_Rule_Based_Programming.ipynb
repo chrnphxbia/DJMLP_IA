{
  "nbformat": 4,
  "nbformat_minor": 0,
  "metadata": {
    "kernelspec": {
      "display_name": "Python 3",
      "language": "python",
      "name": "python3"
    },
    "language_info": {
      "codemirror_mode": {
        "name": "ipython",
        "version": 3
      },
      "file_extension": ".py",
      "mimetype": "text/x-python",
      "name": "python",
      "nbconvert_exporter": "python",
      "pygments_lexer": "ipython3",
      "version": "3.7.4"
    },
    "colab": {
      "provenance": []
    }
  },
  "cells": [
    {
      "cell_type": "markdown",
      "metadata": {
        "id": "40b90843"
      },
      "source": [
        "<img src=\"http://meusite.mackenzie.br/rogerio/mackenzie_logo/UPM.2_horizontal_vermelho.jpg\"  width=300, align=\"right\">\n",
        "<br>\n",
        "<br>\n",
        "<br>\n",
        "<br>\n",
        "<br>\n",
        "\n",
        "# **Expert Systems, Rule‑Based Programming `PyKnown`**\n",
        "---\n"
      ]
    },
    {
      "cell_type": "code",
      "metadata": {
        "id": "rYx9D4GZA5o9",
        "cellView": "form"
      },
      "source": [
        "#@title **Identificação do Grupo**\n",
        "\n",
        "#@markdown Integrantes do Grupo, nome completo em ordem alfabética (*informe \\<RA\\>,\\<nome\\>*)\n",
        "Aluno1 = '10402412, Diego Oliveira Aluizio' #@param {type:\"string\"}\n",
        "Aluno2 = '10396490, Jônatas Garcia de Oliveira' #@param {type:\"string\"}\n",
        "Aluno3 = '10403046, Livia Alabarse' #@param {type:\"string\"}\n",
        "Aluno4 = '10403028, Marina Scabello Martin' #@param {type:\"string\"}\n",
        "Aluno5 = '10265432, Pedro Henrique Araujo Farias' #@param {type:\"string\"}"
      ],
      "execution_count": null,
      "outputs": []
    },
    {
      "cell_type": "markdown",
      "source": [
        "# **Resumo**\n",
        "\n",
        "*Apresente um parágrafo resumindo o que é feito neste trabalho*."
      ],
      "metadata": {
        "id": "JlCIc2YooBW7"
      }
    },
    {
      "cell_type": "markdown",
      "source": [
        "# **Implementação**\n",
        "\n",
        "Primeiro, devemos desinstalar a biblioteca `yfinance`, incompatível com o `pyknow`, e, em seguida, instalar o `pyknow`.\n",
        "\n"
      ],
      "metadata": {
        "id": "FyFHbT8vygVp"
      }
    },
    {
      "cell_type": "code",
      "source": [
        "!pip uninstall yfinance # incompatível com o pyknow"
      ],
      "metadata": {
        "id": "47WSkdIDxpjM",
        "colab": {
          "base_uri": "https://localhost:8080/"
        },
        "outputId": "308d6387-1870-47ba-a85b-65d4e8e067c5"
      },
      "execution_count": 1,
      "outputs": [
        {
          "output_type": "stream",
          "name": "stdout",
          "text": [
            "Found existing installation: yfinance 0.2.55\n",
            "Uninstalling yfinance-0.2.55:\n",
            "  Would remove:\n",
            "    /usr/local/bin/sample\n",
            "    /usr/local/lib/python3.11/dist-packages/yfinance-0.2.55.dist-info/*\n",
            "    /usr/local/lib/python3.11/dist-packages/yfinance/*\n",
            "Proceed (Y/n)? Y\n",
            "  Successfully uninstalled yfinance-0.2.55\n"
          ]
        }
      ]
    },
    {
      "cell_type": "code",
      "source": [
        "import sys\n",
        "!{sys.executable} -m pip install git+https://github.com/buguroo/pyknow/"
      ],
      "metadata": {
        "colab": {
          "base_uri": "https://localhost:8080/"
        },
        "id": "e2DtgjcYMdKw",
        "outputId": "5947e892-6846-462d-f8cc-dda13679406e"
      },
      "execution_count": 2,
      "outputs": [
        {
          "output_type": "stream",
          "name": "stdout",
          "text": [
            "Collecting git+https://github.com/buguroo/pyknow/\n",
            "  Cloning https://github.com/buguroo/pyknow/ to /tmp/pip-req-build-l1mtnzy6\n",
            "  Running command git clone --filter=blob:none --quiet https://github.com/buguroo/pyknow/ /tmp/pip-req-build-l1mtnzy6\n",
            "  Resolved https://github.com/buguroo/pyknow/ to commit 48818336f2e9a126f1964f2d8dc22d37ff800fe8\n",
            "  Preparing metadata (setup.py) ... \u001b[?25l\u001b[?25hdone\n",
            "Collecting frozendict==1.2 (from pyknow==1.7.0)\n",
            "  Downloading frozendict-1.2.tar.gz (2.6 kB)\n",
            "  Preparing metadata (setup.py) ... \u001b[?25l\u001b[?25hdone\n",
            "Collecting schema==0.6.7 (from pyknow==1.7.0)\n",
            "  Downloading schema-0.6.7-py2.py3-none-any.whl.metadata (14 kB)\n",
            "Downloading schema-0.6.7-py2.py3-none-any.whl (14 kB)\n",
            "Building wheels for collected packages: pyknow, frozendict\n",
            "  Building wheel for pyknow (setup.py) ... \u001b[?25l\u001b[?25hdone\n",
            "  Created wheel for pyknow: filename=pyknow-1.7.0-py3-none-any.whl size=34226 sha256=0c48b7bf23fdb77706c707ec96e6994f2c444d346a707263aec840f4a7b0dcdd\n",
            "  Stored in directory: /tmp/pip-ephem-wheel-cache-nkpor485/wheels/81/1a/d3/f6c15dbe1955598a37755215f2a10449e7418500d7bd4b9508\n",
            "  Building wheel for frozendict (setup.py) ... \u001b[?25l\u001b[?25hdone\n",
            "  Created wheel for frozendict: filename=frozendict-1.2-py3-none-any.whl size=3149 sha256=87991026af97846e90a3bb3de597850c33102ad74b3f982afa71cd0c94d3d558\n",
            "  Stored in directory: /root/.cache/pip/wheels/49/ac/f8/cb8120244e710bdb479c86198b03c7b08c3c2d3d2bf448fd6e\n",
            "Successfully built pyknow frozendict\n",
            "Installing collected packages: schema, frozendict, pyknow\n",
            "  Attempting uninstall: frozendict\n",
            "    Found existing installation: frozendict 2.4.6\n",
            "    Uninstalling frozendict-2.4.6:\n",
            "      Successfully uninstalled frozendict-2.4.6\n",
            "Successfully installed frozendict-1.2 pyknow-1.7.0 schema-0.6.7\n"
          ]
        }
      ]
    },
    {
      "cell_type": "code",
      "source": [
        "import collections.abc\n",
        "collections.Mapping = collections.abc.Mapping\n",
        "\n",
        "from pyknow import *"
      ],
      "metadata": {
        "id": "gnCrioVCMe3N"
      },
      "execution_count": 3,
      "outputs": []
    },
    {
      "cell_type": "markdown",
      "source": [
        "## **Implementação: Arthropods**\n",
        "\n"
      ],
      "metadata": {
        "id": "UOwm5iatupPj"
      }
    },
    {
      "cell_type": "markdown",
      "source": [
        "Como implementação final, desenvolvemos o seguinte conjunto de regras:"
      ],
      "metadata": {
        "id": "lOk9W_dDvBCW"
      }
    },
    {
      "cell_type": "code",
      "source": [
        "class Arthropods(KnowledgeEngine):\n",
        "\n",
        "# -------------- ARACHNID ----------------\n",
        "  @Rule(OR(\n",
        "    AND(Fact(pairs_of_legs='4'),\n",
        "        Fact(body='cephalothorax and abdomen')),\n",
        "        OR(\n",
        "        Fact('has pedipalps'),\n",
        "        Fact('has chelicera'))\n",
        "        )\n",
        "  )\n",
        "  def arachnid(self):\n",
        "    self.declare(Fact('arachnid'))\n",
        "\n",
        "# ---------- SPIDER ----------------\n",
        "  @Rule(OR(\n",
        "      Fact('makes webs'),\n",
        "      AND\n",
        "      (Fact('arachnid'),\n",
        "      Fact('poisonous'),\n",
        "      Fact('no sting'))))\n",
        "  def spider(self):\n",
        "    self.declare(Fact(arthropod='spider'))\n",
        "\n",
        "# -------- SCORPION ---------------\n",
        "  @Rule(AND(Fact('arachnid'),\n",
        "            Fact('poisonous'),\n",
        "            Fact('has sting')))\n",
        "  def scorpion(self):\n",
        "    self.declare(Fact(arthropod='scorpion'))\n",
        "\n",
        "# -------- INSECT ---------------\n",
        "  @Rule(AND(Fact(body='head, thorax and abdomen'),\n",
        "            Fact('has antennas'),\n",
        "            Fact(pairs_of_legs='3')))\n",
        "  def insect(self):\n",
        "    self.declare(Fact('insect'))\n",
        "\n",
        "# --------- ANT ---------------\n",
        "  @Rule(AND(Fact('insect'),\n",
        "            Fact(pair_of_wings='0')))\n",
        "  def ant(self):\n",
        "    self.declare(Fact(arthropod='ant'))\n",
        "\n",
        "# --------- BEE -------------------\n",
        "  @Rule(AND(Fact('insect'),\n",
        "            Fact(pair_of_wings='2'),\n",
        "            Fact('makes honey')))\n",
        "  def bee(self):\n",
        "    self.declare(Fact(arthropod='bee'))\n",
        "\n",
        "# -------- BEETLE ------------------\n",
        "  @Rule(AND(Fact('insect'),\n",
        "            OR\n",
        "            (Fact(pair_of_wings='1'),\n",
        "             Fact('has horn'))))\n",
        "  def beetle(self):\n",
        "    self.declare(Fact(arthropod='beetle'))\n",
        "\n",
        "# -------- BUTTERFLY ------------------\n",
        "  @Rule(AND(Fact('insect'),\n",
        "            Fact(pair_of_wings='2'),\n",
        "            Fact('metamorphosis'),\n",
        "            Fact('no sting')))\n",
        "  def butterfly(self):\n",
        "    self.declare(Fact(arthropod='butterfly'))\n",
        "\n",
        "# --------- WASP ----------------------\n",
        "  @Rule(AND(Fact('insect'),\n",
        "            Fact(pair_of_wings='2'),\n",
        "            Fact('metamorphosis'),\n",
        "            Fact('has sting')))\n",
        "  def wasp(self):\n",
        "    self.declare(Fact(arthropod='wasp'))\n",
        "\n",
        "# --------- CRUSTACEAN ----------------\n",
        "  @Rule(AND(Fact(body='cephalothorax and abdomen'), Fact('has antennas')))\n",
        "  def crustacean(self):\n",
        "    self.declare(Fact('crustacean'))\n",
        "\n",
        "# --------- CRAB --------------\n",
        "  @Rule(AND(Fact('crustacean'),\n",
        "            OR\n",
        "            (Fact(pair_of_legs='5'),\n",
        "            Fact('terrestrial and aquatic'))))\n",
        "  def crab(self):\n",
        "    self.declare(Fact(arthropod='crab'))\n",
        "\n",
        "# -------- SOW BUG ---------------------\n",
        "  @Rule(AND(Fact('crustacean'), OR(Fact(pair_of_legs='7'), Fact(\"terrestrial\"))))\n",
        "  def sow_bug(self):\n",
        "    self.declare(Fact(arthropod='sow bug'))\n",
        "\n",
        "# ------- CHILOPOD ---------------------\n",
        "  @Rule(AND(Fact(body='head and thorax'),\n",
        "            Fact('has antennas'),\n",
        "            Fact('segmented'),\n",
        "            Fact(pair_of_legs='1'),\n",
        "            Fact('poisonous')))\n",
        "  def chilopods(self):\n",
        "    self.declare(Fact('chilopod'))\n",
        "\n",
        "# --------- CENTIPEDE -----------------\n",
        "  @Rule(AND(Fact('chilopod'), Fact('carnivore')))\n",
        "  def centipede(self):\n",
        "    self.declare(Fact(arthropod='centipede'))\n",
        "\n",
        "# --------- DIPLOPOD ------------------\n",
        "  @Rule(AND(Fact(body='head and thorax'),\n",
        "            Fact('segmented'),\n",
        "            Fact(pair_of_legs='2'),\n",
        "            Fact('has antennas')))\n",
        "  def diplopods(self):\n",
        "    self.declare(Fact('diplopod'))\n",
        "\n",
        "# ---------- MILLIPEDE -----------------\n",
        "  @Rule(AND(Fact('diplopod'), Fact('herbivore')))\n",
        "  def millipede(self):\n",
        "    self.declare(Fact(arthropod='millipede'))\n",
        "\n",
        "# --------- PRINT --------------------\n",
        "  @Rule(Fact(arthropod=MATCH.arthropod))\n",
        "  def print_result(self,arthropod):\n",
        "    print(f'Arthropod is {arthropod}')\n",
        "\n",
        "  def factz(self,l):\n",
        "    for x in l:\n",
        "      self.declare(x)"
      ],
      "metadata": {
        "id": "p6Hbmsi5wwYC"
      },
      "execution_count": 4,
      "outputs": []
    },
    {
      "cell_type": "markdown",
      "source": [
        "Utilizamos características do filo dos artrópodes para estabelecer regras capazes de, mediante determinadas características mencionadas, inferir o artrópode ao qual as informações se referem.\n",
        "\n",
        "Para validar a implementação, realizamos a seguinte série de testes:"
      ],
      "metadata": {
        "id": "4LggDb-1wDwv"
      }
    },
    {
      "cell_type": "markdown",
      "source": [
        "# **Resultados (Testes)**"
      ],
      "metadata": {
        "id": "vO9xbwBTJDQ7"
      }
    },
    {
      "cell_type": "markdown",
      "source": [
        "### **Exemplo 01: Spider**\n",
        "\n",
        "A partir das informações **\"faz teias\"**, **\"venenoso\"** e **\"sem ferrão\"**, é possível inferir que o artrópode se trata de uma **aranha**."
      ],
      "metadata": {
        "id": "zmwcH_AWwhoM"
      }
    },
    {
      "cell_type": "code",
      "source": [
        "# SPIDER\n",
        "exemplo1 = Arthropods()\n",
        "exemplo1.reset()\n",
        "exemplo1.factz([\n",
        "    Fact('makes webs'),\n",
        "    Fact('poisonous'),\n",
        "    Fact('no sting')\n",
        "])\n",
        "exemplo1.run()\n",
        "exemplo1.facts"
      ],
      "metadata": {
        "id": "mVf_l2YTJPXY",
        "colab": {
          "base_uri": "https://localhost:8080/"
        },
        "outputId": "7cd9c000-fb3d-4ef5-a25e-b67b473ba38d"
      },
      "execution_count": 5,
      "outputs": [
        {
          "output_type": "stream",
          "name": "stdout",
          "text": [
            "Arthropod is spider\n"
          ]
        },
        {
          "output_type": "execute_result",
          "data": {
            "text/plain": [
              "FactList([(0, InitialFact()),\n",
              "          (1, Fact('makes webs')),\n",
              "          (2, Fact('poisonous')),\n",
              "          (3, Fact('no sting')),\n",
              "          (4, Fact(arthropod='spider'))])"
            ]
          },
          "metadata": {},
          "execution_count": 5
        }
      ]
    },
    {
      "cell_type": "markdown",
      "source": [
        "### **Exemplo 02: Scorpion**\n",
        "\n",
        "Apresentando **4 pares de patas** e corpo formado por **cefalotórax e abdome**, infere-se que se trata de um **aracnídeo**. Sabendo que este é um aracnídeo **venenoso** e que apresenta **ferrão**, conclui-se que é um **escorpião**."
      ],
      "metadata": {
        "id": "1y09dYEMw3E4"
      }
    },
    {
      "cell_type": "code",
      "source": [
        "# SCORPION\n",
        "exemplo2 = Arthropods()\n",
        "exemplo2.reset()\n",
        "exemplo2.factz([\n",
        "    Fact(pairs_of_legs='4'),\n",
        "    Fact(body='cephalothorax and abdomen'),\n",
        "    Fact('poisonous'),\n",
        "    Fact('has sting')\n",
        "])\n",
        "exemplo2.run()\n",
        "exemplo2.facts"
      ],
      "metadata": {
        "colab": {
          "base_uri": "https://localhost:8080/"
        },
        "id": "xvgTkeYsSut1",
        "outputId": "00def786-5dd1-475e-a704-6b8ee44c7c08"
      },
      "execution_count": 6,
      "outputs": [
        {
          "output_type": "stream",
          "name": "stdout",
          "text": [
            "Arthropod is scorpion\n"
          ]
        },
        {
          "output_type": "execute_result",
          "data": {
            "text/plain": [
              "FactList([(0, InitialFact()),\n",
              "          (1, Fact(pairs_of_legs='4')),\n",
              "          (2, Fact(body='cephalothorax and abdomen')),\n",
              "          (3, Fact('poisonous')),\n",
              "          (4, Fact('has sting')),\n",
              "          (5, Fact('arachnid')),\n",
              "          (6, Fact(arthropod='scorpion'))])"
            ]
          },
          "metadata": {},
          "execution_count": 6
        }
      ]
    },
    {
      "cell_type": "markdown",
      "source": [
        "### **Exemplo 03: Ant**\n",
        "\n",
        "Pelas informações de **corpo formado por cabeça, tórax e abdome**, **possui antenas** e **3 pares de patas**, infere-se que se trata de um **inseto**. O único inseto descrito nas regras que **não apresenta pares de asas** é a **formiga**."
      ],
      "metadata": {
        "id": "Jv5y9w26xd-c"
      }
    },
    {
      "cell_type": "code",
      "source": [
        "# ANT\n",
        "exemplo3 = Arthropods()\n",
        "exemplo3.reset()\n",
        "exemplo3.factz([\n",
        "    Fact(body='head, thorax and abdomen'),\n",
        "    Fact('has antennas'),\n",
        "    Fact(pairs_of_legs='3'),\n",
        "    Fact(pair_of_wings='0')\n",
        "])\n",
        "exemplo3.run()\n",
        "exemplo3.facts"
      ],
      "metadata": {
        "colab": {
          "base_uri": "https://localhost:8080/"
        },
        "id": "8wjqDeVeTWBM",
        "outputId": "08da8976-294a-42b9-fb83-8474b41738c0"
      },
      "execution_count": 7,
      "outputs": [
        {
          "output_type": "stream",
          "name": "stdout",
          "text": [
            "Arthropod is ant\n"
          ]
        },
        {
          "output_type": "execute_result",
          "data": {
            "text/plain": [
              "FactList([(0, InitialFact()),\n",
              "          (1, Fact(body='head, thorax and abdomen')),\n",
              "          (2, Fact('has antennas')),\n",
              "          (3, Fact(pairs_of_legs='3')),\n",
              "          (4, Fact(pair_of_wings='0')),\n",
              "          (5, Fact('insect')),\n",
              "          (6, Fact(arthropod='ant'))])"
            ]
          },
          "metadata": {},
          "execution_count": 7
        }
      ]
    },
    {
      "cell_type": "markdown",
      "source": [
        "### **Exemplo 04: Bee**\n",
        "\n",
        "Pelas informações de **corpo formado por cabeça, tórax e abdome**, **possui antenas** e **3 pares de patas**, infere-se que se trata de um **inseto**. Apresentando **2 pares de patas**, poderia ser uma borboleta, uma vespa ou uma abelha. Como o último fato descreve que o artrópode **produz mel**, conclui-se que se trata de uma **abelha**."
      ],
      "metadata": {
        "id": "XRypGJnzx6Kh"
      }
    },
    {
      "cell_type": "code",
      "source": [
        "# BEE\n",
        "exemplo4 = Arthropods()\n",
        "exemplo4.reset()\n",
        "exemplo4.factz([\n",
        "    Fact(body='head, thorax and abdomen'),\n",
        "    Fact('has antennas'),\n",
        "    Fact(pairs_of_legs='3'),\n",
        "    Fact(pair_of_wings='2'),\n",
        "    Fact('makes honey'),\n",
        "])\n",
        "exemplo4.run()\n",
        "exemplo4.facts"
      ],
      "metadata": {
        "colab": {
          "base_uri": "https://localhost:8080/"
        },
        "id": "tGdPmkVPTpJe",
        "outputId": "3701315d-7d01-48b3-c84f-f084343b2690"
      },
      "execution_count": 8,
      "outputs": [
        {
          "output_type": "stream",
          "name": "stdout",
          "text": [
            "Arthropod is bee\n"
          ]
        },
        {
          "output_type": "execute_result",
          "data": {
            "text/plain": [
              "FactList([(0, InitialFact()),\n",
              "          (1, Fact(body='head, thorax and abdomen')),\n",
              "          (2, Fact('has antennas')),\n",
              "          (3, Fact(pairs_of_legs='3')),\n",
              "          (4, Fact(pair_of_wings='2')),\n",
              "          (5, Fact('makes honey')),\n",
              "          (6, Fact('insect')),\n",
              "          (7, Fact(arthropod='bee'))])"
            ]
          },
          "metadata": {},
          "execution_count": 8
        }
      ]
    },
    {
      "cell_type": "markdown",
      "source": [
        "### **Exemplo 05: Beetle**\n",
        "\n",
        "Pelas informações de **corpo formado por cabeça, tórax e abdome**, **possui antenas** e **3 pares de patas**, infere-se que se trata de um **inseto**. Pelo último fato, infere-se que é um **besouro**, afinal é o único inseto descrito nas regras que apresenta **chifres**."
      ],
      "metadata": {
        "id": "uX1Ria7wyerP"
      }
    },
    {
      "cell_type": "code",
      "source": [
        "# BEETLE\n",
        "exemplo5 = Arthropods()\n",
        "exemplo5.reset()\n",
        "exemplo5.factz([\n",
        "    Fact(body='head, thorax and abdomen'),\n",
        "    Fact('has antennas'),\n",
        "    Fact(pairs_of_legs='3'),\n",
        "    Fact('has horn')\n",
        "])\n",
        "exemplo5.run()\n",
        "exemplo5.facts"
      ],
      "metadata": {
        "colab": {
          "base_uri": "https://localhost:8080/"
        },
        "id": "Y3OrXI3lT73L",
        "outputId": "1c3a74ed-d92c-4bf5-deff-62b067ac96bc"
      },
      "execution_count": 9,
      "outputs": [
        {
          "output_type": "stream",
          "name": "stdout",
          "text": [
            "Arthropod is beetle\n"
          ]
        },
        {
          "output_type": "execute_result",
          "data": {
            "text/plain": [
              "FactList([(0, InitialFact()),\n",
              "          (1, Fact(body='head, thorax and abdomen')),\n",
              "          (2, Fact('has antennas')),\n",
              "          (3, Fact(pairs_of_legs='3')),\n",
              "          (4, Fact('has horn')),\n",
              "          (5, Fact('insect')),\n",
              "          (6, Fact(arthropod='beetle'))])"
            ]
          },
          "metadata": {},
          "execution_count": 9
        }
      ]
    },
    {
      "cell_type": "markdown",
      "source": [
        "### **Exemplo 06: Butterfly**\n",
        "\n",
        "Pelas informações de **corpo formado por cabeça, tórax e abdome**, **possui antenas** e **3 pares de patas**, infere-se que se trata de um **inseto**. Apresentando **2 pares de asas**, pode ser uma vespa, abelha ou borboleta. Por realizar **metamorfose**, as possibilidades se restringem a vespa e borboleta. Sendo o último fato o de que o artrópode **não apresenta ferrão**, infere-se que seja uma **borboleta**."
      ],
      "metadata": {
        "id": "ez5EYzFVyuLX"
      }
    },
    {
      "cell_type": "code",
      "source": [
        "# BUTTERFLY\n",
        "\n",
        "exemplo6 = Arthropods()\n",
        "exemplo6.reset()\n",
        "exemplo6.factz([\n",
        "     Fact(body='head, thorax and abdomen'),\n",
        "    Fact('has antennas'),\n",
        "    Fact(pairs_of_legs='3'),\n",
        "    Fact(pair_of_wings='2'),\n",
        "    Fact('metamorphosis'),\n",
        "    Fact('no sting')\n",
        "])\n",
        "exemplo6.run()\n",
        "exemplo6.facts"
      ],
      "metadata": {
        "colab": {
          "base_uri": "https://localhost:8080/"
        },
        "id": "0SnU4P7CUTIw",
        "outputId": "0347cb95-77c2-40c4-aa0d-3ad424a3dc8d"
      },
      "execution_count": 10,
      "outputs": [
        {
          "output_type": "stream",
          "name": "stdout",
          "text": [
            "Arthropod is butterfly\n"
          ]
        },
        {
          "output_type": "execute_result",
          "data": {
            "text/plain": [
              "FactList([(0, InitialFact()),\n",
              "          (1, Fact(body='head, thorax and abdomen')),\n",
              "          (2, Fact('has antennas')),\n",
              "          (3, Fact(pairs_of_legs='3')),\n",
              "          (4, Fact(pair_of_wings='2')),\n",
              "          (5, Fact('metamorphosis')),\n",
              "          (6, Fact('no sting')),\n",
              "          (7, Fact('insect')),\n",
              "          (8, Fact(arthropod='butterfly'))])"
            ]
          },
          "metadata": {},
          "execution_count": 10
        }
      ]
    },
    {
      "cell_type": "markdown",
      "source": [
        "### **Exemplo 07: Wasp**\n",
        "\n",
        "Semelhantemente ao exemplo anterior da borboleta, o artrópode é um **inseto** com **2 pares de asas** e **realiza** metamorfose. Todavia, se diferencia por **possuir ferrão**, sendo, portanto, uma **vespa**."
      ],
      "metadata": {
        "id": "qUpWlpVYzX5I"
      }
    },
    {
      "cell_type": "code",
      "source": [
        "# WASP\n",
        "\n",
        "exemplo7 = Arthropods()\n",
        "exemplo7.reset()\n",
        "exemplo7.factz([\n",
        "    Fact(body='head, thorax and abdomen'),\n",
        "    Fact('has antennas'),\n",
        "    Fact(pairs_of_legs='3'),\n",
        "    Fact(pair_of_wings='2'),\n",
        "    Fact('metamorphosis'),\n",
        "    Fact('has sting')\n",
        "])\n",
        "exemplo7.run()\n",
        "exemplo7.facts"
      ],
      "metadata": {
        "colab": {
          "base_uri": "https://localhost:8080/"
        },
        "id": "GCPvjAwGXqv6",
        "outputId": "d2356141-4ef1-4ae8-b898-ed07b59b0e90"
      },
      "execution_count": 11,
      "outputs": [
        {
          "output_type": "stream",
          "name": "stdout",
          "text": [
            "Arthropod is wasp\n"
          ]
        },
        {
          "output_type": "execute_result",
          "data": {
            "text/plain": [
              "FactList([(0, InitialFact()),\n",
              "          (1, Fact(body='head, thorax and abdomen')),\n",
              "          (2, Fact('has antennas')),\n",
              "          (3, Fact(pairs_of_legs='3')),\n",
              "          (4, Fact(pair_of_wings='2')),\n",
              "          (5, Fact('metamorphosis')),\n",
              "          (6, Fact('has sting')),\n",
              "          (7, Fact('insect')),\n",
              "          (8, Fact(arthropod='wasp'))])"
            ]
          },
          "metadata": {},
          "execution_count": 11
        }
      ]
    },
    {
      "cell_type": "markdown",
      "source": [
        "### **Exemplo 08: Crab**\n",
        "\n",
        "Tendo o corpo composto por **cefalotórax e abdome**, pode ser tanto um **crustáceo** quanto um **aracnídeo**. O segundo fato indica que **possui antenas**, portanto é um **crustáceo**. Por possuir **5 pares de patas** e **ser tanto terrestre quanto aquático**, infere-se que seja um **caranguejo**."
      ],
      "metadata": {
        "id": "yp7FFiTdztZX"
      }
    },
    {
      "cell_type": "code",
      "source": [
        "# CRAB\n",
        "\n",
        "exemplo8 = Arthropods()\n",
        "exemplo8.reset()\n",
        "exemplo8.factz([\n",
        "    Fact(body='cephalothorax and abdomen'),\n",
        "    Fact('has antennas'),\n",
        "    Fact(pair_of_legs='5'),\n",
        "    Fact('terrestrial and aquatic')\n",
        "])\n",
        "exemplo8.run()\n",
        "exemplo8.facts"
      ],
      "metadata": {
        "colab": {
          "base_uri": "https://localhost:8080/"
        },
        "id": "6bgvOgEjX1L_",
        "outputId": "787e954b-d64c-4faa-bcfb-c825e758fda9"
      },
      "execution_count": 12,
      "outputs": [
        {
          "output_type": "stream",
          "name": "stdout",
          "text": [
            "Arthropod is crab\n"
          ]
        },
        {
          "output_type": "execute_result",
          "data": {
            "text/plain": [
              "FactList([(0, InitialFact()),\n",
              "          (1, Fact(body='cephalothorax and abdomen')),\n",
              "          (2, Fact('has antennas')),\n",
              "          (3, Fact(pair_of_legs='5')),\n",
              "          (4, Fact('terrestrial and aquatic')),\n",
              "          (5, Fact('crustacean')),\n",
              "          (6, Fact(arthropod='crab'))])"
            ]
          },
          "metadata": {},
          "execution_count": 12
        }
      ]
    },
    {
      "cell_type": "markdown",
      "source": [
        "### **Exemplo 09: Sow Bug**\n",
        "\n",
        "Semelhantemente ao exemplo anterior, o artrópode caracterizado é um **crustáceo**. Entretanto, se difere de um caranguejo por apresentar **7 pares de patas** e **ser apenas terrestre**, sendo, portanto, um **tatuzinho-de-jardim**."
      ],
      "metadata": {
        "id": "MB2ebIxu0otj"
      }
    },
    {
      "cell_type": "code",
      "source": [
        "# SOW BUG\n",
        "exemplo9 = Arthropods()\n",
        "exemplo9.reset()\n",
        "exemplo9.factz([\n",
        "    Fact(body='cephalothorax and abdomen'),\n",
        "    Fact('has antennas'),\n",
        "    Fact(pair_of_legs='7'),\n",
        "    Fact('terrestrial')\n",
        "])\n",
        "exemplo9.run()\n",
        "exemplo9.facts"
      ],
      "metadata": {
        "colab": {
          "base_uri": "https://localhost:8080/"
        },
        "id": "P5xJRlp0YOPX",
        "outputId": "d5b2c732-28b4-40c9-c07f-04629b751de9"
      },
      "execution_count": 13,
      "outputs": [
        {
          "output_type": "stream",
          "name": "stdout",
          "text": [
            "Arthropod is sow bug\n"
          ]
        },
        {
          "output_type": "execute_result",
          "data": {
            "text/plain": [
              "FactList([(0, InitialFact()),\n",
              "          (1, Fact(body='cephalothorax and abdomen')),\n",
              "          (2, Fact('has antennas')),\n",
              "          (3, Fact(pair_of_legs='7')),\n",
              "          (4, Fact('terrestrial')),\n",
              "          (5, Fact('crustacean')),\n",
              "          (6, Fact(arthropod='sow bug'))])"
            ]
          },
          "metadata": {},
          "execution_count": 13
        }
      ]
    },
    {
      "cell_type": "markdown",
      "source": [
        "### **Exemplo 10: Centipede**\n",
        "\n",
        "Por apresentar corpo **segmentado** e composto por **cabeça e tórax**, **antenas** e **1 par de patas** (por segmento), sabe-se que é um **quilópode**. Apresentando comportamento **carnívoro**, infere-se que seja uma **centopeia**."
      ],
      "metadata": {
        "id": "_NR9rw3v1DIS"
      }
    },
    {
      "cell_type": "code",
      "source": [
        "# CENTIPEDE\n",
        "exemplo10 = Arthropods()\n",
        "exemplo10.reset()\n",
        "exemplo10.factz([\n",
        "  Fact(body='head and thorax'),\n",
        "  Fact('has antennas'),\n",
        "  Fact('segmented'),\n",
        "  Fact('poisonous'),\n",
        "  Fact(pair_of_legs='1'),\n",
        "  Fact('carnivore')\n",
        "])\n",
        "\n",
        "exemplo10.run()\n",
        "exemplo10.facts"
      ],
      "metadata": {
        "colab": {
          "base_uri": "https://localhost:8080/"
        },
        "id": "3vmvc1xLYjbW",
        "outputId": "c4d418c1-c093-4f3a-d069-218492c98b22"
      },
      "execution_count": 14,
      "outputs": [
        {
          "output_type": "stream",
          "name": "stdout",
          "text": [
            "Arthropod is centipede\n"
          ]
        },
        {
          "output_type": "execute_result",
          "data": {
            "text/plain": [
              "FactList([(0, InitialFact()),\n",
              "          (1, Fact(body='head and thorax')),\n",
              "          (2, Fact('has antennas')),\n",
              "          (3, Fact('segmented')),\n",
              "          (4, Fact('poisonous')),\n",
              "          (5, Fact(pair_of_legs='1')),\n",
              "          (6, Fact('carnivore')),\n",
              "          (7, Fact('chilopod')),\n",
              "          (8, Fact(arthropod='centipede'))])"
            ]
          },
          "metadata": {},
          "execution_count": 14
        }
      ]
    },
    {
      "cell_type": "markdown",
      "source": [
        "### **Exemplo 11: Millipede**\n",
        "\n",
        "Por apresentar corpo **segmentado** e composto por **cabeça e tórax**, **antenas** e **2 pares de patas** (por segmento), sabe-se que é um diplópode. Apresentando comportamento **herbívoro**, infere-se que seja um **piolho de cobra**."
      ],
      "metadata": {
        "id": "hRQhsPjK4TmK"
      }
    },
    {
      "cell_type": "code",
      "source": [
        "# MILLIPEDE\n",
        "exemplo11 = Arthropods()\n",
        "exemplo11.reset()\n",
        "exemplo11.factz([\n",
        "  Fact(body='head and thorax'),\n",
        "  Fact('has antennas'),\n",
        "  Fact('segmented'),\n",
        "  Fact(pair_of_legs='2'),\n",
        "  Fact('herbivore')\n",
        "])\n",
        "\n",
        "exemplo11.run()\n",
        "exemplo11.facts"
      ],
      "metadata": {
        "colab": {
          "base_uri": "https://localhost:8080/"
        },
        "id": "kHqPyPVAZHSx",
        "outputId": "a15c7565-2106-499b-ccaa-9e55891a68fb"
      },
      "execution_count": 15,
      "outputs": [
        {
          "output_type": "stream",
          "name": "stdout",
          "text": [
            "Arthropod is millipede\n"
          ]
        },
        {
          "output_type": "execute_result",
          "data": {
            "text/plain": [
              "FactList([(0, InitialFact()),\n",
              "          (1, Fact(body='head and thorax')),\n",
              "          (2, Fact('has antennas')),\n",
              "          (3, Fact('segmented')),\n",
              "          (4, Fact(pair_of_legs='2')),\n",
              "          (5, Fact('herbivore')),\n",
              "          (6, Fact('diplopod')),\n",
              "          (7, Fact(arthropod='millipede'))])"
            ]
          },
          "metadata": {},
          "execution_count": 15
        }
      ]
    },
    {
      "cell_type": "markdown",
      "source": [
        "### **Exemplo 12: Não é possível inferir**\n",
        "\n",
        "Apresentando corpo formado por **cabeça, tórax e abdome**, **antenas** e **3 pares de patas**, infere-se que é um inseto. Todavia, a informação de que este possui **2 pares de asas** não é suficiente para inferir um artrópode, uma vez que este pode ser uma abelha, uma vespa ou uma borboleta. É necessário mais informações para que seja possível realizar inferência."
      ],
      "metadata": {
        "id": "c_9hxrAH5O-v"
      }
    },
    {
      "cell_type": "code",
      "source": [
        "# NÃO É POSSÍVEL INFERIR\n",
        "\n",
        "exemplo12 = Arthropods()\n",
        "exemplo12.reset()\n",
        "exemplo12.factz([\n",
        "    Fact(body='head, thorax and abdomen'),\n",
        "    Fact('has antennas'),\n",
        "    Fact(pairs_of_legs='3'),\n",
        "    Fact(pairs_of_wings='2')\n",
        "])\n",
        "exemplo12.run()\n",
        "exemplo12.facts"
      ],
      "metadata": {
        "colab": {
          "base_uri": "https://localhost:8080/"
        },
        "id": "VmjaPznpZbBl",
        "outputId": "8cc8a871-483f-4e61-95a6-f010b8da1044"
      },
      "execution_count": 16,
      "outputs": [
        {
          "output_type": "execute_result",
          "data": {
            "text/plain": [
              "FactList([(0, InitialFact()),\n",
              "          (1, Fact(body='head, thorax and abdomen')),\n",
              "          (2, Fact('has antennas')),\n",
              "          (3, Fact(pairs_of_legs='3')),\n",
              "          (4, Fact(pairs_of_wings='2')),\n",
              "          (5, Fact('insect'))])"
            ]
          },
          "metadata": {},
          "execution_count": 16
        }
      ]
    },
    {
      "cell_type": "markdown",
      "source": [
        "### **Exemplo 13: Fatos contraditórios**\n",
        "\n",
        "Tanto uma vespa quanto uma borboleta são **insetos** que **possuem 2 pares de asas** e **realizam metamorfose**. O que difere esses ártropodes é a **ausência de ferrão** na borboleta e **presença de ferrão** na vespa.\n",
        "\n",
        "Entretanto, se informarmos o fato de que o artrópode **não possui ferrão** e, em seguida, contradizermos essa informação afirmando que o artrópode **possui ferrão**, teremos como resultado duas inferências afirmando que o artrópode é tanto uma borboleta quanto uma vespa, o que é absurdo."
      ],
      "metadata": {
        "id": "sDyuSQUM6IDc"
      }
    },
    {
      "cell_type": "code",
      "source": [
        "# FATOS CONTRADITÓRIOS\n",
        "\n",
        "exemplo13 = Arthropods()\n",
        "exemplo13.reset()\n",
        "exemplo13.factz([\n",
        "    Fact(body='head, thorax and abdomen'),\n",
        "    Fact('has antennas'),\n",
        "    Fact(pairs_of_legs='3'),\n",
        "    Fact(pair_of_wings='2'),\n",
        "    Fact('metamorphosis'),\n",
        "    Fact('no sting'),\n",
        "    Fact('has sting')\n",
        "])\n",
        "exemplo13.run()\n",
        "exemplo13.facts"
      ],
      "metadata": {
        "colab": {
          "base_uri": "https://localhost:8080/"
        },
        "id": "OpDxdsz-ZvTH",
        "outputId": "28c7758c-36bd-4ada-a9f8-3233797408d0"
      },
      "execution_count": 17,
      "outputs": [
        {
          "output_type": "stream",
          "name": "stdout",
          "text": [
            "Arthropod is wasp\n",
            "Arthropod is butterfly\n"
          ]
        },
        {
          "output_type": "execute_result",
          "data": {
            "text/plain": [
              "FactList([(0, InitialFact()),\n",
              "          (1, Fact(body='head, thorax and abdomen')),\n",
              "          (2, Fact('has antennas')),\n",
              "          (3, Fact(pairs_of_legs='3')),\n",
              "          (4, Fact(pair_of_wings='2')),\n",
              "          (5, Fact('metamorphosis')),\n",
              "          (6, Fact('no sting')),\n",
              "          (7, Fact('has sting')),\n",
              "          (8, Fact('insect')),\n",
              "          (9, Fact(arthropod='wasp')),\n",
              "          (10, Fact(arthropod='butterfly'))])"
            ]
          },
          "metadata": {},
          "execution_count": 17
        }
      ]
    },
    {
      "cell_type": "markdown",
      "source": [
        "### **Extra: Implementação Artists**\n",
        "\n",
        "Inicialmente, nossa implementação de regras tinha como objetivo inferir um artista a partir de músicas e instrumentos tocados por ele.\n",
        "\n",
        "Entretanto, essa implementação foi descontinuada devido à simplicidade desta, que funcionava quase como uma consulta direta, sem permitir tantas inferências.\n",
        "\n",
        "Ainda assim, consideramos válido deixar nosso primeiro contato com a biblioteca `pyknow` documentado."
      ],
      "metadata": {
        "id": "oizU1ziS7OLC"
      }
    },
    {
      "cell_type": "code",
      "source": [
        "class Artists(KnowledgeEngine):\n",
        "  @Rule(Fact(instrument='drums'))\n",
        "  def drummer(self):\n",
        "    self.declare(Fact('drummer'))\n",
        "\n",
        "  @Rule(Fact(instrument='guitar'))\n",
        "  def guitarist(self):\n",
        "    self.declare(Fact('guitarist'))\n",
        "\n",
        "  @Rule(Fact(instrument='bass'))\n",
        "  def bassist(self):\n",
        "    self.declare(Fact('bassist'))\n",
        "\n",
        "  @Rule(Fact(instrument='vocals'))\n",
        "  def vocalist(self):\n",
        "    self.declare(Fact('vocalist'))\n",
        "\n",
        "  @Rule(AND(Fact('guitarist'), Fact('plays solo')))\n",
        "  def lead_guitarist(self):\n",
        "    self.declare(Fact('lead guitarist'))\n",
        "\n",
        "  @Rule(AND(Fact('guitarist'), Fact('plays rhythm')))\n",
        "  def rhythm_guitarist(self):\n",
        "    self.declare(Fact('rhythm guitarist'))\n",
        "\n",
        "  @Rule(OR(Fact(song='Smells Like Teen Spirit'),\n",
        "           Fact(song='Heart-Shaped Box'),\n",
        "           Fact(song='Lithium')))\n",
        "  def nirvana(self):\n",
        "    self.declare(Fact(band='Nirvana'))\n",
        "\n",
        "  @Rule(OR(Fact(song='Sweet Child of Mine'),\n",
        "           Fact(song='Paradise City'),\n",
        "           Fact(song='November Rain')))\n",
        "  def guns_n_roses(self):\n",
        "    self.declare(Fact(band='Guns n Roses'))\n",
        "\n",
        "  @Rule(OR(Fact(song='Serenata Existencialista'),\n",
        "           Fact(song='Herói do Futuro'),\n",
        "           Fact(song='Contramão')))\n",
        "  def o_grilo(self):\n",
        "    self.declare(Fact(band='O Grilo'))\n",
        "\n",
        "  @Rule(AND(Fact('vocalist'), Fact(band='O Grilo')))\n",
        "  def pedro_martins(self):\n",
        "    self.declare(Fact(artist='Pedro Martins'))\n",
        "\n",
        "  @Rule(AND(Fact('drummer'), Fact(band='O Grilo')))\n",
        "  def lucas_teixeira(self):\n",
        "    self.declare(Fact(artist='Lucas Teixeira'))\n",
        "\n",
        "  @Rule(AND(Fact('guitarist'), Fact(band='O Grilo')))\n",
        "  def felipe_martins(self):\n",
        "    self.declare(Fact(artist='Felipe Martins'))\n",
        "\n",
        "  @Rule(AND(Fact('bassist'), Fact(band='O Grilo')))\n",
        "  def gabriel_cavallari(self):\n",
        "    self.declare(Fact(artist='Gabriel Cavallari'))\n",
        "\n",
        "  @Rule(AND(Fact('lead guitarist'), Fact(band='Guns n Roses')))\n",
        "  def slash(self):\n",
        "    self.declare(Fact(artist='Slash'))\n",
        "\n",
        "  @Rule(AND(Fact('rhythm guitarist'), Fact(band='Guns n Roses')))\n",
        "  def izzy_stradlin(self):\n",
        "    self.declare(Fact(artist='Izzy Stradlin'))\n",
        "\n",
        "  @Rule(OR(\n",
        "        AND(Fact('vocalist'), Fact(band='Foo Fighters')),\n",
        "        AND(Fact('drummer'), Fact(band='Nirvana'))))\n",
        "  def dave_grohl(self):\n",
        "    self.declare(Fact(artist='Dave Grohl'))\n",
        "\n",
        "  @Rule(AND(OR(Fact('vocalist'), Fact('guitarist')), Fact(band='Nirvana')))\n",
        "  def kurt_cobain(self):\n",
        "    self.declare(Fact(artist='Kurt Cobain'))\n",
        "\n",
        "  @Rule(OR(Fact(song='Seek and Destroy'),\n",
        "           Fact(song='The Four Horsemen'),\n",
        "           Fact(song='Hit The Lights')))\n",
        "  def kill_em_all(self):\n",
        "    self.declare(Fact(album='Kill Em All'))\n",
        "\n",
        "  @Rule(OR(Fact(song='One'),\n",
        "           Fact(song='Harvester of Sorrow'),\n",
        "           Fact(song='To Live is to Die')))\n",
        "  def and_justice_for_all(self):\n",
        "    self.declare(Fact(album='And Justice for All'))\n",
        "\n",
        "  @Rule(OR(Fact(album='And Justice for All'), Fact(album='Kill Em All')))\n",
        "  def metallica(self):\n",
        "    self.declare(Fact(band='Metallica'))\n",
        "\n",
        "  @Rule(AND(\n",
        "        OR(Fact('rhythm guitarist'), Fact('vocalist')),\n",
        "        Fact(band='Metallica')))\n",
        "  def james_hetfield(self):\n",
        "    self.declare(Fact(artist='James Hetfield'))\n",
        "\n",
        "  @Rule(OR(\n",
        "        AND(OR(Fact('vocalist'), Fact('guitarist')), Fact(band='Megadeth')),\n",
        "        AND(Fact('lead guitarist'), Fact(album='Kill Em All'))))\n",
        "  def dave_mustaine(self):\n",
        "    self.declare(Fact(artist='Dave Mustaine'))\n",
        "\n",
        "  @Rule(AND(Fact('lead guitarist'), Fact(album='And Justice for All')))\n",
        "  def kirk_hammett(self):\n",
        "    self.declare(Fact(artist='Kirk Hammett'))\n",
        "\n",
        "  @Rule(Fact(artist=MATCH.artist))\n",
        "  def print_result(self, artist):\n",
        "    print(f'Artist is {artist}')\n",
        "\n",
        "  def factz(self, l):\n",
        "    for x in l:\n",
        "      self.declare(x)"
      ],
      "metadata": {
        "id": "p3g-OiTqv6hM"
      },
      "execution_count": 18,
      "outputs": []
    },
    {
      "cell_type": "markdown",
      "source": [
        "### **Exemplo 14: Kirk Hammett**\n",
        "\n",
        "Por apresentar **guitarra** como **instrumento**, e **tocar solos** no álbum **And Justice for All**, infere-se que seja o **lead guitarist** da banda **Metallica**: **Kirk Hammett**."
      ],
      "metadata": {
        "id": "C89fnop-8uDe"
      }
    },
    {
      "cell_type": "code",
      "source": [
        "exemplo14 = Artists()\n",
        "exemplo14.reset()\n",
        "exemplo14.factz([\n",
        "    Fact(instrument='guitar'),\n",
        "    Fact(album='And Justice for All'),\n",
        "    Fact('plays solo')\n",
        "])\n",
        "exemplo14.run()\n",
        "exemplo14.facts"
      ],
      "metadata": {
        "colab": {
          "base_uri": "https://localhost:8080/"
        },
        "id": "uX7AeI9977Dv",
        "outputId": "365a55c5-f357-45a6-b09c-a4fcc43dd082"
      },
      "execution_count": 19,
      "outputs": [
        {
          "output_type": "stream",
          "name": "stdout",
          "text": [
            "Artist is Kirk Hammett\n"
          ]
        },
        {
          "output_type": "execute_result",
          "data": {
            "text/plain": [
              "FactList([(0, InitialFact()),\n",
              "          (1, Fact(instrument='guitar')),\n",
              "          (2, Fact(album='And Justice for All')),\n",
              "          (3, Fact('plays solo')),\n",
              "          (4, Fact(band='Metallica')),\n",
              "          (5, Fact('guitarist')),\n",
              "          (6, Fact('lead guitarist')),\n",
              "          (7, Fact(artist='Kirk Hammett'))])"
            ]
          },
          "metadata": {},
          "execution_count": 19
        }
      ]
    },
    {
      "cell_type": "markdown",
      "source": [
        "# **Referências**\n",
        "\n",
        "BRASIL ESCOLA. *Artrópodes: o que são, características, exemplos*. Meio eletrônico. Disponível em https://brasilescola.uol.com.br/biologia/artropodes2.htm. Acesso em: 26 mar. 2025."
      ],
      "metadata": {
        "id": "7LtXrRFr4hg3"
      }
    },
    {
      "cell_type": "markdown",
      "metadata": {
        "id": "8crUBC3IQ3U_"
      },
      "source": [
        "---"
      ]
    },
    {
      "cell_type": "code",
      "metadata": {
        "id": "BluFtfHuCGzm",
        "cellView": "form"
      },
      "source": [
        "#@title **Avaliação**\n",
        "Resumo = 10 #@param {type:\"slider\", min:0, max:10, step:1}\n",
        "\n",
        "Implementacao = 9 #@param {type:\"slider\", min:0, max:10, step:1}\n",
        "\n",
        "Resultados = 6 #@param {type:\"slider\", min:0, max:10, step:1}\n",
        "\n",
        "Referencias = 7 #@param {type:\"slider\", min:0, max:10, step:1}\n",
        "\n",
        "Geral = 7 #@param {type:\"slider\", min:0, max:10, step:1}"
      ],
      "execution_count": null,
      "outputs": []
    },
    {
      "cell_type": "code",
      "metadata": {
        "colab": {
          "base_uri": "https://localhost:8080/",
          "height": 160
        },
        "id": "2Gqw7hUZHyle",
        "cellView": "form",
        "outputId": "1b1a4f34-6c70-42b3-b7bd-e4ad9d5e2d1d"
      },
      "source": [
        "#@title **Nota Final**\n",
        "nota = Resumo + Implementacao + Resultados + Referencias + Geral\n",
        "\n",
        "nota = nota / 5\n",
        "\n",
        "print(f'Nota final do trabalho {nota :.1f}')\n",
        "\n",
        "import numpy as np\n",
        "import pandas as pd\n",
        "\n",
        "alunos = pd.DataFrame()\n",
        "\n",
        "lista_tia = []\n",
        "lista_nome = []\n",
        "\n",
        "for i in range(1,6):\n",
        "  exec(\"if Aluno\" + str(i) + \" !='None':  lista = Aluno\" + str(i) + \".split(','); lista_tia.append(lista[0]); lista_nome.append(lista[1].upper())\")\n",
        "\n",
        "alunos['tia'] = lista_tia\n",
        "alunos['nome'] = lista_nome\n",
        "alunos['nota'] = np.round(nota,1)\n",
        "print()\n",
        "display(alunos)"
      ],
      "execution_count": null,
      "outputs": [
        {
          "output_type": "stream",
          "name": "stdout",
          "text": [
            "Nota final do trabalho 7.8\n",
            "\n"
          ]
        },
        {
          "output_type": "display_data",
          "data": {
            "text/plain": [
              "       tia              nome  nota\n",
              "0  1115665    ADRIANA FUJITA   7.8\n",
              "1  1115677   DANIEL HENRIQUE   7.8"
            ],
            "text/html": [
              "\n",
              "  <div id=\"df-3f332703-16c6-4020-966f-7e6a8638a4b7\" class=\"colab-df-container\">\n",
              "    <div>\n",
              "<style scoped>\n",
              "    .dataframe tbody tr th:only-of-type {\n",
              "        vertical-align: middle;\n",
              "    }\n",
              "\n",
              "    .dataframe tbody tr th {\n",
              "        vertical-align: top;\n",
              "    }\n",
              "\n",
              "    .dataframe thead th {\n",
              "        text-align: right;\n",
              "    }\n",
              "</style>\n",
              "<table border=\"1\" class=\"dataframe\">\n",
              "  <thead>\n",
              "    <tr style=\"text-align: right;\">\n",
              "      <th></th>\n",
              "      <th>tia</th>\n",
              "      <th>nome</th>\n",
              "      <th>nota</th>\n",
              "    </tr>\n",
              "  </thead>\n",
              "  <tbody>\n",
              "    <tr>\n",
              "      <th>0</th>\n",
              "      <td>1115665</td>\n",
              "      <td>ADRIANA FUJITA</td>\n",
              "      <td>7.8</td>\n",
              "    </tr>\n",
              "    <tr>\n",
              "      <th>1</th>\n",
              "      <td>1115677</td>\n",
              "      <td>DANIEL HENRIQUE</td>\n",
              "      <td>7.8</td>\n",
              "    </tr>\n",
              "  </tbody>\n",
              "</table>\n",
              "</div>\n",
              "    <div class=\"colab-df-buttons\">\n",
              "\n",
              "  <div class=\"colab-df-container\">\n",
              "    <button class=\"colab-df-convert\" onclick=\"convertToInteractive('df-3f332703-16c6-4020-966f-7e6a8638a4b7')\"\n",
              "            title=\"Convert this dataframe to an interactive table.\"\n",
              "            style=\"display:none;\">\n",
              "\n",
              "  <svg xmlns=\"http://www.w3.org/2000/svg\" height=\"24px\" viewBox=\"0 -960 960 960\">\n",
              "    <path d=\"M120-120v-720h720v720H120Zm60-500h600v-160H180v160Zm220 220h160v-160H400v160Zm0 220h160v-160H400v160ZM180-400h160v-160H180v160Zm440 0h160v-160H620v160ZM180-180h160v-160H180v160Zm440 0h160v-160H620v160Z\"/>\n",
              "  </svg>\n",
              "    </button>\n",
              "\n",
              "  <style>\n",
              "    .colab-df-container {\n",
              "      display:flex;\n",
              "      gap: 12px;\n",
              "    }\n",
              "\n",
              "    .colab-df-convert {\n",
              "      background-color: #E8F0FE;\n",
              "      border: none;\n",
              "      border-radius: 50%;\n",
              "      cursor: pointer;\n",
              "      display: none;\n",
              "      fill: #1967D2;\n",
              "      height: 32px;\n",
              "      padding: 0 0 0 0;\n",
              "      width: 32px;\n",
              "    }\n",
              "\n",
              "    .colab-df-convert:hover {\n",
              "      background-color: #E2EBFA;\n",
              "      box-shadow: 0px 1px 2px rgba(60, 64, 67, 0.3), 0px 1px 3px 1px rgba(60, 64, 67, 0.15);\n",
              "      fill: #174EA6;\n",
              "    }\n",
              "\n",
              "    .colab-df-buttons div {\n",
              "      margin-bottom: 4px;\n",
              "    }\n",
              "\n",
              "    [theme=dark] .colab-df-convert {\n",
              "      background-color: #3B4455;\n",
              "      fill: #D2E3FC;\n",
              "    }\n",
              "\n",
              "    [theme=dark] .colab-df-convert:hover {\n",
              "      background-color: #434B5C;\n",
              "      box-shadow: 0px 1px 3px 1px rgba(0, 0, 0, 0.15);\n",
              "      filter: drop-shadow(0px 1px 2px rgba(0, 0, 0, 0.3));\n",
              "      fill: #FFFFFF;\n",
              "    }\n",
              "  </style>\n",
              "\n",
              "    <script>\n",
              "      const buttonEl =\n",
              "        document.querySelector('#df-3f332703-16c6-4020-966f-7e6a8638a4b7 button.colab-df-convert');\n",
              "      buttonEl.style.display =\n",
              "        google.colab.kernel.accessAllowed ? 'block' : 'none';\n",
              "\n",
              "      async function convertToInteractive(key) {\n",
              "        const element = document.querySelector('#df-3f332703-16c6-4020-966f-7e6a8638a4b7');\n",
              "        const dataTable =\n",
              "          await google.colab.kernel.invokeFunction('convertToInteractive',\n",
              "                                                    [key], {});\n",
              "        if (!dataTable) return;\n",
              "\n",
              "        const docLinkHtml = 'Like what you see? Visit the ' +\n",
              "          '<a target=\"_blank\" href=https://colab.research.google.com/notebooks/data_table.ipynb>data table notebook</a>'\n",
              "          + ' to learn more about interactive tables.';\n",
              "        element.innerHTML = '';\n",
              "        dataTable['output_type'] = 'display_data';\n",
              "        await google.colab.output.renderOutput(dataTable, element);\n",
              "        const docLink = document.createElement('div');\n",
              "        docLink.innerHTML = docLinkHtml;\n",
              "        element.appendChild(docLink);\n",
              "      }\n",
              "    </script>\n",
              "  </div>\n",
              "\n",
              "\n",
              "<div id=\"df-7e6a4f0c-d29b-48c5-8522-e7474891decc\">\n",
              "  <button class=\"colab-df-quickchart\" onclick=\"quickchart('df-7e6a4f0c-d29b-48c5-8522-e7474891decc')\"\n",
              "            title=\"Suggest charts\"\n",
              "            style=\"display:none;\">\n",
              "\n",
              "<svg xmlns=\"http://www.w3.org/2000/svg\" height=\"24px\"viewBox=\"0 0 24 24\"\n",
              "     width=\"24px\">\n",
              "    <g>\n",
              "        <path d=\"M19 3H5c-1.1 0-2 .9-2 2v14c0 1.1.9 2 2 2h14c1.1 0 2-.9 2-2V5c0-1.1-.9-2-2-2zM9 17H7v-7h2v7zm4 0h-2V7h2v10zm4 0h-2v-4h2v4z\"/>\n",
              "    </g>\n",
              "</svg>\n",
              "  </button>\n",
              "\n",
              "<style>\n",
              "  .colab-df-quickchart {\n",
              "      --bg-color: #E8F0FE;\n",
              "      --fill-color: #1967D2;\n",
              "      --hover-bg-color: #E2EBFA;\n",
              "      --hover-fill-color: #174EA6;\n",
              "      --disabled-fill-color: #AAA;\n",
              "      --disabled-bg-color: #DDD;\n",
              "  }\n",
              "\n",
              "  [theme=dark] .colab-df-quickchart {\n",
              "      --bg-color: #3B4455;\n",
              "      --fill-color: #D2E3FC;\n",
              "      --hover-bg-color: #434B5C;\n",
              "      --hover-fill-color: #FFFFFF;\n",
              "      --disabled-bg-color: #3B4455;\n",
              "      --disabled-fill-color: #666;\n",
              "  }\n",
              "\n",
              "  .colab-df-quickchart {\n",
              "    background-color: var(--bg-color);\n",
              "    border: none;\n",
              "    border-radius: 50%;\n",
              "    cursor: pointer;\n",
              "    display: none;\n",
              "    fill: var(--fill-color);\n",
              "    height: 32px;\n",
              "    padding: 0;\n",
              "    width: 32px;\n",
              "  }\n",
              "\n",
              "  .colab-df-quickchart:hover {\n",
              "    background-color: var(--hover-bg-color);\n",
              "    box-shadow: 0 1px 2px rgba(60, 64, 67, 0.3), 0 1px 3px 1px rgba(60, 64, 67, 0.15);\n",
              "    fill: var(--button-hover-fill-color);\n",
              "  }\n",
              "\n",
              "  .colab-df-quickchart-complete:disabled,\n",
              "  .colab-df-quickchart-complete:disabled:hover {\n",
              "    background-color: var(--disabled-bg-color);\n",
              "    fill: var(--disabled-fill-color);\n",
              "    box-shadow: none;\n",
              "  }\n",
              "\n",
              "  .colab-df-spinner {\n",
              "    border: 2px solid var(--fill-color);\n",
              "    border-color: transparent;\n",
              "    border-bottom-color: var(--fill-color);\n",
              "    animation:\n",
              "      spin 1s steps(1) infinite;\n",
              "  }\n",
              "\n",
              "  @keyframes spin {\n",
              "    0% {\n",
              "      border-color: transparent;\n",
              "      border-bottom-color: var(--fill-color);\n",
              "      border-left-color: var(--fill-color);\n",
              "    }\n",
              "    20% {\n",
              "      border-color: transparent;\n",
              "      border-left-color: var(--fill-color);\n",
              "      border-top-color: var(--fill-color);\n",
              "    }\n",
              "    30% {\n",
              "      border-color: transparent;\n",
              "      border-left-color: var(--fill-color);\n",
              "      border-top-color: var(--fill-color);\n",
              "      border-right-color: var(--fill-color);\n",
              "    }\n",
              "    40% {\n",
              "      border-color: transparent;\n",
              "      border-right-color: var(--fill-color);\n",
              "      border-top-color: var(--fill-color);\n",
              "    }\n",
              "    60% {\n",
              "      border-color: transparent;\n",
              "      border-right-color: var(--fill-color);\n",
              "    }\n",
              "    80% {\n",
              "      border-color: transparent;\n",
              "      border-right-color: var(--fill-color);\n",
              "      border-bottom-color: var(--fill-color);\n",
              "    }\n",
              "    90% {\n",
              "      border-color: transparent;\n",
              "      border-bottom-color: var(--fill-color);\n",
              "    }\n",
              "  }\n",
              "</style>\n",
              "\n",
              "  <script>\n",
              "    async function quickchart(key) {\n",
              "      const quickchartButtonEl =\n",
              "        document.querySelector('#' + key + ' button');\n",
              "      quickchartButtonEl.disabled = true;  // To prevent multiple clicks.\n",
              "      quickchartButtonEl.classList.add('colab-df-spinner');\n",
              "      try {\n",
              "        const charts = await google.colab.kernel.invokeFunction(\n",
              "            'suggestCharts', [key], {});\n",
              "      } catch (error) {\n",
              "        console.error('Error during call to suggestCharts:', error);\n",
              "      }\n",
              "      quickchartButtonEl.classList.remove('colab-df-spinner');\n",
              "      quickchartButtonEl.classList.add('colab-df-quickchart-complete');\n",
              "    }\n",
              "    (() => {\n",
              "      let quickchartButtonEl =\n",
              "        document.querySelector('#df-7e6a4f0c-d29b-48c5-8522-e7474891decc button');\n",
              "      quickchartButtonEl.style.display =\n",
              "        google.colab.kernel.accessAllowed ? 'block' : 'none';\n",
              "    })();\n",
              "  </script>\n",
              "</div>\n",
              "\n",
              "  <div id=\"id_c87b0fd4-fabb-4d9e-924b-63f972caff6b\">\n",
              "    <style>\n",
              "      .colab-df-generate {\n",
              "        background-color: #E8F0FE;\n",
              "        border: none;\n",
              "        border-radius: 50%;\n",
              "        cursor: pointer;\n",
              "        display: none;\n",
              "        fill: #1967D2;\n",
              "        height: 32px;\n",
              "        padding: 0 0 0 0;\n",
              "        width: 32px;\n",
              "      }\n",
              "\n",
              "      .colab-df-generate:hover {\n",
              "        background-color: #E2EBFA;\n",
              "        box-shadow: 0px 1px 2px rgba(60, 64, 67, 0.3), 0px 1px 3px 1px rgba(60, 64, 67, 0.15);\n",
              "        fill: #174EA6;\n",
              "      }\n",
              "\n",
              "      [theme=dark] .colab-df-generate {\n",
              "        background-color: #3B4455;\n",
              "        fill: #D2E3FC;\n",
              "      }\n",
              "\n",
              "      [theme=dark] .colab-df-generate:hover {\n",
              "        background-color: #434B5C;\n",
              "        box-shadow: 0px 1px 3px 1px rgba(0, 0, 0, 0.15);\n",
              "        filter: drop-shadow(0px 1px 2px rgba(0, 0, 0, 0.3));\n",
              "        fill: #FFFFFF;\n",
              "      }\n",
              "    </style>\n",
              "    <button class=\"colab-df-generate\" onclick=\"generateWithVariable('alunos')\"\n",
              "            title=\"Generate code using this dataframe.\"\n",
              "            style=\"display:none;\">\n",
              "\n",
              "  <svg xmlns=\"http://www.w3.org/2000/svg\" height=\"24px\"viewBox=\"0 0 24 24\"\n",
              "       width=\"24px\">\n",
              "    <path d=\"M7,19H8.4L18.45,9,17,7.55,7,17.6ZM5,21V16.75L18.45,3.32a2,2,0,0,1,2.83,0l1.4,1.43a1.91,1.91,0,0,1,.58,1.4,1.91,1.91,0,0,1-.58,1.4L9.25,21ZM18.45,9,17,7.55Zm-12,3A5.31,5.31,0,0,0,4.9,8.1,5.31,5.31,0,0,0,1,6.5,5.31,5.31,0,0,0,4.9,4.9,5.31,5.31,0,0,0,6.5,1,5.31,5.31,0,0,0,8.1,4.9,5.31,5.31,0,0,0,12,6.5,5.46,5.46,0,0,0,6.5,12Z\"/>\n",
              "  </svg>\n",
              "    </button>\n",
              "    <script>\n",
              "      (() => {\n",
              "      const buttonEl =\n",
              "        document.querySelector('#id_c87b0fd4-fabb-4d9e-924b-63f972caff6b button.colab-df-generate');\n",
              "      buttonEl.style.display =\n",
              "        google.colab.kernel.accessAllowed ? 'block' : 'none';\n",
              "\n",
              "      buttonEl.onclick = () => {\n",
              "        google.colab.notebook.generateWithVariable('alunos');\n",
              "      }\n",
              "      })();\n",
              "    </script>\n",
              "  </div>\n",
              "\n",
              "    </div>\n",
              "  </div>\n"
            ],
            "application/vnd.google.colaboratory.intrinsic+json": {
              "type": "dataframe",
              "variable_name": "alunos",
              "summary": "{\n  \"name\": \"alunos\",\n  \"rows\": 2,\n  \"fields\": [\n    {\n      \"column\": \"tia\",\n      \"properties\": {\n        \"dtype\": \"string\",\n        \"num_unique_values\": 2,\n        \"samples\": [\n          \"1115677\",\n          \"1115665\"\n        ],\n        \"semantic_type\": \"\",\n        \"description\": \"\"\n      }\n    },\n    {\n      \"column\": \"nome\",\n      \"properties\": {\n        \"dtype\": \"string\",\n        \"num_unique_values\": 2,\n        \"samples\": [\n          \" DANIEL HENRIQUE\",\n          \" ADRIANA FUJITA\"\n        ],\n        \"semantic_type\": \"\",\n        \"description\": \"\"\n      }\n    },\n    {\n      \"column\": \"nota\",\n      \"properties\": {\n        \"dtype\": \"number\",\n        \"std\": 0.0,\n        \"min\": 7.8,\n        \"max\": 7.8,\n        \"num_unique_values\": 1,\n        \"samples\": [\n          7.8\n        ],\n        \"semantic_type\": \"\",\n        \"description\": \"\"\n      }\n    }\n  ]\n}"
            }
          },
          "metadata": {}
        }
      ]
    }
  ]
}