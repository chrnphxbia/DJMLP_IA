{
  "nbformat": 4,
  "nbformat_minor": 0,
  "metadata": {
    "kernelspec": {
      "display_name": "Python 3",
      "language": "python",
      "name": "python3"
    },
    "language_info": {
      "codemirror_mode": {
        "name": "ipython",
        "version": 3
      },
      "file_extension": ".py",
      "mimetype": "text/x-python",
      "name": "python",
      "nbconvert_exporter": "python",
      "pygments_lexer": "ipython3",
      "version": "3.7.4"
    },
    "colab": {
      "provenance": []
    }
  },
  "cells": [
    {
      "cell_type": "markdown",
      "metadata": {
        "id": "40b90843"
      },
      "source": [
        "<img src=\"http://meusite.mackenzie.br/rogerio/mackenzie_logo/UPM.2_horizontal_vermelho.jpg\"  width=300, align=\"right\">\n",
        "<br>\n",
        "<br>\n",
        "<br>\n",
        "<br>\n",
        "<br>\n",
        "\n",
        "# **Search Algorithms**\n",
        "---\n"
      ]
    },
    {
      "cell_type": "code",
      "metadata": {
        "id": "rYx9D4GZA5o9",
        "cellView": "form"
      },
      "source": [
        "#@title **Identificação do Grupo**\n",
        "\n",
        "#@markdown Integrantes do Grupo, nome completo em ordem alfabética (*informe \\<RA\\>,\\<nome\\>*)\n",
        "Aluno1 = '10402412, Diego Oliveira Aluizio' #@param {type:\"string\"}\n",
        "Aluno2 = '10396490, Jônatas Garcia de Oliveira' #@param {type:\"string\"}\n",
        "Aluno3 = '10403046, Livia Alabarse dos Santos' #@param {type:\"string\"}\n",
        "Aluno4 = '10403028, Marina Scabello Martin' #@param {type:\"string\"}\n",
        "Aluno5 = '10265432, Pedro Henrique Araujo Farias' #@param {type:\"string\"}"
      ],
      "execution_count": 1,
      "outputs": []
    },
    {
      "cell_type": "markdown",
      "source": [
        "# **Resumo**\n",
        "\n",
        "A tarefa inicial do projeto foi a modelagem do grafo e sua visualização.\n",
        "Para a modelagem, consideramos **12 das cidades mais populosas do estado de São Paulo**. Em seguida, foi implementado o algoritmo de **Breadth First Search** como busca não informada. Por fim, escolhemos o algoritmo **A Star Search** como algoritmo de busca informada e o implementamos."
      ],
      "metadata": {
        "id": "JlCIc2YooBW7"
      }
    },
    {
      "cell_type": "markdown",
      "source": [
        "# **Implementação**\n",
        "\n",
        "\n"
      ],
      "metadata": {
        "id": "FyFHbT8vygVp"
      }
    },
    {
      "cell_type": "markdown",
      "source": [
        "> ## **1. Grafo das cidades (2,0)**"
      ],
      "metadata": {
        "id": "FfqBeY18MU2l"
      }
    },
    {
      "cell_type": "markdown",
      "source": [
        "###**Definição do grafo e levantamento de dados**\n",
        "\n",
        "Selecionamos **12 das cidades mais populosas do estado de São Paulo** como vértices do grafo. Para determinar as arestas que conectam os vértices, selecionamos as **três cidades mais próximas de cada cidade**. O custo das arestas é a **distância (em inteiros) entre as cidades, em km, considerando um trajeto de carro, segundo o Google Maps**.\n",
        "\n",
        "Para representar o grafo, utilizamos a variável `tree` para armazenar os vértices das cidades, bem como uma lista com suas cidades vizinhas mais próximas, indicando as arestas a serem estabelecidas entre os vértices: `cidade: [vizinha01, vizinha02, vizinha03]`.\n",
        "\n",
        "Vale notar que, como se trata de um grafo não direcionado, caso exista a aresta `(cidade01, cidade02)`, a aresta `(cidade02, cidade01)` será **omitida**.\n",
        "\n",
        "Para atribuir as distâncias correspondentes a cada rota, ou seja, o custo das arestas, foi criado um dicionário `distance` com tuplas da seguinte forma: `(cidade_origem, cidade_destino): distância_em_km`."
      ],
      "metadata": {
        "id": "SoLSeEX-c-eH"
      }
    },
    {
      "cell_type": "code",
      "source": [
        "tree = {\n",
        "    'São Paulo': ['Guarulhos', 'Osasco', 'São Bernardo do Campo'],\n",
        "    'Guarulhos': ['Osasco', 'São Bernardo do Campo'],\n",
        "    'Campinas': ['Jundiaí', 'Sorocaba', 'Barueri'],\n",
        "    'São Bernardo do Campo': ['Santo André'],\n",
        "    'Santo André': ['São Paulo', 'Guarulhos'],\n",
        "    'Osasco': ['Barueri'],\n",
        "    'Sorocaba': ['Barueri', 'Osasco'],\n",
        "    'Ribeirão Preto': ['Campinas', 'Jundiaí'],\n",
        "    'São José dos Campos': ['Guarulhos', 'São Paulo'],\n",
        "    'Santos': ['São Bernardo do Campo', 'Santo André', 'São Paulo'],\n",
        "    'Barueri': ['São Paulo', 'Guarulhos'],\n",
        "    'Jundiaí': ['Osasco', 'Barueri']\n",
        "}\n",
        "\n",
        "distances = {\n",
        "    ('São Paulo', 'Guarulhos'): 21,\n",
        "    ('São Paulo', 'Osasco'): 21,\n",
        "    ('São Paulo', 'São Bernardo do Campo'): 22,\n",
        "    ('Guarulhos', 'Osasco'): 35,\n",
        "    ('Guarulhos', 'São Bernardo do Campo'): 36,\n",
        "    ('Campinas', 'Jundiaí'): 40,\n",
        "    ('Campinas', 'Sorocaba'): 88,\n",
        "    ('Campinas', 'Barueri'): 92,\n",
        "    ('São Bernardo do Campo', 'Santo André'): 9,\n",
        "    ('Santo André', 'São Paulo'): 26,\n",
        "    ('Santo André', 'Guarulhos'): 42,\n",
        "    ('Osasco', 'Barueri'): 12,\n",
        "    ('Sorocaba', 'Barueri'): 74,\n",
        "    ('Sorocaba', 'Osasco'): 84,\n",
        "    ('Ribeirão Preto', 'Campinas'): 224,\n",
        "    ('Ribeirão Preto', 'Jundiaí'): 260,\n",
        "    ('São José dos Campos', 'Guarulhos'): 76,\n",
        "    ('São José dos Campos', 'São Paulo'): 91,\n",
        "    ('Santos', 'São Bernardo do Campo'): 66,\n",
        "    ('Santos', 'Santo André'): 74,\n",
        "    ('Santos', 'São Paulo'): 81,\n",
        "    ('Barueri', 'São Paulo'): 38,\n",
        "    ('Barueri', 'Guarulhos'): 45,\n",
        "    ('Jundiaí', 'Barueri'): 53,\n",
        "    ('Jundiaí', 'Osasco'): 55\n",
        "}"
      ],
      "metadata": {
        "id": "wKqTG2a2qbsl"
      },
      "execution_count": 2,
      "outputs": []
    },
    {
      "cell_type": "markdown",
      "source": [
        "###**Criação do Grafo**\n",
        "\n",
        "Para criação do Grafo utilizamos as estruturas definidas anteriormente.\n",
        "\n",
        "Cada \"chave\" do dicionário possui uma sequência de itens \"filhos\", simbolizando as arestas do grafo, e as distâncias são adicionadas acessando a posição correspondente da aresta na estrutura de distância.\n",
        "\n",
        "Um novo grafo `G` é gerado utilizando a chamada `nx.Graph()`. Iterando pelas estruturas `tree` e `distances`, adicionamos os vértices e arestas ao grafo `G`.\n",
        "\n",
        "Em seguida, o grafo é desenhado utilizando as funções da biblioteca `networkx`."
      ],
      "metadata": {
        "id": "8etQ5L_ZfsN_"
      }
    },
    {
      "cell_type": "code",
      "source": [
        "import networkx as nx\n",
        "import matplotlib.pyplot as plt\n",
        "\n",
        "def plottree(tree, distances):\n",
        "  G = nx.Graph()\n",
        "\n",
        "  for parent, children in tree.items():\n",
        "      for child in children:\n",
        "          G.add_edge(parent, child, weight=distances[(parent, child)])\n",
        "\n",
        "  pos = nx.spring_layout(G)\n",
        "  plt.figure(figsize=(10, 8))\n",
        "  nx.draw(G, pos, with_labels=True, arrows=True, node_size=2000,\n",
        "          node_color='lightblue', font_size=10, font_weight='bold')\n",
        "\n",
        "  edge_labels = nx.get_edge_attributes(G, 'weight')\n",
        "  nx.draw_networkx_edge_labels(G, pos, edge_labels=edge_labels, font_color='red')\n",
        "\n",
        "  plt.show()"
      ],
      "metadata": {
        "id": "47WSkdIDxpjM"
      },
      "execution_count": 3,
      "outputs": []
    },
    {
      "cell_type": "markdown",
      "source": [
        "> ## **1.1. Resultados (Testes)**\n",
        "\n",
        "Após alguns testes para o grafo em questão, a visualização mais clara dos dados foi dada pelo layout **spring** (`nx.spring_layout`).\n",
        "\n",
        "Note que o tamanho das arestas na visualização não é proporcional ao custo (distância) associado."
      ],
      "metadata": {
        "id": "vO9xbwBTJDQ7"
      }
    },
    {
      "cell_type": "code",
      "source": [
        "plottree(tree, distances)"
      ],
      "metadata": {
        "id": "mVf_l2YTJPXY",
        "colab": {
          "base_uri": "https://localhost:8080/",
          "height": 836
        },
        "outputId": "d401cfd8-ff7c-49a8-9170-b3f09893917a"
      },
      "execution_count": 4,
      "outputs": [
        {
          "output_type": "display_data",
          "data": {
            "text/plain": [
              "<Figure size 1000x800 with 1 Axes>"
            ],
            "image/png": "[encoded data removed]"
          },
          "metadata": {}
        }
      ]
    },
    {
      "cell_type": "markdown",
      "source": [
        "> ## **2. BFS, Breadth-First Search (3,0)**"
      ],
      "metadata": {
        "id": "6yaBdE9xMvUG"
      }
    },
    {
      "cell_type": "code",
      "source": [
        "def make_undirected(tree):\n",
        "    undirected_tree = {}\n",
        "\n",
        "    for node, neighbors in tree.items():\n",
        "        if node not in undirected_tree:\n",
        "            undirected_tree[node] = set()\n",
        "        for neighbor in neighbors:\n",
        "            undirected_tree[node].add(neighbor)\n",
        "            if neighbor not in undirected_tree:\n",
        "                undirected_tree[neighbor] = set()\n",
        "            undirected_tree[neighbor].add(node)\n",
        "\n",
        "    return {node: list(neighbors) for node, neighbors in undirected_tree.items()}"
      ],
      "metadata": {
        "id": "22taPxOahD-D"
      },
      "execution_count": 5,
      "outputs": []
    },
    {
      "cell_type": "markdown",
      "source": [
        "\n",
        "\n",
        "O algoritmo de BFS foi construido usando como base o algortitmo de BFS providenciado no Colab de aula com algumas alterações chave. Inicialmente temos a função \"make_undirected\" que serve para transformar a representação do nosso grafo em uma mais legível pelo algoritmo do BFS\n",
        "\n"
      ],
      "metadata": {
        "id": "fLPTJ7uTZ_vC"
      }
    },
    {
      "cell_type": "code",
      "source": [
        "from collections import deque\n",
        "\n",
        "def bfs(tree, start):\n",
        "    tree = make_undirected(tree)\n",
        "    visited = set()  # Conjunto para armazenar nós já visitados\n",
        "    queue = deque([start])\n",
        "    path = []  # Lista para armazenar o caminho percorrido\n",
        "\n",
        "    while queue:\n",
        "        node = queue.popleft()  # Remove da frente da fila\n",
        "        if node not in visited:\n",
        "            visited.add(node)  # Marca o nó como visitado\n",
        "            path.append(node)  # Adiciona o nó ao caminho\n",
        "            print(f\"\\nExplorando vizinhos de: {node}\")  # Mostra de qual nó estamos buscando vizinhos\n",
        "\n",
        "            for neighbor in tree[node]:  # Para cada vizinho do nó atual\n",
        "                if neighbor not in visited and neighbor not in queue:  # Evita repetição\n",
        "                    print(f\"  Adicionando {neighbor} à fila\")\n",
        "                    queue.append(neighbor)\n",
        "\n",
        "    print(\"\\nCaminho percorrido pelo BFS:\", path)"
      ],
      "metadata": {
        "id": "V16vzWA_MvUH"
      },
      "execution_count": 6,
      "outputs": []
    },
    {
      "cell_type": "markdown",
      "source": [
        "O BFS (Busca em Largura) percorre um grafo camada por camada visitando todos os vizinhos de um nó antes de avançar.\n",
        "\n",
        "- O algoritmo inicia com um vértice, usa uma fila para armazenar os nós a serem explorados e um conjunto para marcar os visitados.\n",
        "- Retira o primeiro nó da fila, marca como visitado e adiciona seus vizinhos ainda não explorados.\n",
        "- Repete o processo até a fila esvaziar, garantindo que percorre todos os nós possíveis. Durante a execução, exibe qual nó está sendo processado e quais vizinhos foram adicionados."
      ],
      "metadata": {
        "id": "eBsFuLetjkAH"
      }
    },
    {
      "cell_type": "markdown",
      "source": [
        "> ## **2.1. Resultados (Testes)**"
      ],
      "metadata": {
        "id": "G2_xtN1jMvUI"
      }
    },
    {
      "cell_type": "markdown",
      "source": [
        "Primeiro teste com o vértice de início em São Paulo"
      ],
      "metadata": {
        "id": "fSNMnv8jgN9z"
      }
    },
    {
      "cell_type": "code",
      "source": [
        "bfs(tree, \"São Paulo\")"
      ],
      "metadata": {
        "colab": {
          "base_uri": "https://localhost:8080/"
        },
        "id": "ao0qWZKIaTUc",
        "outputId": "68162eeb-8c21-4e45-beea-cc86f431a86b"
      },
      "execution_count": 7,
      "outputs": [
        {
          "output_type": "stream",
          "name": "stdout",
          "text": [
            "\n",
            "Explorando vizinhos de: São Paulo\n",
            "  Adicionando Guarulhos à fila\n",
            "  Adicionando Santos à fila\n",
            "  Adicionando Osasco à fila\n",
            "  Adicionando São José dos Campos à fila\n",
            "  Adicionando Barueri à fila\n",
            "  Adicionando Santo André à fila\n",
            "  Adicionando São Bernardo do Campo à fila\n",
            "\n",
            "Explorando vizinhos de: Guarulhos\n",
            "\n",
            "Explorando vizinhos de: Santos\n",
            "\n",
            "Explorando vizinhos de: Osasco\n",
            "  Adicionando Jundiaí à fila\n",
            "  Adicionando Sorocaba à fila\n",
            "\n",
            "Explorando vizinhos de: São José dos Campos\n",
            "\n",
            "Explorando vizinhos de: Barueri\n",
            "  Adicionando Campinas à fila\n",
            "\n",
            "Explorando vizinhos de: Santo André\n",
            "\n",
            "Explorando vizinhos de: São Bernardo do Campo\n",
            "\n",
            "Explorando vizinhos de: Jundiaí\n",
            "  Adicionando Ribeirão Preto à fila\n",
            "\n",
            "Explorando vizinhos de: Sorocaba\n",
            "\n",
            "Explorando vizinhos de: Campinas\n",
            "\n",
            "Explorando vizinhos de: Ribeirão Preto\n",
            "\n",
            "Caminho percorrido pelo BFS: ['São Paulo', 'Guarulhos', 'Santos', 'Osasco', 'São José dos Campos', 'Barueri', 'Santo André', 'São Bernardo do Campo', 'Jundiaí', 'Sorocaba', 'Campinas', 'Ribeirão Preto']\n"
          ]
        }
      ]
    },
    {
      "cell_type": "markdown",
      "source": [
        "Segundo teste com o vértice de início em Campinas\n",
        "\n"
      ],
      "metadata": {
        "id": "9ygAflMIkc_f"
      }
    },
    {
      "cell_type": "code",
      "source": [
        "bfs(tree, \"Campinas\")"
      ],
      "metadata": {
        "id": "S9w7b7VYMvUI",
        "colab": {
          "base_uri": "https://localhost:8080/"
        },
        "outputId": "4bfb4e7d-409a-46c1-d2be-9f0f2ceefb6c"
      },
      "execution_count": 8,
      "outputs": [
        {
          "output_type": "stream",
          "name": "stdout",
          "text": [
            "\n",
            "Explorando vizinhos de: Campinas\n",
            "  Adicionando Ribeirão Preto à fila\n",
            "  Adicionando Jundiaí à fila\n",
            "  Adicionando Barueri à fila\n",
            "  Adicionando Sorocaba à fila\n",
            "\n",
            "Explorando vizinhos de: Ribeirão Preto\n",
            "\n",
            "Explorando vizinhos de: Jundiaí\n",
            "  Adicionando Osasco à fila\n",
            "\n",
            "Explorando vizinhos de: Barueri\n",
            "  Adicionando Guarulhos à fila\n",
            "  Adicionando São Paulo à fila\n",
            "\n",
            "Explorando vizinhos de: Sorocaba\n",
            "\n",
            "Explorando vizinhos de: Osasco\n",
            "\n",
            "Explorando vizinhos de: Guarulhos\n",
            "  Adicionando São José dos Campos à fila\n",
            "  Adicionando Santo André à fila\n",
            "  Adicionando São Bernardo do Campo à fila\n",
            "\n",
            "Explorando vizinhos de: São Paulo\n",
            "  Adicionando Santos à fila\n",
            "\n",
            "Explorando vizinhos de: São José dos Campos\n",
            "\n",
            "Explorando vizinhos de: Santo André\n",
            "\n",
            "Explorando vizinhos de: São Bernardo do Campo\n",
            "\n",
            "Explorando vizinhos de: Santos\n",
            "\n",
            "Caminho percorrido pelo BFS: ['Campinas', 'Ribeirão Preto', 'Jundiaí', 'Barueri', 'Sorocaba', 'Osasco', 'Guarulhos', 'São Paulo', 'São José dos Campos', 'Santo André', 'São Bernardo do Campo', 'Santos']\n"
          ]
        }
      ]
    },
    {
      "cell_type": "markdown",
      "source": [
        "Terceiro teste com o vértice de início em Riberão Preto"
      ],
      "metadata": {
        "id": "A3ykMWxyW6q5"
      }
    },
    {
      "cell_type": "code",
      "source": [
        "bfs(tree, \"Ribeirão Preto\")"
      ],
      "metadata": {
        "colab": {
          "base_uri": "https://localhost:8080/"
        },
        "id": "VgIkC_SCXBQ9",
        "outputId": "1b6aa812-acfe-4c46-90d1-29345f1a7aa5"
      },
      "execution_count": 9,
      "outputs": [
        {
          "output_type": "stream",
          "name": "stdout",
          "text": [
            "\n",
            "Explorando vizinhos de: Ribeirão Preto\n",
            "  Adicionando Campinas à fila\n",
            "  Adicionando Jundiaí à fila\n",
            "\n",
            "Explorando vizinhos de: Campinas\n",
            "  Adicionando Barueri à fila\n",
            "  Adicionando Sorocaba à fila\n",
            "\n",
            "Explorando vizinhos de: Jundiaí\n",
            "  Adicionando Osasco à fila\n",
            "\n",
            "Explorando vizinhos de: Barueri\n",
            "  Adicionando Guarulhos à fila\n",
            "  Adicionando São Paulo à fila\n",
            "\n",
            "Explorando vizinhos de: Sorocaba\n",
            "\n",
            "Explorando vizinhos de: Osasco\n",
            "\n",
            "Explorando vizinhos de: Guarulhos\n",
            "  Adicionando São José dos Campos à fila\n",
            "  Adicionando Santo André à fila\n",
            "  Adicionando São Bernardo do Campo à fila\n",
            "\n",
            "Explorando vizinhos de: São Paulo\n",
            "  Adicionando Santos à fila\n",
            "\n",
            "Explorando vizinhos de: São José dos Campos\n",
            "\n",
            "Explorando vizinhos de: Santo André\n",
            "\n",
            "Explorando vizinhos de: São Bernardo do Campo\n",
            "\n",
            "Explorando vizinhos de: Santos\n",
            "\n",
            "Caminho percorrido pelo BFS: ['Ribeirão Preto', 'Campinas', 'Jundiaí', 'Barueri', 'Sorocaba', 'Osasco', 'Guarulhos', 'São Paulo', 'São José dos Campos', 'Santo André', 'São Bernardo do Campo', 'Santos']\n"
          ]
        }
      ]
    },
    {
      "cell_type": "markdown",
      "source": [
        "> ## **3. Busca Informada (5,0)**"
      ],
      "metadata": {
        "id": "Ryo3PeXoMwFc"
      }
    },
    {
      "cell_type": "markdown",
      "source": [
        "O algoritmo de busca informada estudado e implementado nesta atividade será o **algoritmo A***, ou A-Star.\n",
        "\n",
        "Bem como outros algoritmos de busca informada, o A* tenta calcular o valor mínimo entre um ponto A e B. Para isso, faz uso de heurísticas."
      ],
      "metadata": {
        "id": "De9VgoNINL4c"
      }
    },
    {
      "cell_type": "markdown",
      "source": [
        "### **Algoritmo A***\n",
        "- A princípio, todos os nós recebem valor de distância infinito (g_score).\n",
        "- O **cálculo de custo de um nó** é dado por `f_score = g_score + h_score`\n",
        "  - **g_score** é a distância percorrida do nó inicial até o nó atual;\n",
        "  - **h_score** é uma estimativa (heurística) da distância a ser percorrida até o destino final.\n",
        "- A cada novo nó, o f_score dos nós adjacentes é calculado. Se o valor calculado for **menor** que o f_score atual do nó, esse valor será substituido, pois foi encontrado um caminho de menor distância até o nó adjacente.\n",
        "- O algoritmo irá escolher o nó adjacente de **menor custo**, ou seja, **menor f_score**.\n",
        "- Quando o algoritmo está percorrendo um caminho cujo valor do nó seja **igual** ao de um nó de um outro caminho, o algoritmo irá **escolher o nó com o menor h_score**.\n",
        "- O processo é repetido até alcançar o destino final."
      ],
      "metadata": {
        "id": "4Me4fTI8STsA"
      }
    },
    {
      "cell_type": "markdown",
      "source": [
        "#### **Sobre Heurística**\n",
        "Pode-se definir heurística como uma estimativa, uma abordagem que não garante sempre uma solução ótima, mas que apresenta uma aproximação boa o suficiente.\n",
        "\n",
        "No algoritmo A-Star, é utilizada uma heurística que indica a distância de um nó até o nó de destino. Essa distância pode ser dada por funções como a *Manhattan Distance* e a *Euclidian Distance*, duas funções de heurística muito utilizadas em problemas de busca por menor caminho."
      ],
      "metadata": {
        "id": "L5czUASQSaBg"
      }
    },
    {
      "cell_type": "markdown",
      "source": [
        "### **Implementação do Algoritmo A***\n",
        "\n",
        "Para implementar o algoritmo A*, vamos representar o grafo de cidades construído anteriormente como uma matriz de adjacência. Dessa forma, uma célula Aij representa, como número inteiro, a distância entre as cidades i e j.\n",
        "\n",
        "As cidades foram ordenadas no vetor `cities` de acordo com seu índice no grafo. Sendo assim, a cidade 0 é `'São Paulo'`, a cidade 1 é `'Guarulhos'` e assim por diante.\n",
        "\n",
        "O valor `inf` indica que não há ligação entre as cidades-vértice da célula."
      ],
      "metadata": {
        "id": "YztBROEgXr-z"
      }
    },
    {
      "cell_type": "code",
      "source": [
        "cities = ['São Paulo', 'Guarulhos', 'Campinas', 'São Bernardo do Campo',\n",
        "          'Santo André', 'Osasco', 'Sorocaba', 'Ribeirão Preto',\n",
        "          'São José dos Campos', 'Santos', 'Barueri', 'Jundiaí']\n",
        "\n",
        "inf = float('inf')\n",
        "\n",
        "adj = [\n",
        "    [inf, 21, inf, 22, 26, 21, inf, inf, 91, 81, 38, inf],\n",
        "    [21, inf, inf, 36, 42, 35, inf, inf, 76, inf, 45, inf],\n",
        "    [inf, inf, inf, inf, inf, inf, 88, 224, inf, inf, 92, 40],\n",
        "    [22, 36, inf, inf, 9, inf, inf, inf, inf, 66, inf, inf],\n",
        "    [26, 42, inf, 9, inf, inf, inf, inf, inf, 74, inf, inf],\n",
        "    [21, 35, inf, inf, inf, inf, 84, inf, inf, inf, 12, 55],\n",
        "    [inf, inf, 88, inf, inf, 84, inf, inf, inf, inf, 74, inf],\n",
        "    [inf, inf, 224, inf, inf, inf, inf, inf, inf, inf, inf, 260],\n",
        "    [91, 76, inf, inf, inf, inf, inf, inf, inf, inf, inf, inf],\n",
        "    [81, inf, inf, 66, 74, inf, inf, inf, inf, inf, inf, inf],\n",
        "    [38, 45, 92, inf, inf, 12, 74, inf, inf, inf, inf, 53],\n",
        "    [inf, inf, 40, inf, inf, 55, inf, 260, inf, inf, 53, inf]\n",
        "]"
      ],
      "metadata": {
        "id": "KaRPqQQaYp1s"
      },
      "execution_count": 10,
      "outputs": []
    },
    {
      "cell_type": "markdown",
      "source": [
        "Em seguida, definimos a heurística utilizada pelo algoritmo.\n",
        "\n",
        "Para isso, utilizamos o *Google Maps* para calcular o comprimento de uma linha reta (distância euclidiana) entre duas cidades.\n",
        "\n",
        "Dessa forma, temos a **distância de um trajeto de carro entre duas cidades representada no grafo** e a **distância euclidiana entre duas cidades**, ambas calculadas pelo *Google Maps* como heurística.\n",
        "\n",
        "Como queremos avaliar os trajetos das outras cidades até a cidade de São Paulo, os valores no vetor `heuristic` abaixo representam a distância euclidiana de cada cidade até a cidade de São Paulo, respeitando a ordem em `cities`."
      ],
      "metadata": {
        "id": "j_CW0si0Zf9J"
      }
    },
    {
      "cell_type": "code",
      "source": [
        "heuristic = [0, 20, 83, 18, 20, 16, 87, 291, 84, 54, 25, 48]"
      ],
      "metadata": {
        "id": "WPaGamZ8Ytve"
      },
      "execution_count": 11,
      "outputs": []
    },
    {
      "cell_type": "markdown",
      "source": [
        "Abaixo, a implementação do algoritmo A-Star com uma fila de prioridade (`heapq` manipula o vetor `open_set`), baseado no pseudocódigo disponível na [página do Wikipedia destinada ao algoritmo](https://en.wikipedia.org/wiki/A*_search_algorithm) (consulte as referências)."
      ],
      "metadata": {
        "id": "FUbgadZRakv_"
      }
    },
    {
      "cell_type": "code",
      "source": [
        "import heapq\n",
        "\n",
        "def reconstruct_path(came_from, current, g_score_goal):\n",
        "  path = [current]\n",
        "\n",
        "  while current in came_from:\n",
        "    current = came_from[current]\n",
        "    path.insert(0, current)\n",
        "\n",
        "  return path, g_score_goal\n",
        "\n",
        "\n",
        "def a_star(matrix, start, goal, heuristic):\n",
        "  verts = len(matrix)\n",
        "\n",
        "  open_set = []\n",
        "  heapq.heappush(open_set, (0 + heuristic[start], start))\n",
        "\n",
        "  came_from = {}\n",
        "\n",
        "  g_score = {node: inf for node in range(verts)}\n",
        "  g_score[start] = 0\n",
        "\n",
        "  f_score = {node: inf for node in range(verts)}\n",
        "  f_score[start] = heuristic[start]\n",
        "\n",
        "  while open_set:\n",
        "    # Seleciona o nó com menor f_score\n",
        "    current_f, current_node = heapq.heappop(open_set)\n",
        "\n",
        "    if current_node == goal:\n",
        "      return reconstruct_path(came_from, current_node, g_score[current_node])\n",
        "\n",
        "    for neighbor in range(verts):\n",
        "      if matrix[current_node][neighbor] == inf:\n",
        "        continue # Ignora se não é vizinho da cidade\n",
        "\n",
        "      # Calcula um novo caminho para o vizinho\n",
        "      tentative_g = g_score[current_node] + matrix[current_node][neighbor]\n",
        "\n",
        "      if tentative_g < g_score[neighbor]: # Se o novo caminho for melhor\n",
        "        came_from[neighbor] = current_node # Salva de onde veio\n",
        "        g_score[neighbor] = tentative_g\n",
        "        f_score[neighbor] = g_score[neighbor] + heuristic[neighbor]\n",
        "        # Usa a heurística para calcular o f_score do nó\n",
        "\n",
        "        if neighbor not in [node for (f, node) in open_set]:\n",
        "          heapq.heappush(open_set, (f_score[neighbor], neighbor))\n",
        "          # Insere o nó na fila de prioridade de acordo com seu f_score\n",
        "\n",
        "  return None, inf"
      ],
      "metadata": {
        "id": "39FwjR_uMwFd"
      },
      "execution_count": 12,
      "outputs": []
    },
    {
      "cell_type": "markdown",
      "source": [
        "### **Sobre o algoritmo**\n",
        "\n",
        "Partindo do nó inicial, o algoritmo identifica a distância entre o nó atual e seus vizinhos. Se a distância até o vizinho calculada é menor do que a distância atual até aquele nó, calcula-se a distância estimada do caminho pelo nó de acordo com a distância percorrida do início até o nó e a distância estimada (heurística) entre o nó e o destino (`f_score = g_score + h_score`).\n",
        "\n",
        "Na próxima iteração, o nó de **menor f_score** será removido da fila e terá seus vizinhos explorados. Dessa forma, garantimos o menor custo, uma vez que a fila de prioridade `open_set` sempre removerá o nó de menor caminho (`heapq.heappop(open_set)`), considerando `g_score` e a heurística (`f_score[neighbor] = g_score[neighbor] + heuristic[neighbor]`).\n",
        "\n",
        "Caso seja encontrado um menor caminho para um vizinho, mas este **já tenha sido removido de `open_set` por ter sido anteriormente explorado**, adiciona-se o nó e seu `f_score` novamente à fila de prioridade, para que novos caminhos de potencial menor custo sejam explorados a partir deste nó."
      ],
      "metadata": {
        "id": "rCmn2CTMe1NM"
      }
    },
    {
      "cell_type": "markdown",
      "source": [
        "### **Observações**\n",
        "\n",
        "O Algoritmo A-Star é muito semelhante ao **Algoritmo de Dijkstra**, uma outra alternativa de busca informada.\n",
        "\n",
        "A principal diferença entre eles é que o **A-Star** utiliza uma heurística para supor qual nó está mais próximo do destino, e, então, explorar seus vizinhos. Assim, esse algoritmo apresenta melhor performance, pois desenvolve primeiro os nós que têm mais chances de estarem mais próximos do destino.\n",
        "\n",
        "Todavia, é necessário que se tenha uma **boa heurística**, pois **caso a heurística superestime a distância entre os nós e o destino, um caminho não-ótimo será escolhido**."
      ],
      "metadata": {
        "id": "g2WrbWgNoGmQ"
      }
    },
    {
      "cell_type": "markdown",
      "source": [
        "> ## **3.1. Resultados (Testes)**\n",
        "\n",
        "Para testar a implementação, utilizaremos a função `a_star_search`, que recebe como parâmetros a **lista de cidades**, a **cidade inicial**, a **cidade destino** e a **heurística** a ser considerada pelo algoritmo."
      ],
      "metadata": {
        "id": "WxOx8CikMwFe"
      }
    },
    {
      "cell_type": "code",
      "source": [
        "def a_star_search(cities, start, goal, heuristic):\n",
        "  path, cost = a_star(adj, cities.index(start), cities.index(goal), heuristic)\n",
        "\n",
        "  if path:\n",
        "    print(f\"Menor caminho encontrado: {path}\")\n",
        "\n",
        "    for city in path:\n",
        "      if city == 0:\n",
        "        print(cities[city])\n",
        "      else:\n",
        "        print(f'{cities[city]} >>', end=' ')\n",
        "\n",
        "    print(f\"Distância: {cost}km\")\n",
        "  else:\n",
        "    print(\"Nenhum caminho encontrado\")"
      ],
      "metadata": {
        "id": "kZgIdUM0MwFf"
      },
      "execution_count": 13,
      "outputs": []
    },
    {
      "cell_type": "markdown",
      "source": [
        "### **Cenário 01: Heurística original**"
      ],
      "metadata": {
        "id": "RX5HqixawEKo"
      }
    },
    {
      "cell_type": "code",
      "source": [
        "a_star_search(cities, 'Ribeirão Preto', 'São Paulo', heuristic)"
      ],
      "metadata": {
        "colab": {
          "base_uri": "https://localhost:8080/"
        },
        "id": "QOWJ3Yr8d_97",
        "outputId": "759c5dda-0dfb-4952-af24-b1663fc9fd41"
      },
      "execution_count": 14,
      "outputs": [
        {
          "output_type": "stream",
          "name": "stdout",
          "text": [
            "Menor caminho encontrado: [7, 11, 5, 0]\n",
            "Ribeirão Preto >> Jundiaí >> Osasco >> São Paulo\n",
            "Distância: 336km\n"
          ]
        }
      ]
    },
    {
      "cell_type": "code",
      "source": [
        "a_star_search(cities, 'Jundiaí', 'São Paulo', heuristic)"
      ],
      "metadata": {
        "colab": {
          "base_uri": "https://localhost:8080/"
        },
        "id": "hMLKOV6819iQ",
        "outputId": "30551049-3f6e-41c5-dc65-5079309f245e"
      },
      "execution_count": 15,
      "outputs": [
        {
          "output_type": "stream",
          "name": "stdout",
          "text": [
            "Menor caminho encontrado: [11, 5, 0]\n",
            "Jundiaí >> Osasco >> São Paulo\n",
            "Distância: 76km\n"
          ]
        }
      ]
    },
    {
      "cell_type": "code",
      "source": [
        "a_star_search(cities, 'Campinas', 'São Paulo', heuristic)"
      ],
      "metadata": {
        "colab": {
          "base_uri": "https://localhost:8080/"
        },
        "id": "XYL68xs6r3Is",
        "outputId": "5c93ebe4-16de-49f9-e29e-22e429d59929"
      },
      "execution_count": 16,
      "outputs": [
        {
          "output_type": "stream",
          "name": "stdout",
          "text": [
            "Menor caminho encontrado: [2, 11, 5, 0]\n",
            "Campinas >> Jundiaí >> Osasco >> São Paulo\n",
            "Distância: 116km\n"
          ]
        }
      ]
    },
    {
      "cell_type": "code",
      "source": [
        "a_star_search(cities, 'Sorocaba', 'São Paulo', heuristic)"
      ],
      "metadata": {
        "colab": {
          "base_uri": "https://localhost:8080/"
        },
        "id": "td-1cMK8sHpl",
        "outputId": "056c6dd1-4b61-442e-f70a-7abc37e82c43"
      },
      "execution_count": 17,
      "outputs": [
        {
          "output_type": "stream",
          "name": "stdout",
          "text": [
            "Menor caminho encontrado: [6, 5, 0]\n",
            "Sorocaba >> Osasco >> São Paulo\n",
            "Distância: 105km\n"
          ]
        }
      ]
    },
    {
      "cell_type": "code",
      "source": [
        "a_star_search(cities, 'Barueri', 'São Paulo', heuristic)"
      ],
      "metadata": {
        "colab": {
          "base_uri": "https://localhost:8080/"
        },
        "id": "nODM-XIWsd6Y",
        "outputId": "31290310-42b6-4834-b2ce-e543039fb389"
      },
      "execution_count": 18,
      "outputs": [
        {
          "output_type": "stream",
          "name": "stdout",
          "text": [
            "Menor caminho encontrado: [10, 5, 0]\n",
            "Barueri >> Osasco >> São Paulo\n",
            "Distância: 33km\n"
          ]
        }
      ]
    },
    {
      "cell_type": "markdown",
      "source": [
        "Percebe-se que a maior parte das cidades apresenta menor caminho seguindo pela cidade de **Osasco**, que corresponde à cidade de posição 5 no vetor `cities`. Verificando no vetor de **heurística**, nota-se que a **distância estimada entre São Paulo e Osasco** (`heuristic[5]`) é **16, a menor entre todas** (desconsiderando 0, distância entre São Paulo e São Paulo):"
      ],
      "metadata": {
        "id": "uH4Yjk0NwWi_"
      }
    },
    {
      "cell_type": "code",
      "source": [
        "print(heuristic)\n",
        "print(heuristic[5])\n",
        "print(cities[5])"
      ],
      "metadata": {
        "colab": {
          "base_uri": "https://localhost:8080/"
        },
        "id": "Dch-0ancxo9H",
        "outputId": "7af7efc0-94d0-4efd-db7d-06464d14a16b"
      },
      "execution_count": 19,
      "outputs": [
        {
          "output_type": "stream",
          "name": "stdout",
          "text": [
            "[0, 20, 83, 18, 20, 16, 87, 291, 84, 54, 25, 48]\n",
            "16\n",
            "Osasco\n"
          ]
        }
      ]
    },
    {
      "cell_type": "markdown",
      "source": [
        "Por apresentar uma distância estimada pequena, o menor caminho converge em Osasco."
      ],
      "metadata": {
        "id": "B9GaReBqyh_B"
      }
    },
    {
      "cell_type": "markdown",
      "source": [
        "### **Cenário 02: Heurística alterada**\n",
        "\n",
        "Vamos alterar o valor da distância estimada entre Osasco e São Paulo e, após isso, observar os resultados obtidos:"
      ],
      "metadata": {
        "id": "mC2oETxMyu0T"
      }
    },
    {
      "cell_type": "code",
      "source": [
        "heuristic[5] = 100 # Um valor absurdo"
      ],
      "metadata": {
        "id": "kjDQ1sGEy9Bp"
      },
      "execution_count": 20,
      "outputs": []
    },
    {
      "cell_type": "code",
      "source": [
        "a_star_search(cities, 'Ribeirão Preto', 'São Paulo', heuristic)"
      ],
      "metadata": {
        "colab": {
          "base_uri": "https://localhost:8080/"
        },
        "id": "5n3V01OJzBqR",
        "outputId": "daf8430e-11d9-42b3-fc1c-c12d9566696e"
      },
      "execution_count": 21,
      "outputs": [
        {
          "output_type": "stream",
          "name": "stdout",
          "text": [
            "Menor caminho encontrado: [7, 11, 10, 0]\n",
            "Ribeirão Preto >> Jundiaí >> Barueri >> São Paulo\n",
            "Distância: 351km\n"
          ]
        }
      ]
    },
    {
      "cell_type": "code",
      "source": [
        "a_star_search(cities, 'Jundiaí', 'São Paulo', heuristic)"
      ],
      "metadata": {
        "colab": {
          "base_uri": "https://localhost:8080/"
        },
        "id": "FWY2ELOuzGz0",
        "outputId": "317edaa8-a743-4632-d696-588fcc785af7"
      },
      "execution_count": 22,
      "outputs": [
        {
          "output_type": "stream",
          "name": "stdout",
          "text": [
            "Menor caminho encontrado: [11, 10, 0]\n",
            "Jundiaí >> Barueri >> São Paulo\n",
            "Distância: 91km\n"
          ]
        }
      ]
    },
    {
      "cell_type": "code",
      "source": [
        "a_star_search(cities, 'Campinas', 'São Paulo', heuristic)"
      ],
      "metadata": {
        "colab": {
          "base_uri": "https://localhost:8080/"
        },
        "id": "1IC0occazInW",
        "outputId": "1e0c1f81-bcf9-4c7b-f3ec-0dba4cb3f51b"
      },
      "execution_count": 23,
      "outputs": [
        {
          "output_type": "stream",
          "name": "stdout",
          "text": [
            "Menor caminho encontrado: [2, 10, 0]\n",
            "Campinas >> Barueri >> São Paulo\n",
            "Distância: 130km\n"
          ]
        }
      ]
    },
    {
      "cell_type": "code",
      "source": [
        "a_star_search(cities, 'Sorocaba', 'São Paulo', heuristic)"
      ],
      "metadata": {
        "colab": {
          "base_uri": "https://localhost:8080/"
        },
        "id": "uhqOrPvLzTtL",
        "outputId": "41a4eca2-cbed-4030-95e0-fbc7e3a1952d"
      },
      "execution_count": 24,
      "outputs": [
        {
          "output_type": "stream",
          "name": "stdout",
          "text": [
            "Menor caminho encontrado: [6, 10, 0]\n",
            "Sorocaba >> Barueri >> São Paulo\n",
            "Distância: 112km\n"
          ]
        }
      ]
    },
    {
      "cell_type": "code",
      "source": [
        "a_star_search(cities, 'Barueri', 'São Paulo', heuristic)"
      ],
      "metadata": {
        "colab": {
          "base_uri": "https://localhost:8080/"
        },
        "id": "FhDn2NG6zUtR",
        "outputId": "d133a87f-4de2-4c9c-ef99-1998df559e50"
      },
      "execution_count": 25,
      "outputs": [
        {
          "output_type": "stream",
          "name": "stdout",
          "text": [
            "Menor caminho encontrado: [10, 0]\n",
            "Barueri >> São Paulo\n",
            "Distância: 38km\n"
          ]
        }
      ]
    },
    {
      "cell_type": "markdown",
      "source": [
        "Como a distância de Osasco para São Paulo definida pela heurística agora é extremamente alta, resultando em um `f_score` muito maior, o menor caminho deixa de convergir em Osasco.\n",
        "\n",
        "Todavia, perceba que todas as distâncias obtidas são maiores do que as distâncias obtidas anteriormente, ou seja, **o caminho não é ótimo**. Este é o impacto de uma heurística mal construída."
      ],
      "metadata": {
        "id": "7Egc7OpcznH0"
      }
    },
    {
      "cell_type": "markdown",
      "source": [
        "### **Outros testes**\n",
        "\n",
        "Retornando à heurística original e testando o menor caminho para as cidades restantes."
      ],
      "metadata": {
        "id": "hiaOgN110RlY"
      }
    },
    {
      "cell_type": "code",
      "source": [
        "heuristic[5] = 16\n",
        "a_star_search(cities, 'Guarulhos', 'São Paulo', heuristic)"
      ],
      "metadata": {
        "colab": {
          "base_uri": "https://localhost:8080/"
        },
        "id": "J6FbGxZx0ZiA",
        "outputId": "743eb60b-04b3-4e5a-ecfd-7732e5b3c56c"
      },
      "execution_count": 26,
      "outputs": [
        {
          "output_type": "stream",
          "name": "stdout",
          "text": [
            "Menor caminho encontrado: [1, 0]\n",
            "Guarulhos >> São Paulo\n",
            "Distância: 21km\n"
          ]
        }
      ]
    },
    {
      "cell_type": "code",
      "source": [
        "a_star_search(cities, 'São Bernardo do Campo', 'São Paulo', heuristic)"
      ],
      "metadata": {
        "colab": {
          "base_uri": "https://localhost:8080/"
        },
        "id": "iCmgHgrI0oNi",
        "outputId": "30817c36-9fa3-4d72-e617-0496131b9066"
      },
      "execution_count": 27,
      "outputs": [
        {
          "output_type": "stream",
          "name": "stdout",
          "text": [
            "Menor caminho encontrado: [3, 0]\n",
            "São Bernardo do Campo >> São Paulo\n",
            "Distância: 22km\n"
          ]
        }
      ]
    },
    {
      "cell_type": "code",
      "source": [
        "a_star_search(cities, 'Osasco', 'São Paulo', heuristic)"
      ],
      "metadata": {
        "colab": {
          "base_uri": "https://localhost:8080/"
        },
        "id": "GrgDoJIq0rPU",
        "outputId": "edc9f5fb-afa3-4e07-dfcb-7ac8721dd822"
      },
      "execution_count": 28,
      "outputs": [
        {
          "output_type": "stream",
          "name": "stdout",
          "text": [
            "Menor caminho encontrado: [5, 0]\n",
            "Osasco >> São Paulo\n",
            "Distância: 21km\n"
          ]
        }
      ]
    },
    {
      "cell_type": "code",
      "source": [
        "a_star_search(cities, 'São José dos Campos', 'São Paulo', heuristic)"
      ],
      "metadata": {
        "colab": {
          "base_uri": "https://localhost:8080/"
        },
        "id": "f992SEt30vqp",
        "outputId": "8a28a80d-c0d6-4ca2-e45f-beebcba66047"
      },
      "execution_count": 29,
      "outputs": [
        {
          "output_type": "stream",
          "name": "stdout",
          "text": [
            "Menor caminho encontrado: [8, 0]\n",
            "São José dos Campos >> São Paulo\n",
            "Distância: 91km\n"
          ]
        }
      ]
    },
    {
      "cell_type": "code",
      "source": [
        "a_star_search(cities, 'Santos', 'São Paulo', heuristic)"
      ],
      "metadata": {
        "colab": {
          "base_uri": "https://localhost:8080/"
        },
        "id": "-aquBiUv00DE",
        "outputId": "3b96c751-bf9f-4756-eb9b-010e59183b1c"
      },
      "execution_count": 30,
      "outputs": [
        {
          "output_type": "stream",
          "name": "stdout",
          "text": [
            "Menor caminho encontrado: [9, 0]\n",
            "Santos >> São Paulo\n",
            "Distância: 81km\n"
          ]
        }
      ]
    },
    {
      "cell_type": "markdown",
      "source": [
        "# **Referências**\n",
        "\n",
        "MANIPULAÇÃO DE GRAFOS EM PYTHON COM NETWORKX. Prof. Alexandre Levada, 2021. Disponível em: https://www.youtube.com/watch?v=PfT8_2sKReo&t=1s&ab_channel=Prof.AlexandreLevada. Acesso em: 17 mar. 2025.\n",
        "\n",
        "ALGORITMO A* NO PYTHON - MELHOR CAMINHO - A ESTRELA. Hashtag Programação, 2021. Disponível em: https://www.youtube.com/watch?v=fTtYzHfGlyk&ab_channel=HashtagPrograma%C3%A7%C3%A3o. Acesso em: 17 mar. 2025.\n",
        "\n",
        "HAGBERG, A.; SCHULT, D.; SWART, P. *NetworkX: Network Analysis in Python Reference*, 2004. Disponível em https://networkx.org/documentation/stable/reference/index.html. Acesso em: 19 mar. 2025.\n",
        "\n",
        "KUMAR, Rajesh. *The* A** Algorithm*: A Complete Guide. Blog DataCamp, 7 nov. 2024. Disponível em https://www.datacamp.com/tutorial/a-star-algorithm. Acesso em: 01 abr. 2025.\n",
        "\n",
        "A* SEARCH ALGORITHM. In: Wikipedia, a enciclopédia livre. Flórida: Wikipedia Foundation, 2025. Disponível em https://en.wikipedia.org/wiki/A*_search_algorithm. Acesso em: 01 abr. 2025."
      ],
      "metadata": {
        "id": "7LtXrRFr4hg3"
      }
    },
    {
      "cell_type": "markdown",
      "metadata": {
        "id": "8crUBC3IQ3U_"
      },
      "source": [
        "---"
      ]
    },
    {
      "cell_type": "code",
      "metadata": {
        "id": "BluFtfHuCGzm",
        "cellView": "form"
      },
      "source": [
        "#@title **Avaliação**\n",
        "Resumo = 10 #@param {type:\"slider\", min:0, max:10, step:1}\n",
        "\n",
        "Grafo = 10 #@param {type:\"slider\", min:0, max:10, step:1}\n",
        "\n",
        "BFS = 10 #@param {type:\"slider\", min:0, max:10, step:1}\n",
        "\n",
        "Busca_Informada = 10 #@param {type:\"slider\", min:0, max:10, step:1}\n",
        "\n",
        "Referencias = 10 #@param {type:\"slider\", min:0, max:10, step:1}\n",
        "\n",
        "Geral = 10 #@param {type:\"slider\", min:0, max:10, step:1}"
      ],
      "execution_count": 31,
      "outputs": []
    },
    {
      "cell_type": "code",
      "metadata": {
        "colab": {
          "base_uri": "https://localhost:8080/",
          "height": 241
        },
        "id": "2Gqw7hUZHyle",
        "cellView": "form",
        "outputId": "e052df05-0dba-4614-daba-1c8018c18809"
      },
      "source": [
        "#@title **Nota Final**\n",
        "\n",
        "nota = Resumo + 2*Grafo + 3*BFS + 5*Busca_Informada + Referencias + Geral\n",
        "\n",
        "nota = nota / 13\n",
        "\n",
        "print(f'Nota final do trabalho {nota :.1f}')\n",
        "\n",
        "import numpy as np\n",
        "import pandas as pd\n",
        "\n",
        "alunos = pd.DataFrame()\n",
        "\n",
        "lista_tia = []\n",
        "lista_nome = []\n",
        "\n",
        "for i in range(1,6):\n",
        "  exec(\"if Aluno\" + str(i) + \" !='None':  lista = Aluno\" + str(i) + \".split(','); lista_tia.append(lista[0]); lista_nome.append(lista[1].upper())\")\n",
        "\n",
        "alunos['tia'] = lista_tia\n",
        "alunos['nome'] = lista_nome\n",
        "alunos['nota'] = np.round(nota,1)\n",
        "print()\n",
        "display(alunos)"
      ],
      "execution_count": 32,
      "outputs": [
        {
          "output_type": "stream",
          "name": "stdout",
          "text": [
            "Nota final do trabalho 10.0\n",
            "\n"
          ]
        },
        {
          "output_type": "display_data",
          "data": {
            "text/plain": [
              "        tia                           nome  nota\n",
              "0  10402412         DIEGO OLIVEIRA ALUIZIO  10.0\n",
              "1  10396490     JÔNATAS GARCIA DE OLIVEIRA  10.0\n",
              "2  10403046      LIVIA ALABARSE DOS SANTOS  10.0\n",
              "3  10403028         MARINA SCABELLO MARTIN  10.0\n",
              "4  10265432   PEDRO HENRIQUE ARAUJO FARIAS  10.0"
            ],
            "text/html": [
              "\n",
              "  <div id=\"df-5f653503-c8cd-4e10-b5fb-3d354da5f1b9\" class=\"colab-df-container\">\n",
              "    <div>\n",
              "<style scoped>\n",
              "    .dataframe tbody tr th:only-of-type {\n",
              "        vertical-align: middle;\n",
              "    }\n",
              "\n",
              "    .dataframe tbody tr th {\n",
              "        vertical-align: top;\n",
              "    }\n",
              "\n",
              "    .dataframe thead th {\n",
              "        text-align: right;\n",
              "    }\n",
              "</style>\n",
              "<table border=\"1\" class=\"dataframe\">\n",
              "  <thead>\n",
              "    <tr style=\"text-align: right;\">\n",
              "      <th></th>\n",
              "      <th>tia</th>\n",
              "      <th>nome</th>\n",
              "      <th>nota</th>\n",
              "    </tr>\n",
              "  </thead>\n",
              "  <tbody>\n",
              "    <tr>\n",
              "      <th>0</th>\n",
              "      <td>10402412</td>\n",
              "      <td>DIEGO OLIVEIRA ALUIZIO</td>\n",
              "      <td>10.0</td>\n",
              "    </tr>\n",
              "    <tr>\n",
              "      <th>1</th>\n",
              "      <td>10396490</td>\n",
              "      <td>JÔNATAS GARCIA DE OLIVEIRA</td>\n",
              "      <td>10.0</td>\n",
              "    </tr>\n",
              "    <tr>\n",
              "      <th>2</th>\n",
              "      <td>10403046</td>\n",
              "      <td>LIVIA ALABARSE DOS SANTOS</td>\n",
              "      <td>10.0</td>\n",
              "    </tr>\n",
              "    <tr>\n",
              "      <th>3</th>\n",
              "      <td>10403028</td>\n",
              "      <td>MARINA SCABELLO MARTIN</td>\n",
              "      <td>10.0</td>\n",
              "    </tr>\n",
              "    <tr>\n",
              "      <th>4</th>\n",
              "      <td>10265432</td>\n",
              "      <td>PEDRO HENRIQUE ARAUJO FARIAS</td>\n",
              "      <td>10.0</td>\n",
              "    </tr>\n",
              "  </tbody>\n",
              "</table>\n",
              "</div>\n",
              "    <div class=\"colab-df-buttons\">\n",
              "\n",
              "  <div class=\"colab-df-container\">\n",
              "    <button class=\"colab-df-convert\" onclick=\"convertToInteractive('df-5f653503-c8cd-4e10-b5fb-3d354da5f1b9')\"\n",
              "            title=\"Convert this dataframe to an interactive table.\"\n",
              "            style=\"display:none;\">\n",
              "\n",
              "  <svg xmlns=\"http://www.w3.org/2000/svg\" height=\"24px\" viewBox=\"0 -960 960 960\">\n",
              "    <path d=\"M120-120v-720h720v720H120Zm60-500h600v-160H180v160Zm220 220h160v-160H400v160Zm0 220h160v-160H400v160ZM180-400h160v-160H180v160Zm440 0h160v-160H620v160ZM180-180h160v-160H180v160Zm440 0h160v-160H620v160Z\"/>\n",
              "  </svg>\n",
              "    </button>\n",
              "\n",
              "  <style>\n",
              "    .colab-df-container {\n",
              "      display:flex;\n",
              "      gap: 12px;\n",
              "    }\n",
              "\n",
              "    .colab-df-convert {\n",
              "      background-color: #E8F0FE;\n",
              "      border: none;\n",
              "      border-radius: 50%;\n",
              "      cursor: pointer;\n",
              "      display: none;\n",
              "      fill: #1967D2;\n",
              "      height: 32px;\n",
              "      padding: 0 0 0 0;\n",
              "      width: 32px;\n",
              "    }\n",
              "\n",
              "    .colab-df-convert:hover {\n",
              "      background-color: #E2EBFA;\n",
              "      box-shadow: 0px 1px 2px rgba(60, 64, 67, 0.3), 0px 1px 3px 1px rgba(60, 64, 67, 0.15);\n",
              "      fill: #174EA6;\n",
              "    }\n",
              "\n",
              "    .colab-df-buttons div {\n",
              "      margin-bottom: 4px;\n",
              "    }\n",
              "\n",
              "    [theme=dark] .colab-df-convert {\n",
              "      background-color: #3B4455;\n",
              "      fill: #D2E3FC;\n",
              "    }\n",
              "\n",
              "    [theme=dark] .colab-df-convert:hover {\n",
              "      background-color: #434B5C;\n",
              "      box-shadow: 0px 1px 3px 1px rgba(0, 0, 0, 0.15);\n",
              "      filter: drop-shadow(0px 1px 2px rgba(0, 0, 0, 0.3));\n",
              "      fill: #FFFFFF;\n",
              "    }\n",
              "  </style>\n",
              "\n",
              "    <script>\n",
              "      const buttonEl =\n",
              "        document.querySelector('#df-5f653503-c8cd-4e10-b5fb-3d354da5f1b9 button.colab-df-convert');\n",
              "      buttonEl.style.display =\n",
              "        google.colab.kernel.accessAllowed ? 'block' : 'none';\n",
              "\n",
              "      async function convertToInteractive(key) {\n",
              "        const element = document.querySelector('#df-5f653503-c8cd-4e10-b5fb-3d354da5f1b9');\n",
              "        const dataTable =\n",
              "          await google.colab.kernel.invokeFunction('convertToInteractive',\n",
              "                                                    [key], {});\n",
              "        if (!dataTable) return;\n",
              "\n",
              "        const docLinkHtml = 'Like what you see? Visit the ' +\n",
              "          '<a target=\"_blank\" href=https://colab.research.google.com/notebooks/data_table.ipynb>data table notebook</a>'\n",
              "          + ' to learn more about interactive tables.';\n",
              "        element.innerHTML = '';\n",
              "        dataTable['output_type'] = 'display_data';\n",
              "        await google.colab.output.renderOutput(dataTable, element);\n",
              "        const docLink = document.createElement('div');\n",
              "        docLink.innerHTML = docLinkHtml;\n",
              "        element.appendChild(docLink);\n",
              "      }\n",
              "    </script>\n",
              "  </div>\n",
              "\n",
              "\n",
              "<div id=\"df-3223a09a-4209-4f21-b335-6bf3f44cfec8\">\n",
              "  <button class=\"colab-df-quickchart\" onclick=\"quickchart('df-3223a09a-4209-4f21-b335-6bf3f44cfec8')\"\n",
              "            title=\"Suggest charts\"\n",
              "            style=\"display:none;\">\n",
              "\n",
              "<svg xmlns=\"http://www.w3.org/2000/svg\" height=\"24px\"viewBox=\"0 0 24 24\"\n",
              "     width=\"24px\">\n",
              "    <g>\n",
              "        <path d=\"M19 3H5c-1.1 0-2 .9-2 2v14c0 1.1.9 2 2 2h14c1.1 0 2-.9 2-2V5c0-1.1-.9-2-2-2zM9 17H7v-7h2v7zm4 0h-2V7h2v10zm4 0h-2v-4h2v4z\"/>\n",
              "    </g>\n",
              "</svg>\n",
              "  </button>\n",
              "\n",
              "<style>\n",
              "  .colab-df-quickchart {\n",
              "      --bg-color: #E8F0FE;\n",
              "      --fill-color: #1967D2;\n",
              "      --hover-bg-color: #E2EBFA;\n",
              "      --hover-fill-color: #174EA6;\n",
              "      --disabled-fill-color: #AAA;\n",
              "      --disabled-bg-color: #DDD;\n",
              "  }\n",
              "\n",
              "  [theme=dark] .colab-df-quickchart {\n",
              "      --bg-color: #3B4455;\n",
              "      --fill-color: #D2E3FC;\n",
              "      --hover-bg-color: #434B5C;\n",
              "      --hover-fill-color: #FFFFFF;\n",
              "      --disabled-bg-color: #3B4455;\n",
              "      --disabled-fill-color: #666;\n",
              "  }\n",
              "\n",
              "  .colab-df-quickchart {\n",
              "    background-color: var(--bg-color);\n",
              "    border: none;\n",
              "    border-radius: 50%;\n",
              "    cursor: pointer;\n",
              "    display: none;\n",
              "    fill: var(--fill-color);\n",
              "    height: 32px;\n",
              "    padding: 0;\n",
              "    width: 32px;\n",
              "  }\n",
              "\n",
              "  .colab-df-quickchart:hover {\n",
              "    background-color: var(--hover-bg-color);\n",
              "    box-shadow: 0 1px 2px rgba(60, 64, 67, 0.3), 0 1px 3px 1px rgba(60, 64, 67, 0.15);\n",
              "    fill: var(--button-hover-fill-color);\n",
              "  }\n",
              "\n",
              "  .colab-df-quickchart-complete:disabled,\n",
              "  .colab-df-quickchart-complete:disabled:hover {\n",
              "    background-color: var(--disabled-bg-color);\n",
              "    fill: var(--disabled-fill-color);\n",
              "    box-shadow: none;\n",
              "  }\n",
              "\n",
              "  .colab-df-spinner {\n",
              "    border: 2px solid var(--fill-color);\n",
              "    border-color: transparent;\n",
              "    border-bottom-color: var(--fill-color);\n",
              "    animation:\n",
              "      spin 1s steps(1) infinite;\n",
              "  }\n",
              "\n",
              "  @keyframes spin {\n",
              "    0% {\n",
              "      border-color: transparent;\n",
              "      border-bottom-color: var(--fill-color);\n",
              "      border-left-color: var(--fill-color);\n",
              "    }\n",
              "    20% {\n",
              "      border-color: transparent;\n",
              "      border-left-color: var(--fill-color);\n",
              "      border-top-color: var(--fill-color);\n",
              "    }\n",
              "    30% {\n",
              "      border-color: transparent;\n",
              "      border-left-color: var(--fill-color);\n",
              "      border-top-color: var(--fill-color);\n",
              "      border-right-color: var(--fill-color);\n",
              "    }\n",
              "    40% {\n",
              "      border-color: transparent;\n",
              "      border-right-color: var(--fill-color);\n",
              "      border-top-color: var(--fill-color);\n",
              "    }\n",
              "    60% {\n",
              "      border-color: transparent;\n",
              "      border-right-color: var(--fill-color);\n",
              "    }\n",
              "    80% {\n",
              "      border-color: transparent;\n",
              "      border-right-color: var(--fill-color);\n",
              "      border-bottom-color: var(--fill-color);\n",
              "    }\n",
              "    90% {\n",
              "      border-color: transparent;\n",
              "      border-bottom-color: var(--fill-color);\n",
              "    }\n",
              "  }\n",
              "</style>\n",
              "\n",
              "  <script>\n",
              "    async function quickchart(key) {\n",
              "      const quickchartButtonEl =\n",
              "        document.querySelector('#' + key + ' button');\n",
              "      quickchartButtonEl.disabled = true;  // To prevent multiple clicks.\n",
              "      quickchartButtonEl.classList.add('colab-df-spinner');\n",
              "      try {\n",
              "        const charts = await google.colab.kernel.invokeFunction(\n",
              "            'suggestCharts', [key], {});\n",
              "      } catch (error) {\n",
              "        console.error('Error during call to suggestCharts:', error);\n",
              "      }\n",
              "      quickchartButtonEl.classList.remove('colab-df-spinner');\n",
              "      quickchartButtonEl.classList.add('colab-df-quickchart-complete');\n",
              "    }\n",
              "    (() => {\n",
              "      let quickchartButtonEl =\n",
              "        document.querySelector('#df-3223a09a-4209-4f21-b335-6bf3f44cfec8 button');\n",
              "      quickchartButtonEl.style.display =\n",
              "        google.colab.kernel.accessAllowed ? 'block' : 'none';\n",
              "    })();\n",
              "  </script>\n",
              "</div>\n",
              "\n",
              "  <div id=\"id_6195e5e7-ba29-44fe-9366-9fa6d269ddc5\">\n",
              "    <style>\n",
              "      .colab-df-generate {\n",
              "        background-color: #E8F0FE;\n",
              "        border: none;\n",
              "        border-radius: 50%;\n",
              "        cursor: pointer;\n",
              "        display: none;\n",
              "        fill: #1967D2;\n",
              "        height: 32px;\n",
              "        padding: 0 0 0 0;\n",
              "        width: 32px;\n",
              "      }\n",
              "\n",
              "      .colab-df-generate:hover {\n",
              "        background-color: #E2EBFA;\n",
              "        box-shadow: 0px 1px 2px rgba(60, 64, 67, 0.3), 0px 1px 3px 1px rgba(60, 64, 67, 0.15);\n",
              "        fill: #174EA6;\n",
              "      }\n",
              "\n",
              "      [theme=dark] .colab-df-generate {\n",
              "        background-color: #3B4455;\n",
              "        fill: #D2E3FC;\n",
              "      }\n",
              "\n",
              "      [theme=dark] .colab-df-generate:hover {\n",
              "        background-color: #434B5C;\n",
              "        box-shadow: 0px 1px 3px 1px rgba(0, 0, 0, 0.15);\n",
              "        filter: drop-shadow(0px 1px 2px rgba(0, 0, 0, 0.3));\n",
              "        fill: #FFFFFF;\n",
              "      }\n",
              "    </style>\n",
              "    <button class=\"colab-df-generate\" onclick=\"generateWithVariable('alunos')\"\n",
              "            title=\"Generate code using this dataframe.\"\n",
              "            style=\"display:none;\">\n",
              "\n",
              "  <svg xmlns=\"http://www.w3.org/2000/svg\" height=\"24px\"viewBox=\"0 0 24 24\"\n",
              "       width=\"24px\">\n",
              "    <path d=\"M7,19H8.4L18.45,9,17,7.55,7,17.6ZM5,21V16.75L18.45,3.32a2,2,0,0,1,2.83,0l1.4,1.43a1.91,1.91,0,0,1,.58,1.4,1.91,1.91,0,0,1-.58,1.4L9.25,21ZM18.45,9,17,7.55Zm-12,3A5.31,5.31,0,0,0,4.9,8.1,5.31,5.31,0,0,0,1,6.5,5.31,5.31,0,0,0,4.9,4.9,5.31,5.31,0,0,0,6.5,1,5.31,5.31,0,0,0,8.1,4.9,5.31,5.31,0,0,0,12,6.5,5.46,5.46,0,0,0,6.5,12Z\"/>\n",
              "  </svg>\n",
              "    </button>\n",
              "    <script>\n",
              "      (() => {\n",
              "      const buttonEl =\n",
              "        document.querySelector('#id_6195e5e7-ba29-44fe-9366-9fa6d269ddc5 button.colab-df-generate');\n",
              "      buttonEl.style.display =\n",
              "        google.colab.kernel.accessAllowed ? 'block' : 'none';\n",
              "\n",
              "      buttonEl.onclick = () => {\n",
              "        google.colab.notebook.generateWithVariable('alunos');\n",
              "      }\n",
              "      })();\n",
              "    </script>\n",
              "  </div>\n",
              "\n",
              "    </div>\n",
              "  </div>\n"
            ],
            "application/vnd.google.colaboratory.intrinsic+json": {
              "type": "dataframe",
              "variable_name": "alunos",
              "summary": "{\n  \"name\": \"alunos\",\n  \"rows\": 5,\n  \"fields\": [\n    {\n      \"column\": \"tia\",\n      \"properties\": {\n        \"dtype\": \"string\",\n        \"num_unique_values\": 5,\n        \"samples\": [\n          \"10396490\",\n          \"10265432\",\n          \"10403046\"\n        ],\n        \"semantic_type\": \"\",\n        \"description\": \"\"\n      }\n    },\n    {\n      \"column\": \"nome\",\n      \"properties\": {\n        \"dtype\": \"string\",\n        \"num_unique_values\": 5,\n        \"samples\": [\n          \" J\\u00d4NATAS GARCIA DE OLIVEIRA\",\n          \" PEDRO HENRIQUE ARAUJO FARIAS\",\n          \" LIVIA ALABARSE DOS SANTOS\"\n        ],\n        \"semantic_type\": \"\",\n        \"description\": \"\"\n      }\n    },\n    {\n      \"column\": \"nota\",\n      \"properties\": {\n        \"dtype\": \"number\",\n        \"std\": 0.0,\n        \"min\": 10.0,\n        \"max\": 10.0,\n        \"num_unique_values\": 1,\n        \"samples\": [\n          10.0\n        ],\n        \"semantic_type\": \"\",\n        \"description\": \"\"\n      }\n    }\n  ]\n}"
            }
          },
          "metadata": {}
        }
      ]
    }
  ]
}