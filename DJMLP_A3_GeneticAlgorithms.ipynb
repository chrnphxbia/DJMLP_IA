{
  "nbformat": 4,
  "nbformat_minor": 0,
  "metadata": {
    "kernelspec": {
      "display_name": "Python 3",
      "language": "python",
      "name": "python3"
    },
    "language_info": {
      "codemirror_mode": {
        "name": "ipython",
        "version": 3
      },
      "file_extension": ".py",
      "mimetype": "text/x-python",
      "name": "python",
      "nbconvert_exporter": "python",
      "pygments_lexer": "ipython3",
      "version": "3.7.4"
    },
    "colab": {
      "provenance": []
    }
  },
  "cells": [
    {
      "cell_type": "markdown",
      "metadata": {
        "id": "40b90843"
      },
      "source": [
        "<img src=\"http://meusite.mackenzie.br/rogerio/mackenzie_logo/UPM.2_horizontal_vermelho.jpg\"  width=300, align=\"right\">\n",
        "<br>\n",
        "<br>\n",
        "<br>\n",
        "<br>\n",
        "<br>\n",
        "\n",
        "# **Algoritmos Genéticos**\n",
        "---\n"
      ]
    },
    {
      "cell_type": "code",
      "metadata": {
        "id": "rYx9D4GZA5o9",
        "cellView": "form"
      },
      "source": [
        "#@title **Identificação do Grupo**\n",
        "\n",
        "#@markdown Integrantes do Grupo, nome completo em ordem alfabética (*informe \\<RA\\>,\\<nome\\>*)\n",
        "Aluno1 = '10402412, Diego Oliveira Aluizio' #@param {type:\"string\"}\n",
        "Aluno2 = '10396490, Jônatas Garcia de Oliveira' #@param {type:\"string\"}\n",
        "Aluno3 = '10403046, Livia Alabarse dos Santos' #@param {type:\"string\"}\n",
        "Aluno4 = '10403028, Marina Scabello Martin' #@param {type:\"string\"}\n",
        "Aluno5 = '10265432, Pedro Henrique Araujo Farias' #@param {type:\"string\"}"
      ],
      "execution_count": 14,
      "outputs": []
    },
    {
      "cell_type": "code",
      "source": [
        "#@title **Escolha a opção de Exercício Selecionado**\n",
        "Exercicio_selecionado = \"Exercício A. Otimização multi-objetivo\" #@param [\"Exercício A. Otimização multi-objetivo\", \"Exercício B. Forca\"]\n",
        "\n",
        "\n"
      ],
      "metadata": {
        "id": "-MbC50IHTmh3",
        "cellView": "form"
      },
      "execution_count": 15,
      "outputs": []
    },
    {
      "cell_type": "markdown",
      "source": [
        "# **Resumo**\n",
        "\n",
        "Neste trabalho, modelamos um problema de otimização multiobjetivo envolvendo lucro e custo em uma produção agrícola.\n",
        "\n",
        "Em seguida, utilizamos a biblioteca `pygad` para executar um algoritmo genético de modo que este encontrasse os pesos ideais para as funções objetivo apresentadas.\n",
        "\n",
        "Por fim, exploramos diferentes resultados a partir da alteração de parâmetros do algoritmo genético, como número de gerações, tamanho de população e etc."
      ],
      "metadata": {
        "id": "yxYbSf6mVM7y"
      }
    },
    {
      "cell_type": "markdown",
      "source": [
        "# **Descrição da Solução**"
      ],
      "metadata": {
        "id": "ARPbfXlAUmyW"
      }
    },
    {
      "cell_type": "markdown",
      "source": [
        "## **Cenário/Problema Multi-objetivo Original: Otimização de Produção Agrícola**\n",
        "\n",
        "### **Descrição do Problema**\n",
        "\n",
        "Um agricultor deseja planejar a produção de três culturas (Milho, Soja e Trigo) em sua fazenda, considerando dois objetivos conflitantes:\n",
        "\n",
        "- **Maximizar o lucro total**\n",
        "$$y = w1x1 + w2x2 + w3x3 = 50$$\n",
        "$$(x1, x2, x3) = (8,5,10)$$\n",
        "\n",
        "- **Minimizar o custo por consumo de água**\n",
        "$$y = w1x4 + w2x5 + w3x6 = 40$$\n",
        "$$(x4, x5, x6) = (10,6,8)$$\n",
        "\n",
        "### **Funções Objetivo**\n",
        "Foram definidas duas funções objetivo, seguindo a abordagem do exemplo fornecido:\n",
        "\n",
        "- **Fitness do Lucro** (Maximizar)\n",
        "  - Cada cultura contribui para o lucro total de acordo com a entrada definida em `function_inputs1` (valores em R$ por hectare);\n",
        "  - O objetivo é encontrar uma combinação de culturas que atinja um lucro próximo ao `desired_output1 = 50`;\n",
        "  - `fitness1 = 1.0 / (|output1 - desired_output1| + 0.000001)`.\n",
        "\n",
        "- **Fitness do Consumo de Água** (Minimizar)\n",
        "  - Cada cultura apresenta um custo de consumo específico de água, conforme os valores de entrada definidos em `function_inputs2` (custo em litros por hectare);\n",
        "  - O objetivo é reduzir o consumo para um valor próximo a `desired_output2 = 40`;\n",
        "  - `fitness2 = 1.0 / (|output2 - desired_output2| + 0.000001)`\n",
        "  - Como o custo por consumo de água é um valor que desejamos minimizar, devemos inverter os valores (torná-los negativos), de modo que sua maximização resulte em uma minimização;"
      ],
      "metadata": {
        "id": "X3NFalQOv5VC"
      }
    },
    {
      "cell_type": "markdown",
      "source": [
        "# **Implementação**\n",
        "\n",
        "Inicialmente, instalamos a biblioteca `pygad`.\n",
        "\n"
      ],
      "metadata": {
        "id": "FyFHbT8vygVp"
      }
    },
    {
      "cell_type": "code",
      "source": [
        "!pip install pygad"
      ],
      "metadata": {
        "colab": {
          "base_uri": "https://localhost:8080/"
        },
        "id": "hkJEzhp5Teka",
        "outputId": "8cc60ff9-8e37-4f5e-e716-117adc0af259"
      },
      "execution_count": 16,
      "outputs": [
        {
          "output_type": "stream",
          "name": "stdout",
          "text": [
            "Requirement already satisfied: pygad in /usr/local/lib/python3.11/dist-packages (3.4.0)\n",
            "Requirement already satisfied: cloudpickle in /usr/local/lib/python3.11/dist-packages (from pygad) (3.1.1)\n",
            "Requirement already satisfied: matplotlib in /usr/local/lib/python3.11/dist-packages (from pygad) (3.10.0)\n",
            "Requirement already satisfied: numpy in /usr/local/lib/python3.11/dist-packages (from pygad) (2.0.2)\n",
            "Requirement already satisfied: contourpy>=1.0.1 in /usr/local/lib/python3.11/dist-packages (from matplotlib->pygad) (1.3.1)\n",
            "Requirement already satisfied: cycler>=0.10 in /usr/local/lib/python3.11/dist-packages (from matplotlib->pygad) (0.12.1)\n",
            "Requirement already satisfied: fonttools>=4.22.0 in /usr/local/lib/python3.11/dist-packages (from matplotlib->pygad) (4.56.0)\n",
            "Requirement already satisfied: kiwisolver>=1.3.1 in /usr/local/lib/python3.11/dist-packages (from matplotlib->pygad) (1.4.8)\n",
            "Requirement already satisfied: packaging>=20.0 in /usr/local/lib/python3.11/dist-packages (from matplotlib->pygad) (24.2)\n",
            "Requirement already satisfied: pillow>=8 in /usr/local/lib/python3.11/dist-packages (from matplotlib->pygad) (11.1.0)\n",
            "Requirement already satisfied: pyparsing>=2.3.1 in /usr/local/lib/python3.11/dist-packages (from matplotlib->pygad) (3.2.3)\n",
            "Requirement already satisfied: python-dateutil>=2.7 in /usr/local/lib/python3.11/dist-packages (from matplotlib->pygad) (2.8.2)\n",
            "Requirement already satisfied: six>=1.5 in /usr/local/lib/python3.11/dist-packages (from python-dateutil>=2.7->matplotlib->pygad) (1.17.0)\n"
          ]
        }
      ]
    },
    {
      "cell_type": "markdown",
      "source": [
        "## **Sobre as Funções Objetivo**\n",
        "\n",
        "Como queremos **minimizar** a função objetivo referente ao custo por consumo de água da plantação, devemos **inverter a função**:\n",
        "\n",
        "$$y = w1x4 + w2x5 + w3x6 = 40$$\n",
        "$$y * (-1) = -w1x4 + -w2x5 + -w3x6 = -40$$\n",
        "\n",
        "Sendo assim, podemos expressar as entradas da segunda função objetivo como o inverso de seus valores. Logo, teremos `function_inputs2 = [-10, -6, -8]` e `desired_output2 = -40`."
      ],
      "metadata": {
        "id": "U0UvD_F3Xmvw"
      }
    },
    {
      "cell_type": "code",
      "source": [
        "import pygad\n",
        "import numpy\n",
        "import matplotlib.pyplot as plt\n",
        "\n",
        "# Variáveis de entrada (pesos que influenciam lucro e uso de água)\n",
        "function_inputs1 = [8, 5, 10]  # Impacto no lucro (R$ por hectare)\n",
        "function_inputs2 = [-10, -6, -8] # Consumo de água (litros por hectare)\n",
        "\n",
        "desired_output1 = 50  # Nível desejado de lucro\n",
        "desired_output2 = -40  # Nível desejado de consumo de água (quanto menor, melhor)\n",
        "\n",
        "\n",
        "def fitness_func(ga_instance, solution, solution_idx):\n",
        "    output1 = numpy.sum(solution * function_inputs1)\n",
        "    output2 = numpy.sum(solution * function_inputs2)\n",
        "    fitness1 = 1.0 / (numpy.abs(output1 - desired_output1) + 0.000001)\n",
        "    fitness2 = 1.0 / (numpy.abs(output2 - desired_output2) + 0.000001)\n",
        "    return [fitness1, fitness2]"
      ],
      "metadata": {
        "id": "47WSkdIDxpjM"
      },
      "execution_count": 17,
      "outputs": []
    },
    {
      "cell_type": "markdown",
      "source": [
        "# **Resultados (Testes)**\n",
        "\n",
        "Com base na função `fitness_func` acima, definida no [exemplo multi-objetivo](https://pygad.readthedocs.io/en/latest/pygad.html#linear-model-optimization-multi-objective), vamos executar o algoritmo genético a partir do `pygad`."
      ],
      "metadata": {
        "id": "vO9xbwBTJDQ7"
      }
    },
    {
      "cell_type": "markdown",
      "source": [
        "## **Simulação 1: Configuração Padrão**\n",
        "Esta simulação usa os valores padrão para verificar a estabilidade do algoritmo."
      ],
      "metadata": {
        "id": "35zD3A25LA1e"
      }
    },
    {
      "cell_type": "code",
      "source": [
        "num_generations = 100\n",
        "sol_per_pop = 20\n",
        "num_parents_mating = 10\n",
        "\n",
        "ga_instance = pygad.GA(num_generations=num_generations,\n",
        "                       num_parents_mating=num_parents_mating,\n",
        "                       sol_per_pop=sol_per_pop,\n",
        "                       num_genes=len(function_inputs1),\n",
        "                       fitness_func=fitness_func,\n",
        "                       parent_selection_type='nsga2')\n",
        "\n",
        "ga_instance.run()\n",
        "ga_instance.plot_fitness(label=['Lucro', 'Consumo'])\n",
        "\n",
        "solution, solution_fitness, solution_idx = ga_instance.best_solution(ga_instance.last_generation_fitness)\n",
        "print(f\"Melhores parâmetros encontrados: {solution}\")\n",
        "print(f\"Valor da função de fitness: {solution_fitness}\")\n",
        "\n",
        "prediction1 = numpy.sum(numpy.array(function_inputs1) * solution)\n",
        "print(f\"Lucro estimado com a melhor solução: {prediction1}\")\n",
        "prediction2 = numpy.sum(numpy.array(function_inputs2) * solution)\n",
        "print(f\"Custo do consumo de água estimado com a melhor solução: {-1 * prediction2}\")\n",
        "\n",
        "if ga_instance.best_solution_generation != -1:\n",
        "    print(f\"O melhor valor da função de fitness foi atingido em {ga_instance.best_solution_generation} gerações.\")"
      ],
      "metadata": {
        "id": "mVf_l2YTJPXY",
        "colab": {
          "base_uri": "https://localhost:8080/",
          "height": 565
        },
        "outputId": "fabe6ab5-c918-4b00-bc4d-628d23fb3949"
      },
      "execution_count": 33,
      "outputs": [
        {
          "output_type": "display_data",
          "data": {
            "text/plain": [
              "<Figure size 640x480 with 1 Axes>"
            ],
            "image/png": "[encoded data removed]"
          },
          "metadata": {}
        },
        {
          "output_type": "stream",
          "name": "stdout",
          "text": [
            "Melhores parâmetros encontrados: [0.78450502 0.96451287 3.888612  ]\n",
            "Valor da função de fitness: [65.45997969  0.21092488]\n",
            "Lucro estimado com a melhor solução: 49.984724490524776\n",
            "Custo do consumo de água estimado com a melhor solução: 44.7410234137831\n",
            "O melhor valor da função de fitness foi atingido em 25 gerações.\n"
          ]
        }
      ]
    },
    {
      "cell_type": "markdown",
      "source": [
        "Assim, definimos como padrão:\n",
        "\n",
        "- **Lucro de produção**: **49,98**\n",
        "- **Custo de consumo**: **44,74**\n",
        "- **Lucro total**: **R$5,24**"
      ],
      "metadata": {
        "id": "GIbIFS9RfW98"
      }
    },
    {
      "cell_type": "markdown",
      "source": [
        "## **Simulação 2: Aumentando o número de gerações**\n",
        "A expectativa é que, com mais gerações, a solução final seja mais próxima do ótimo."
      ],
      "metadata": {
        "id": "cMBuBIrCLGtA"
      }
    },
    {
      "cell_type": "code",
      "source": [
        "num_generations = 1000  # Aumentamos o número de gerações para observar uma melhor convergência\n",
        "sol_per_pop = 20\n",
        "num_parents_mating = 10\n",
        "\n",
        "ga_instance = pygad.GA(num_generations=num_generations,\n",
        "                       num_parents_mating=num_parents_mating,\n",
        "                       sol_per_pop=sol_per_pop,\n",
        "                       num_genes=len(function_inputs1),\n",
        "                       fitness_func=fitness_func,\n",
        "                       parent_selection_type='nsga2')\n",
        "\n",
        "ga_instance.run()\n",
        "ga_instance.plot_fitness(label=['Lucro', 'Consumo'])\n",
        "\n",
        "solution, solution_fitness, solution_idx = ga_instance.best_solution(ga_instance.last_generation_fitness)\n",
        "print(f\"Melhores parâmetros encontrados: {solution}\")\n",
        "print(f\"Valor da função de fitness: {solution_fitness}\")\n",
        "\n",
        "prediction1 = numpy.sum(numpy.array(function_inputs1) * solution)\n",
        "print(f\"Lucro estimado com a melhor solução: {prediction1}\")\n",
        "prediction2 = numpy.sum(numpy.array(function_inputs2) * solution)\n",
        "print(f\"Custo do consumo de água estimado com a melhor solução: {-1 * prediction2}\")\n",
        "\n",
        "if ga_instance.best_solution_generation != -1:\n",
        "    print(f\"O melhor valor da função de fitness foi atingido em {ga_instance.best_solution_generation} gerações.\")"
      ],
      "metadata": {
        "colab": {
          "base_uri": "https://localhost:8080/",
          "height": 565
        },
        "id": "aaaxuHmDEP1b",
        "outputId": "54a3688b-911a-4672-a866-525549d7777b"
      },
      "execution_count": 32,
      "outputs": [
        {
          "output_type": "display_data",
          "data": {
            "text/plain": [
              "<Figure size 640x480 with 1 Axes>"
            ],
            "image/png": "[encoded data removed]"
          },
          "metadata": {}
        },
        {
          "output_type": "stream",
          "name": "stdout",
          "text": [
            "Melhores parâmetros encontrados: [-1.48949613  3.66890268  4.11994058]\n",
            "Valor da função de fitness: [ 0.42157613 12.82372361]\n",
            "Lucro estimado com a melhor solução: 47.62795019578341\n",
            "Custo do consumo de água estimado com a melhor solução: 40.07797947046784\n",
            "O melhor valor da função de fitness foi atingido em 528 gerações.\n"
          ]
        }
      ]
    },
    {
      "cell_type": "markdown",
      "source": [
        "- **Lucro de produção**: **47,63**\n",
        "- **Custo de consumo**: **40,08**\n",
        "- **Lucro total**: **R$7,55**\n",
        "\n",
        "Aumentar o número de gerações em 10 vezes **aumentou o lucro total** em **R$2,31** e **reduziu o custo do consumo de água** em **4,66 reais**."
      ],
      "metadata": {
        "id": "LqB1ZgLggW8R"
      }
    },
    {
      "cell_type": "markdown",
      "source": [
        "## **Simulação 3: Aumentando o tamanho da população**\n",
        "Um maior número de soluções na população pode levar a uma melhor convergência."
      ],
      "metadata": {
        "id": "IL_06u2nLNDi"
      }
    },
    {
      "cell_type": "code",
      "source": [
        "num_generations = 100\n",
        "sol_per_pop = 50  # Maior diversidade na população inicial\n",
        "num_parents_mating = 10\n",
        "\n",
        "ga_instance = pygad.GA(num_generations=num_generations,\n",
        "                       num_parents_mating=num_parents_mating,\n",
        "                       sol_per_pop=sol_per_pop,\n",
        "                       num_genes=len(function_inputs1),\n",
        "                       fitness_func=fitness_func,\n",
        "                       parent_selection_type='nsga2')\n",
        "\n",
        "ga_instance.run()\n",
        "ga_instance.plot_fitness(label=['Lucro', 'Consumo'])\n",
        "\n",
        "solution, solution_fitness, solution_idx = ga_instance.best_solution(ga_instance.last_generation_fitness)\n",
        "print(f\"Melhores parâmetros encontrados: {solution}\")\n",
        "print(f\"Valor da função de fitness: {solution_fitness}\")\n",
        "\n",
        "prediction1 = numpy.sum(numpy.array(function_inputs1) * solution)\n",
        "print(f\"Lucro estimado com a melhor solução: {prediction1}\")\n",
        "prediction2 = numpy.sum(numpy.array(function_inputs2) * solution)\n",
        "print(f\"Custo do consumo de água estimado com a melhor solução: {-1 * prediction2}\")\n",
        "\n",
        "if ga_instance.best_solution_generation != -1:\n",
        "    print(f\"O melhor valor da função de fitness foi atingido em {ga_instance.best_solution_generation} gerações.\")"
      ],
      "metadata": {
        "colab": {
          "base_uri": "https://localhost:8080/",
          "height": 565
        },
        "id": "ZAfa20yoERa9",
        "outputId": "cda92520-9b18-4acd-b66d-a4e633391e46"
      },
      "execution_count": 31,
      "outputs": [
        {
          "output_type": "display_data",
          "data": {
            "text/plain": [
              "<Figure size 640x480 with 1 Axes>"
            ],
            "image/png": "[encoded data removed]"
          },
          "metadata": {}
        },
        {
          "output_type": "stream",
          "name": "stdout",
          "text": [
            "Melhores parâmetros encontrados: [-0.97738388  2.6197673   4.25666674]\n",
            "Valor da função de fitness: [4.64345636e-01 5.25721073e+02]\n",
            "Lucro estimado com a melhor solução: 47.84643279146445\n",
            "Custo do consumo de água estimado com a melhor solução: 39.998098850646514\n",
            "O melhor valor da função de fitness foi atingido em 78 gerações.\n"
          ]
        }
      ]
    },
    {
      "cell_type": "markdown",
      "source": [
        "- **Lucro de produção**: **47,85**\n",
        "- **Custo de consumo**: **40,00**\n",
        "- **Lucro total**: **R$7,85**\n",
        "\n",
        "Com o aumento do tamanho da população, o **lucro total aumentou em R$2,61**."
      ],
      "metadata": {
        "id": "dLQkpFlnguzj"
      }
    },
    {
      "cell_type": "markdown",
      "source": [
        "## **Simulação 4: Aumentando o número de pais na reprodução**\n",
        "Um maior número de pais permite mais combinações genéticas, possivelmente melhorando a qualidade das soluções."
      ],
      "metadata": {
        "id": "WE6i-1yZLR7u"
      }
    },
    {
      "cell_type": "code",
      "source": [
        "num_generations = 100\n",
        "sol_per_pop = 20\n",
        "num_parents_mating = 15  # Maior diversidade genética na reprodução\n",
        "\n",
        "ga_instance = pygad.GA(num_generations=num_generations,\n",
        "                       num_parents_mating=num_parents_mating,\n",
        "                       sol_per_pop=sol_per_pop,\n",
        "                       num_genes=len(function_inputs1),\n",
        "                       fitness_func=fitness_func,\n",
        "                       parent_selection_type='nsga2')\n",
        "\n",
        "ga_instance.run()\n",
        "ga_instance.plot_fitness(label=['Lucro', 'Consumo'])\n",
        "\n",
        "solution, solution_fitness, solution_idx = ga_instance.best_solution(ga_instance.last_generation_fitness)\n",
        "print(f\"Melhores parâmetros encontrados: {solution}\")\n",
        "print(f\"Valor da função de fitness: {solution_fitness}\")\n",
        "\n",
        "prediction1 = numpy.sum(numpy.array(function_inputs1) * solution)\n",
        "print(f\"Lucro estimado com a melhor solução: {prediction1}\")\n",
        "prediction2 = numpy.sum(numpy.array(function_inputs2) * solution)\n",
        "print(f\"Custo do consumo de água estimado com a melhor solução: {-1 * prediction2}\")\n",
        "\n",
        "if ga_instance.best_solution_generation != -1:\n",
        "    print(f\"O melhor valor da função de fitness foi atingido em {ga_instance.best_solution_generation} gerações.\")"
      ],
      "metadata": {
        "colab": {
          "base_uri": "https://localhost:8080/",
          "height": 637
        },
        "id": "ozb71O-eESvO",
        "outputId": "163fc93e-a94a-4478-f3c2-fa8e7c84ca61"
      },
      "execution_count": 30,
      "outputs": [
        {
          "output_type": "stream",
          "name": "stderr",
          "text": [
            "/usr/local/lib/python3.11/dist-packages/pygad/pygad.py:724: UserWarning: The percentage of genes to mutate (mutation_percent_genes=10) resulted in selecting (0) genes. The number of genes to mutate is set to 1 (mutation_num_genes=1).\n",
            "If you do not want to mutate any gene, please set mutation_type=None.\n",
            "  warnings.warn(\n"
          ]
        },
        {
          "output_type": "display_data",
          "data": {
            "text/plain": [
              "<Figure size 640x480 with 1 Axes>"
            ],
            "image/png": "[encoded data removed]"
          },
          "metadata": {}
        },
        {
          "output_type": "stream",
          "name": "stdout",
          "text": [
            "Melhores parâmetros encontrados: [ 3.84307782 -4.43777801  4.14448505]\n",
            "Valor da função de fitness: [1.71224010e+03 2.01613247e-01]\n",
            "Lucro estimado com a melhor solução: 50.000583030242936\n",
            "Custo do consumo de água estimado com a melhor solução: 44.95999055352786\n",
            "O melhor valor da função de fitness foi atingido em 99 gerações.\n"
          ]
        }
      ]
    },
    {
      "cell_type": "markdown",
      "source": [
        "- **Lucro de produção**: **50,00**\n",
        "- **Custo de consumo**: **44,96**\n",
        "- **Lucro total**: **R$5,04**\n",
        "\n",
        "O lucro foi **maior** que o padrão, mas o **custo com água foi maior**."
      ],
      "metadata": {
        "id": "offauHEahunm"
      }
    },
    {
      "cell_type": "markdown",
      "source": [
        "# **Referências**\n",
        "\n",
        "GAD, Ahmed Fawzy. Pygad: An intuitive genetic algorithm python library. *Springer*, 2023. Disponível em https://pygad.readthedocs.io/en/latest/index.html#. Acesso em: 02 abr. 2025.\n",
        "\n",
        "PYGAD - PYTHON GENETIC ALGORITHM. *Linear Model Optimization: Multi-Objective*, 2023. Meio eletrônico. Disponível em https://pygad.readthedocs.io/en/latest/pygad.html#linear-model-optimization-multi-objective. Acesso em: 02 abr. 2025."
      ],
      "metadata": {
        "id": "7LtXrRFr4hg3"
      }
    },
    {
      "cell_type": "markdown",
      "metadata": {
        "id": "8crUBC3IQ3U_"
      },
      "source": [
        "---"
      ]
    },
    {
      "cell_type": "code",
      "metadata": {
        "id": "BluFtfHuCGzm",
        "cellView": "form"
      },
      "source": [
        "#@title **Avaliação**\n",
        "Resumo = 10 #@param {type:\"slider\", min:0, max:10, step:1}\n",
        "\n",
        "Descricao_solucao = 7 #@param {type:\"slider\", min:0, max:10, step:1}\n",
        "\n",
        "Implementacao = 9 #@param {type:\"slider\", min:0, max:10, step:1}\n",
        "\n",
        "Resultados = 6 #@param {type:\"slider\", min:0, max:10, step:1}\n",
        "\n",
        "Referencias = 7 #@param {type:\"slider\", min:0, max:10, step:1}\n",
        "\n",
        "Geral = 7 #@param {type:\"slider\", min:0, max:10, step:1}\n",
        "\n",
        "\n",
        "\n",
        "\n",
        "\n",
        "\n"
      ],
      "execution_count": 22,
      "outputs": []
    },
    {
      "cell_type": "code",
      "metadata": {
        "colab": {
          "base_uri": "https://localhost:8080/",
          "height": 241
        },
        "id": "2Gqw7hUZHyle",
        "cellView": "form",
        "outputId": "590c1216-8503-46b8-865c-7df546ac4702"
      },
      "source": [
        "#@title **Nota Final**\n",
        "nota = Resumo + Descricao_solucao + Implementacao + Resultados + Referencias + Geral\n",
        "\n",
        "nota = nota / 6\n",
        "\n",
        "print(f'Nota final do trabalho {nota :.1f}')\n",
        "\n",
        "import numpy as np\n",
        "import pandas as pd\n",
        "\n",
        "alunos = pd.DataFrame()\n",
        "\n",
        "lista_tia = []\n",
        "lista_nome = []\n",
        "\n",
        "for i in range(1,6):\n",
        "  exec(\"if Aluno\" + str(i) + \" !='None':  lista = Aluno\" + str(i) + \".split(','); lista_tia.append(lista[0]); lista_nome.append(lista[1].upper())\")\n",
        "\n",
        "alunos['tia'] = lista_tia\n",
        "alunos['nome'] = lista_nome\n",
        "alunos['nota'] = np.round(nota,1)\n",
        "print()\n",
        "display(alunos)"
      ],
      "execution_count": 23,
      "outputs": [
        {
          "output_type": "stream",
          "name": "stdout",
          "text": [
            "Nota final do trabalho 7.7\n",
            "\n"
          ]
        },
        {
          "output_type": "display_data",
          "data": {
            "text/plain": [
              "        tia                           nome  nota\n",
              "0  10402412         DIEGO OLIVEIRA ALUIZIO   7.7\n",
              "1  10396490     JÔNATAS GARCIA DE OLIVEIRA   7.7\n",
              "2  10403046      LIVIA ALABARSE DOS SANTOS   7.7\n",
              "3  10403028         MARINA SCABELLO MARTIN   7.7\n",
              "4  10265432   PEDRO HENRIQUE ARAUJO FARIAS   7.7"
            ],
            "text/html": [
              "\n",
              "  <div id=\"df-227e3717-50e5-48db-8509-06b89f3efb61\" class=\"colab-df-container\">\n",
              "    <div>\n",
              "<style scoped>\n",
              "    .dataframe tbody tr th:only-of-type {\n",
              "        vertical-align: middle;\n",
              "    }\n",
              "\n",
              "    .dataframe tbody tr th {\n",
              "        vertical-align: top;\n",
              "    }\n",
              "\n",
              "    .dataframe thead th {\n",
              "        text-align: right;\n",
              "    }\n",
              "</style>\n",
              "<table border=\"1\" class=\"dataframe\">\n",
              "  <thead>\n",
              "    <tr style=\"text-align: right;\">\n",
              "      <th></th>\n",
              "      <th>tia</th>\n",
              "      <th>nome</th>\n",
              "      <th>nota</th>\n",
              "    </tr>\n",
              "  </thead>\n",
              "  <tbody>\n",
              "    <tr>\n",
              "      <th>0</th>\n",
              "      <td>10402412</td>\n",
              "      <td>DIEGO OLIVEIRA ALUIZIO</td>\n",
              "      <td>7.7</td>\n",
              "    </tr>\n",
              "    <tr>\n",
              "      <th>1</th>\n",
              "      <td>10396490</td>\n",
              "      <td>JÔNATAS GARCIA DE OLIVEIRA</td>\n",
              "      <td>7.7</td>\n",
              "    </tr>\n",
              "    <tr>\n",
              "      <th>2</th>\n",
              "      <td>10403046</td>\n",
              "      <td>LIVIA ALABARSE DOS SANTOS</td>\n",
              "      <td>7.7</td>\n",
              "    </tr>\n",
              "    <tr>\n",
              "      <th>3</th>\n",
              "      <td>10403028</td>\n",
              "      <td>MARINA SCABELLO MARTIN</td>\n",
              "      <td>7.7</td>\n",
              "    </tr>\n",
              "    <tr>\n",
              "      <th>4</th>\n",
              "      <td>10265432</td>\n",
              "      <td>PEDRO HENRIQUE ARAUJO FARIAS</td>\n",
              "      <td>7.7</td>\n",
              "    </tr>\n",
              "  </tbody>\n",
              "</table>\n",
              "</div>\n",
              "    <div class=\"colab-df-buttons\">\n",
              "\n",
              "  <div class=\"colab-df-container\">\n",
              "    <button class=\"colab-df-convert\" onclick=\"convertToInteractive('df-227e3717-50e5-48db-8509-06b89f3efb61')\"\n",
              "            title=\"Convert this dataframe to an interactive table.\"\n",
              "            style=\"display:none;\">\n",
              "\n",
              "  <svg xmlns=\"http://www.w3.org/2000/svg\" height=\"24px\" viewBox=\"0 -960 960 960\">\n",
              "    <path d=\"M120-120v-720h720v720H120Zm60-500h600v-160H180v160Zm220 220h160v-160H400v160Zm0 220h160v-160H400v160ZM180-400h160v-160H180v160Zm440 0h160v-160H620v160ZM180-180h160v-160H180v160Zm440 0h160v-160H620v160Z\"/>\n",
              "  </svg>\n",
              "    </button>\n",
              "\n",
              "  <style>\n",
              "    .colab-df-container {\n",
              "      display:flex;\n",
              "      gap: 12px;\n",
              "    }\n",
              "\n",
              "    .colab-df-convert {\n",
              "      background-color: #E8F0FE;\n",
              "      border: none;\n",
              "      border-radius: 50%;\n",
              "      cursor: pointer;\n",
              "      display: none;\n",
              "      fill: #1967D2;\n",
              "      height: 32px;\n",
              "      padding: 0 0 0 0;\n",
              "      width: 32px;\n",
              "    }\n",
              "\n",
              "    .colab-df-convert:hover {\n",
              "      background-color: #E2EBFA;\n",
              "      box-shadow: 0px 1px 2px rgba(60, 64, 67, 0.3), 0px 1px 3px 1px rgba(60, 64, 67, 0.15);\n",
              "      fill: #174EA6;\n",
              "    }\n",
              "\n",
              "    .colab-df-buttons div {\n",
              "      margin-bottom: 4px;\n",
              "    }\n",
              "\n",
              "    [theme=dark] .colab-df-convert {\n",
              "      background-color: #3B4455;\n",
              "      fill: #D2E3FC;\n",
              "    }\n",
              "\n",
              "    [theme=dark] .colab-df-convert:hover {\n",
              "      background-color: #434B5C;\n",
              "      box-shadow: 0px 1px 3px 1px rgba(0, 0, 0, 0.15);\n",
              "      filter: drop-shadow(0px 1px 2px rgba(0, 0, 0, 0.3));\n",
              "      fill: #FFFFFF;\n",
              "    }\n",
              "  </style>\n",
              "\n",
              "    <script>\n",
              "      const buttonEl =\n",
              "        document.querySelector('#df-227e3717-50e5-48db-8509-06b89f3efb61 button.colab-df-convert');\n",
              "      buttonEl.style.display =\n",
              "        google.colab.kernel.accessAllowed ? 'block' : 'none';\n",
              "\n",
              "      async function convertToInteractive(key) {\n",
              "        const element = document.querySelector('#df-227e3717-50e5-48db-8509-06b89f3efb61');\n",
              "        const dataTable =\n",
              "          await google.colab.kernel.invokeFunction('convertToInteractive',\n",
              "                                                    [key], {});\n",
              "        if (!dataTable) return;\n",
              "\n",
              "        const docLinkHtml = 'Like what you see? Visit the ' +\n",
              "          '<a target=\"_blank\" href=https://colab.research.google.com/notebooks/data_table.ipynb>data table notebook</a>'\n",
              "          + ' to learn more about interactive tables.';\n",
              "        element.innerHTML = '';\n",
              "        dataTable['output_type'] = 'display_data';\n",
              "        await google.colab.output.renderOutput(dataTable, element);\n",
              "        const docLink = document.createElement('div');\n",
              "        docLink.innerHTML = docLinkHtml;\n",
              "        element.appendChild(docLink);\n",
              "      }\n",
              "    </script>\n",
              "  </div>\n",
              "\n",
              "\n",
              "<div id=\"df-65120eba-8e37-46c2-a49d-904c85e9ade6\">\n",
              "  <button class=\"colab-df-quickchart\" onclick=\"quickchart('df-65120eba-8e37-46c2-a49d-904c85e9ade6')\"\n",
              "            title=\"Suggest charts\"\n",
              "            style=\"display:none;\">\n",
              "\n",
              "<svg xmlns=\"http://www.w3.org/2000/svg\" height=\"24px\"viewBox=\"0 0 24 24\"\n",
              "     width=\"24px\">\n",
              "    <g>\n",
              "        <path d=\"M19 3H5c-1.1 0-2 .9-2 2v14c0 1.1.9 2 2 2h14c1.1 0 2-.9 2-2V5c0-1.1-.9-2-2-2zM9 17H7v-7h2v7zm4 0h-2V7h2v10zm4 0h-2v-4h2v4z\"/>\n",
              "    </g>\n",
              "</svg>\n",
              "  </button>\n",
              "\n",
              "<style>\n",
              "  .colab-df-quickchart {\n",
              "      --bg-color: #E8F0FE;\n",
              "      --fill-color: #1967D2;\n",
              "      --hover-bg-color: #E2EBFA;\n",
              "      --hover-fill-color: #174EA6;\n",
              "      --disabled-fill-color: #AAA;\n",
              "      --disabled-bg-color: #DDD;\n",
              "  }\n",
              "\n",
              "  [theme=dark] .colab-df-quickchart {\n",
              "      --bg-color: #3B4455;\n",
              "      --fill-color: #D2E3FC;\n",
              "      --hover-bg-color: #434B5C;\n",
              "      --hover-fill-color: #FFFFFF;\n",
              "      --disabled-bg-color: #3B4455;\n",
              "      --disabled-fill-color: #666;\n",
              "  }\n",
              "\n",
              "  .colab-df-quickchart {\n",
              "    background-color: var(--bg-color);\n",
              "    border: none;\n",
              "    border-radius: 50%;\n",
              "    cursor: pointer;\n",
              "    display: none;\n",
              "    fill: var(--fill-color);\n",
              "    height: 32px;\n",
              "    padding: 0;\n",
              "    width: 32px;\n",
              "  }\n",
              "\n",
              "  .colab-df-quickchart:hover {\n",
              "    background-color: var(--hover-bg-color);\n",
              "    box-shadow: 0 1px 2px rgba(60, 64, 67, 0.3), 0 1px 3px 1px rgba(60, 64, 67, 0.15);\n",
              "    fill: var(--button-hover-fill-color);\n",
              "  }\n",
              "\n",
              "  .colab-df-quickchart-complete:disabled,\n",
              "  .colab-df-quickchart-complete:disabled:hover {\n",
              "    background-color: var(--disabled-bg-color);\n",
              "    fill: var(--disabled-fill-color);\n",
              "    box-shadow: none;\n",
              "  }\n",
              "\n",
              "  .colab-df-spinner {\n",
              "    border: 2px solid var(--fill-color);\n",
              "    border-color: transparent;\n",
              "    border-bottom-color: var(--fill-color);\n",
              "    animation:\n",
              "      spin 1s steps(1) infinite;\n",
              "  }\n",
              "\n",
              "  @keyframes spin {\n",
              "    0% {\n",
              "      border-color: transparent;\n",
              "      border-bottom-color: var(--fill-color);\n",
              "      border-left-color: var(--fill-color);\n",
              "    }\n",
              "    20% {\n",
              "      border-color: transparent;\n",
              "      border-left-color: var(--fill-color);\n",
              "      border-top-color: var(--fill-color);\n",
              "    }\n",
              "    30% {\n",
              "      border-color: transparent;\n",
              "      border-left-color: var(--fill-color);\n",
              "      border-top-color: var(--fill-color);\n",
              "      border-right-color: var(--fill-color);\n",
              "    }\n",
              "    40% {\n",
              "      border-color: transparent;\n",
              "      border-right-color: var(--fill-color);\n",
              "      border-top-color: var(--fill-color);\n",
              "    }\n",
              "    60% {\n",
              "      border-color: transparent;\n",
              "      border-right-color: var(--fill-color);\n",
              "    }\n",
              "    80% {\n",
              "      border-color: transparent;\n",
              "      border-right-color: var(--fill-color);\n",
              "      border-bottom-color: var(--fill-color);\n",
              "    }\n",
              "    90% {\n",
              "      border-color: transparent;\n",
              "      border-bottom-color: var(--fill-color);\n",
              "    }\n",
              "  }\n",
              "</style>\n",
              "\n",
              "  <script>\n",
              "    async function quickchart(key) {\n",
              "      const quickchartButtonEl =\n",
              "        document.querySelector('#' + key + ' button');\n",
              "      quickchartButtonEl.disabled = true;  // To prevent multiple clicks.\n",
              "      quickchartButtonEl.classList.add('colab-df-spinner');\n",
              "      try {\n",
              "        const charts = await google.colab.kernel.invokeFunction(\n",
              "            'suggestCharts', [key], {});\n",
              "      } catch (error) {\n",
              "        console.error('Error during call to suggestCharts:', error);\n",
              "      }\n",
              "      quickchartButtonEl.classList.remove('colab-df-spinner');\n",
              "      quickchartButtonEl.classList.add('colab-df-quickchart-complete');\n",
              "    }\n",
              "    (() => {\n",
              "      let quickchartButtonEl =\n",
              "        document.querySelector('#df-65120eba-8e37-46c2-a49d-904c85e9ade6 button');\n",
              "      quickchartButtonEl.style.display =\n",
              "        google.colab.kernel.accessAllowed ? 'block' : 'none';\n",
              "    })();\n",
              "  </script>\n",
              "</div>\n",
              "\n",
              "  <div id=\"id_62548736-6f1b-49c5-bcac-5dc4c3163fa2\">\n",
              "    <style>\n",
              "      .colab-df-generate {\n",
              "        background-color: #E8F0FE;\n",
              "        border: none;\n",
              "        border-radius: 50%;\n",
              "        cursor: pointer;\n",
              "        display: none;\n",
              "        fill: #1967D2;\n",
              "        height: 32px;\n",
              "        padding: 0 0 0 0;\n",
              "        width: 32px;\n",
              "      }\n",
              "\n",
              "      .colab-df-generate:hover {\n",
              "        background-color: #E2EBFA;\n",
              "        box-shadow: 0px 1px 2px rgba(60, 64, 67, 0.3), 0px 1px 3px 1px rgba(60, 64, 67, 0.15);\n",
              "        fill: #174EA6;\n",
              "      }\n",
              "\n",
              "      [theme=dark] .colab-df-generate {\n",
              "        background-color: #3B4455;\n",
              "        fill: #D2E3FC;\n",
              "      }\n",
              "\n",
              "      [theme=dark] .colab-df-generate:hover {\n",
              "        background-color: #434B5C;\n",
              "        box-shadow: 0px 1px 3px 1px rgba(0, 0, 0, 0.15);\n",
              "        filter: drop-shadow(0px 1px 2px rgba(0, 0, 0, 0.3));\n",
              "        fill: #FFFFFF;\n",
              "      }\n",
              "    </style>\n",
              "    <button class=\"colab-df-generate\" onclick=\"generateWithVariable('alunos')\"\n",
              "            title=\"Generate code using this dataframe.\"\n",
              "            style=\"display:none;\">\n",
              "\n",
              "  <svg xmlns=\"http://www.w3.org/2000/svg\" height=\"24px\"viewBox=\"0 0 24 24\"\n",
              "       width=\"24px\">\n",
              "    <path d=\"M7,19H8.4L18.45,9,17,7.55,7,17.6ZM5,21V16.75L18.45,3.32a2,2,0,0,1,2.83,0l1.4,1.43a1.91,1.91,0,0,1,.58,1.4,1.91,1.91,0,0,1-.58,1.4L9.25,21ZM18.45,9,17,7.55Zm-12,3A5.31,5.31,0,0,0,4.9,8.1,5.31,5.31,0,0,0,1,6.5,5.31,5.31,0,0,0,4.9,4.9,5.31,5.31,0,0,0,6.5,1,5.31,5.31,0,0,0,8.1,4.9,5.31,5.31,0,0,0,12,6.5,5.46,5.46,0,0,0,6.5,12Z\"/>\n",
              "  </svg>\n",
              "    </button>\n",
              "    <script>\n",
              "      (() => {\n",
              "      const buttonEl =\n",
              "        document.querySelector('#id_62548736-6f1b-49c5-bcac-5dc4c3163fa2 button.colab-df-generate');\n",
              "      buttonEl.style.display =\n",
              "        google.colab.kernel.accessAllowed ? 'block' : 'none';\n",
              "\n",
              "      buttonEl.onclick = () => {\n",
              "        google.colab.notebook.generateWithVariable('alunos');\n",
              "      }\n",
              "      })();\n",
              "    </script>\n",
              "  </div>\n",
              "\n",
              "    </div>\n",
              "  </div>\n"
            ],
            "application/vnd.google.colaboratory.intrinsic+json": {
              "type": "dataframe",
              "variable_name": "alunos",
              "summary": "{\n  \"name\": \"alunos\",\n  \"rows\": 5,\n  \"fields\": [\n    {\n      \"column\": \"tia\",\n      \"properties\": {\n        \"dtype\": \"string\",\n        \"num_unique_values\": 5,\n        \"samples\": [\n          \"10396490\",\n          \"10265432\",\n          \"10403046\"\n        ],\n        \"semantic_type\": \"\",\n        \"description\": \"\"\n      }\n    },\n    {\n      \"column\": \"nome\",\n      \"properties\": {\n        \"dtype\": \"string\",\n        \"num_unique_values\": 5,\n        \"samples\": [\n          \" J\\u00d4NATAS GARCIA DE OLIVEIRA\",\n          \" PEDRO HENRIQUE ARAUJO FARIAS\",\n          \" LIVIA ALABARSE DOS SANTOS\"\n        ],\n        \"semantic_type\": \"\",\n        \"description\": \"\"\n      }\n    },\n    {\n      \"column\": \"nota\",\n      \"properties\": {\n        \"dtype\": \"number\",\n        \"std\": 0.0,\n        \"min\": 7.7,\n        \"max\": 7.7,\n        \"num_unique_values\": 1,\n        \"samples\": [\n          7.7\n        ],\n        \"semantic_type\": \"\",\n        \"description\": \"\"\n      }\n    }\n  ]\n}"
            }
          },
          "metadata": {}
        }
      ]
    }
  ]
}